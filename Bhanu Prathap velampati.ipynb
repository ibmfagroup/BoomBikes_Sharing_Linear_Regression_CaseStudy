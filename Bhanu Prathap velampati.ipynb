{
 "cells": [
  {
   "cell_type": "markdown",
   "id": "56743c82",
   "metadata": {},
   "source": [
    "# Case_Study_by_\"Bhanu Prathap Velampati\"\n",
    "# Batch_ML_36"
   ]
  },
  {
   "cell_type": "markdown",
   "id": "68c8c3e8",
   "metadata": {},
   "source": [
    "# Problem_Statement"
   ]
  },
  {
   "cell_type": "markdown",
   "id": "31a62f7a",
   "metadata": {},
   "source": [
    "A bike-sharing system is a service in which bikes are made available for shared use to individuals on a short term basis for a price or free. Many bike share systems allow people to borrow a bike from a \"dock\" which is usually computer-controlled wherein the user enters the payment information, and the system unlocks it. This bike can then be returned to another dock belonging to the same system.\n",
    "\n",
    "\n",
    "A US bike-sharing provider BoomBikes has recently suffered considerable dips in their revenues due to the ongoing Corona pandemic. The company is finding it very difficult to sustain in the current market scenario. So, it has decided to come up with a mindful business plan to be able to accelerate its revenue as soon as the ongoing lockdown comes to an end, and the economy restores to a healthy state. \n",
    "\n",
    "\n",
    "In such an attempt, BoomBikes aspires to understand the demand for shared bikes among the people after this ongoing quarantine situation ends across the nation due to Covid-19. They have planned this to prepare themselves to cater to the people's needs once the situation gets better all around and stand out from other service providers and make huge profits.\n",
    "\n",
    "\n",
    "They have contracted a consulting company to understand the factors on which the demand for these shared bikes depends. Specifically, they want to understand the factors affecting the demand for these shared bikes in the American market. The company wants to know:\n",
    "\n",
    "Which variables are significant in predicting the demand for shared bikes.\n",
    "How well those variables describe the bike demands\n",
    "Based on various meteorological surveys and people's styles, the service provider firm has gathered a large dataset on daily bike demands across the American market based on some factors. "
   ]
  },
  {
   "cell_type": "markdown",
   "id": "3485d366",
   "metadata": {},
   "source": [
    "# Business Goal\n",
    "\n",
    "You are required to model the demand for shared bikes with the available independent variables. It will be used by the management to understand how exactly the demands vary with different features. They can accordingly manipulate the business strategy to meet the demand levels and meet the customer's expectations. Further, the model will be a good way for management to understand the demand dynamics of a new market. "
   ]
  },
  {
   "cell_type": "markdown",
   "id": "b640acd4",
   "metadata": {},
   "source": [
    "## ---------------------------------------------------------------------------------------------------------------------------------------------------------------------------------------------------------------------------------------------------------------------------------------------------------------------------------------------------------------------------------------------------------"
   ]
  },
  {
   "cell_type": "code",
   "execution_count": 1,
   "id": "8875fc44",
   "metadata": {},
   "outputs": [],
   "source": [
    "#importing all incessary libraries. Later remaining libraries also will be imported as and when required"
   ]
  },
  {
   "cell_type": "code",
   "execution_count": 2,
   "id": "c22fdc1a",
   "metadata": {},
   "outputs": [],
   "source": [
    "import numpy as np\n",
    "import pandas as pd\n",
    "import matplotlib.pyplot as plt\n",
    "import seaborn as sns"
   ]
  },
  {
   "cell_type": "markdown",
   "id": "22edf76a",
   "metadata": {},
   "source": [
    "# 1. Import day dataset and execute EDA and correlation between variables"
   ]
  },
  {
   "cell_type": "code",
   "execution_count": 3,
   "id": "af039715",
   "metadata": {},
   "outputs": [],
   "source": [
    "bike_ds = pd.read_csv('day.csv')"
   ]
  },
  {
   "cell_type": "code",
   "execution_count": 4,
   "id": "cde3c067",
   "metadata": {},
   "outputs": [
    {
     "data": {
      "text/html": [
       "<div>\n",
       "<style scoped>\n",
       "    .dataframe tbody tr th:only-of-type {\n",
       "        vertical-align: middle;\n",
       "    }\n",
       "\n",
       "    .dataframe tbody tr th {\n",
       "        vertical-align: top;\n",
       "    }\n",
       "\n",
       "    .dataframe thead th {\n",
       "        text-align: right;\n",
       "    }\n",
       "</style>\n",
       "<table border=\"1\" class=\"dataframe\">\n",
       "  <thead>\n",
       "    <tr style=\"text-align: right;\">\n",
       "      <th></th>\n",
       "      <th>instant</th>\n",
       "      <th>dteday</th>\n",
       "      <th>season</th>\n",
       "      <th>yr</th>\n",
       "      <th>mnth</th>\n",
       "      <th>holiday</th>\n",
       "      <th>weekday</th>\n",
       "      <th>workingday</th>\n",
       "      <th>weathersit</th>\n",
       "      <th>temp</th>\n",
       "      <th>atemp</th>\n",
       "      <th>hum</th>\n",
       "      <th>windspeed</th>\n",
       "      <th>casual</th>\n",
       "      <th>registered</th>\n",
       "      <th>cnt</th>\n",
       "    </tr>\n",
       "  </thead>\n",
       "  <tbody>\n",
       "    <tr>\n",
       "      <th>0</th>\n",
       "      <td>1</td>\n",
       "      <td>01-01-2018</td>\n",
       "      <td>1</td>\n",
       "      <td>0</td>\n",
       "      <td>1</td>\n",
       "      <td>0</td>\n",
       "      <td>6</td>\n",
       "      <td>0</td>\n",
       "      <td>2</td>\n",
       "      <td>14.110847</td>\n",
       "      <td>18.18125</td>\n",
       "      <td>80.5833</td>\n",
       "      <td>10.749882</td>\n",
       "      <td>331</td>\n",
       "      <td>654</td>\n",
       "      <td>985</td>\n",
       "    </tr>\n",
       "    <tr>\n",
       "      <th>1</th>\n",
       "      <td>2</td>\n",
       "      <td>02-01-2018</td>\n",
       "      <td>1</td>\n",
       "      <td>0</td>\n",
       "      <td>1</td>\n",
       "      <td>0</td>\n",
       "      <td>0</td>\n",
       "      <td>0</td>\n",
       "      <td>2</td>\n",
       "      <td>14.902598</td>\n",
       "      <td>17.68695</td>\n",
       "      <td>69.6087</td>\n",
       "      <td>16.652113</td>\n",
       "      <td>131</td>\n",
       "      <td>670</td>\n",
       "      <td>801</td>\n",
       "    </tr>\n",
       "    <tr>\n",
       "      <th>2</th>\n",
       "      <td>3</td>\n",
       "      <td>03-01-2018</td>\n",
       "      <td>1</td>\n",
       "      <td>0</td>\n",
       "      <td>1</td>\n",
       "      <td>0</td>\n",
       "      <td>1</td>\n",
       "      <td>1</td>\n",
       "      <td>1</td>\n",
       "      <td>8.050924</td>\n",
       "      <td>9.47025</td>\n",
       "      <td>43.7273</td>\n",
       "      <td>16.636703</td>\n",
       "      <td>120</td>\n",
       "      <td>1229</td>\n",
       "      <td>1349</td>\n",
       "    </tr>\n",
       "    <tr>\n",
       "      <th>3</th>\n",
       "      <td>4</td>\n",
       "      <td>04-01-2018</td>\n",
       "      <td>1</td>\n",
       "      <td>0</td>\n",
       "      <td>1</td>\n",
       "      <td>0</td>\n",
       "      <td>2</td>\n",
       "      <td>1</td>\n",
       "      <td>1</td>\n",
       "      <td>8.200000</td>\n",
       "      <td>10.60610</td>\n",
       "      <td>59.0435</td>\n",
       "      <td>10.739832</td>\n",
       "      <td>108</td>\n",
       "      <td>1454</td>\n",
       "      <td>1562</td>\n",
       "    </tr>\n",
       "    <tr>\n",
       "      <th>4</th>\n",
       "      <td>5</td>\n",
       "      <td>05-01-2018</td>\n",
       "      <td>1</td>\n",
       "      <td>0</td>\n",
       "      <td>1</td>\n",
       "      <td>0</td>\n",
       "      <td>3</td>\n",
       "      <td>1</td>\n",
       "      <td>1</td>\n",
       "      <td>9.305237</td>\n",
       "      <td>11.46350</td>\n",
       "      <td>43.6957</td>\n",
       "      <td>12.522300</td>\n",
       "      <td>82</td>\n",
       "      <td>1518</td>\n",
       "      <td>1600</td>\n",
       "    </tr>\n",
       "  </tbody>\n",
       "</table>\n",
       "</div>"
      ],
      "text/plain": [
       "   instant      dteday  season  yr  mnth  holiday  weekday  workingday  \\\n",
       "0        1  01-01-2018       1   0     1        0        6           0   \n",
       "1        2  02-01-2018       1   0     1        0        0           0   \n",
       "2        3  03-01-2018       1   0     1        0        1           1   \n",
       "3        4  04-01-2018       1   0     1        0        2           1   \n",
       "4        5  05-01-2018       1   0     1        0        3           1   \n",
       "\n",
       "   weathersit       temp     atemp      hum  windspeed  casual  registered  \\\n",
       "0           2  14.110847  18.18125  80.5833  10.749882     331         654   \n",
       "1           2  14.902598  17.68695  69.6087  16.652113     131         670   \n",
       "2           1   8.050924   9.47025  43.7273  16.636703     120        1229   \n",
       "3           1   8.200000  10.60610  59.0435  10.739832     108        1454   \n",
       "4           1   9.305237  11.46350  43.6957  12.522300      82        1518   \n",
       "\n",
       "    cnt  \n",
       "0   985  \n",
       "1   801  \n",
       "2  1349  \n",
       "3  1562  \n",
       "4  1600  "
      ]
     },
     "execution_count": 4,
     "metadata": {},
     "output_type": "execute_result"
    }
   ],
   "source": [
    "bike_ds.head()"
   ]
  },
  {
   "cell_type": "code",
   "execution_count": 5,
   "id": "7eeae0dc",
   "metadata": {},
   "outputs": [],
   "source": [
    "#Check for any null values"
   ]
  },
  {
   "cell_type": "code",
   "execution_count": 6,
   "id": "9137b16e",
   "metadata": {},
   "outputs": [
    {
     "name": "stdout",
     "output_type": "stream",
     "text": [
      "<class 'pandas.core.frame.DataFrame'>\n",
      "RangeIndex: 730 entries, 0 to 729\n",
      "Data columns (total 16 columns):\n",
      " #   Column      Non-Null Count  Dtype  \n",
      "---  ------      --------------  -----  \n",
      " 0   instant     730 non-null    int64  \n",
      " 1   dteday      730 non-null    object \n",
      " 2   season      730 non-null    int64  \n",
      " 3   yr          730 non-null    int64  \n",
      " 4   mnth        730 non-null    int64  \n",
      " 5   holiday     730 non-null    int64  \n",
      " 6   weekday     730 non-null    int64  \n",
      " 7   workingday  730 non-null    int64  \n",
      " 8   weathersit  730 non-null    int64  \n",
      " 9   temp        730 non-null    float64\n",
      " 10  atemp       730 non-null    float64\n",
      " 11  hum         730 non-null    float64\n",
      " 12  windspeed   730 non-null    float64\n",
      " 13  casual      730 non-null    int64  \n",
      " 14  registered  730 non-null    int64  \n",
      " 15  cnt         730 non-null    int64  \n",
      "dtypes: float64(4), int64(11), object(1)\n",
      "memory usage: 91.4+ KB\n"
     ]
    }
   ],
   "source": [
    "bike_ds.info()"
   ]
  },
  {
   "cell_type": "code",
   "execution_count": 7,
   "id": "3c89ae20",
   "metadata": {},
   "outputs": [],
   "source": [
    "#As per above info(), looks like no null values.\n",
    "#Also confirm null values using below function"
   ]
  },
  {
   "cell_type": "code",
   "execution_count": 8,
   "id": "aba4f55d",
   "metadata": {},
   "outputs": [
    {
     "data": {
      "text/plain": [
       "instant       0\n",
       "dteday        0\n",
       "season        0\n",
       "yr            0\n",
       "mnth          0\n",
       "holiday       0\n",
       "weekday       0\n",
       "workingday    0\n",
       "weathersit    0\n",
       "temp          0\n",
       "atemp         0\n",
       "hum           0\n",
       "windspeed     0\n",
       "casual        0\n",
       "registered    0\n",
       "cnt           0\n",
       "dtype: int64"
      ]
     },
     "execution_count": 8,
     "metadata": {},
     "output_type": "execute_result"
    }
   ],
   "source": [
    "bike_ds.isnull().sum()"
   ]
  },
  {
   "cell_type": "code",
   "execution_count": 9,
   "id": "e2740ead",
   "metadata": {},
   "outputs": [],
   "source": [
    "# Check the shape of day dataset"
   ]
  },
  {
   "cell_type": "code",
   "execution_count": 10,
   "id": "8133c42f",
   "metadata": {},
   "outputs": [
    {
     "data": {
      "text/plain": [
       "(730, 16)"
      ]
     },
     "execution_count": 10,
     "metadata": {},
     "output_type": "execute_result"
    }
   ],
   "source": [
    "bike_ds.shape"
   ]
  },
  {
   "cell_type": "code",
   "execution_count": 11,
   "id": "761f9f11",
   "metadata": {},
   "outputs": [],
   "source": [
    "#Check some basic statistics of day dataset"
   ]
  },
  {
   "cell_type": "code",
   "execution_count": 12,
   "id": "578e25d1",
   "metadata": {},
   "outputs": [
    {
     "data": {
      "text/html": [
       "<div>\n",
       "<style scoped>\n",
       "    .dataframe tbody tr th:only-of-type {\n",
       "        vertical-align: middle;\n",
       "    }\n",
       "\n",
       "    .dataframe tbody tr th {\n",
       "        vertical-align: top;\n",
       "    }\n",
       "\n",
       "    .dataframe thead th {\n",
       "        text-align: right;\n",
       "    }\n",
       "</style>\n",
       "<table border=\"1\" class=\"dataframe\">\n",
       "  <thead>\n",
       "    <tr style=\"text-align: right;\">\n",
       "      <th></th>\n",
       "      <th>instant</th>\n",
       "      <th>season</th>\n",
       "      <th>yr</th>\n",
       "      <th>mnth</th>\n",
       "      <th>holiday</th>\n",
       "      <th>weekday</th>\n",
       "      <th>workingday</th>\n",
       "      <th>weathersit</th>\n",
       "      <th>temp</th>\n",
       "      <th>atemp</th>\n",
       "      <th>hum</th>\n",
       "      <th>windspeed</th>\n",
       "      <th>casual</th>\n",
       "      <th>registered</th>\n",
       "      <th>cnt</th>\n",
       "    </tr>\n",
       "  </thead>\n",
       "  <tbody>\n",
       "    <tr>\n",
       "      <th>count</th>\n",
       "      <td>730.000000</td>\n",
       "      <td>730.000000</td>\n",
       "      <td>730.000000</td>\n",
       "      <td>730.000000</td>\n",
       "      <td>730.000000</td>\n",
       "      <td>730.000000</td>\n",
       "      <td>730.000000</td>\n",
       "      <td>730.000000</td>\n",
       "      <td>730.000000</td>\n",
       "      <td>730.000000</td>\n",
       "      <td>730.000000</td>\n",
       "      <td>730.000000</td>\n",
       "      <td>730.000000</td>\n",
       "      <td>730.000000</td>\n",
       "      <td>730.000000</td>\n",
       "    </tr>\n",
       "    <tr>\n",
       "      <th>mean</th>\n",
       "      <td>365.500000</td>\n",
       "      <td>2.498630</td>\n",
       "      <td>0.500000</td>\n",
       "      <td>6.526027</td>\n",
       "      <td>0.028767</td>\n",
       "      <td>2.997260</td>\n",
       "      <td>0.683562</td>\n",
       "      <td>1.394521</td>\n",
       "      <td>20.319259</td>\n",
       "      <td>23.726322</td>\n",
       "      <td>62.765175</td>\n",
       "      <td>12.763620</td>\n",
       "      <td>849.249315</td>\n",
       "      <td>3658.757534</td>\n",
       "      <td>4508.006849</td>\n",
       "    </tr>\n",
       "    <tr>\n",
       "      <th>std</th>\n",
       "      <td>210.877136</td>\n",
       "      <td>1.110184</td>\n",
       "      <td>0.500343</td>\n",
       "      <td>3.450215</td>\n",
       "      <td>0.167266</td>\n",
       "      <td>2.006161</td>\n",
       "      <td>0.465405</td>\n",
       "      <td>0.544807</td>\n",
       "      <td>7.506729</td>\n",
       "      <td>8.150308</td>\n",
       "      <td>14.237589</td>\n",
       "      <td>5.195841</td>\n",
       "      <td>686.479875</td>\n",
       "      <td>1559.758728</td>\n",
       "      <td>1936.011647</td>\n",
       "    </tr>\n",
       "    <tr>\n",
       "      <th>min</th>\n",
       "      <td>1.000000</td>\n",
       "      <td>1.000000</td>\n",
       "      <td>0.000000</td>\n",
       "      <td>1.000000</td>\n",
       "      <td>0.000000</td>\n",
       "      <td>0.000000</td>\n",
       "      <td>0.000000</td>\n",
       "      <td>1.000000</td>\n",
       "      <td>2.424346</td>\n",
       "      <td>3.953480</td>\n",
       "      <td>0.000000</td>\n",
       "      <td>1.500244</td>\n",
       "      <td>2.000000</td>\n",
       "      <td>20.000000</td>\n",
       "      <td>22.000000</td>\n",
       "    </tr>\n",
       "    <tr>\n",
       "      <th>25%</th>\n",
       "      <td>183.250000</td>\n",
       "      <td>2.000000</td>\n",
       "      <td>0.000000</td>\n",
       "      <td>4.000000</td>\n",
       "      <td>0.000000</td>\n",
       "      <td>1.000000</td>\n",
       "      <td>0.000000</td>\n",
       "      <td>1.000000</td>\n",
       "      <td>13.811885</td>\n",
       "      <td>16.889713</td>\n",
       "      <td>52.000000</td>\n",
       "      <td>9.041650</td>\n",
       "      <td>316.250000</td>\n",
       "      <td>2502.250000</td>\n",
       "      <td>3169.750000</td>\n",
       "    </tr>\n",
       "    <tr>\n",
       "      <th>50%</th>\n",
       "      <td>365.500000</td>\n",
       "      <td>3.000000</td>\n",
       "      <td>0.500000</td>\n",
       "      <td>7.000000</td>\n",
       "      <td>0.000000</td>\n",
       "      <td>3.000000</td>\n",
       "      <td>1.000000</td>\n",
       "      <td>1.000000</td>\n",
       "      <td>20.465826</td>\n",
       "      <td>24.368225</td>\n",
       "      <td>62.625000</td>\n",
       "      <td>12.125325</td>\n",
       "      <td>717.000000</td>\n",
       "      <td>3664.500000</td>\n",
       "      <td>4548.500000</td>\n",
       "    </tr>\n",
       "    <tr>\n",
       "      <th>75%</th>\n",
       "      <td>547.750000</td>\n",
       "      <td>3.000000</td>\n",
       "      <td>1.000000</td>\n",
       "      <td>10.000000</td>\n",
       "      <td>0.000000</td>\n",
       "      <td>5.000000</td>\n",
       "      <td>1.000000</td>\n",
       "      <td>2.000000</td>\n",
       "      <td>26.880615</td>\n",
       "      <td>30.445775</td>\n",
       "      <td>72.989575</td>\n",
       "      <td>15.625589</td>\n",
       "      <td>1096.500000</td>\n",
       "      <td>4783.250000</td>\n",
       "      <td>5966.000000</td>\n",
       "    </tr>\n",
       "    <tr>\n",
       "      <th>max</th>\n",
       "      <td>730.000000</td>\n",
       "      <td>4.000000</td>\n",
       "      <td>1.000000</td>\n",
       "      <td>12.000000</td>\n",
       "      <td>1.000000</td>\n",
       "      <td>6.000000</td>\n",
       "      <td>1.000000</td>\n",
       "      <td>3.000000</td>\n",
       "      <td>35.328347</td>\n",
       "      <td>42.044800</td>\n",
       "      <td>97.250000</td>\n",
       "      <td>34.000021</td>\n",
       "      <td>3410.000000</td>\n",
       "      <td>6946.000000</td>\n",
       "      <td>8714.000000</td>\n",
       "    </tr>\n",
       "  </tbody>\n",
       "</table>\n",
       "</div>"
      ],
      "text/plain": [
       "          instant      season          yr        mnth     holiday     weekday  \\\n",
       "count  730.000000  730.000000  730.000000  730.000000  730.000000  730.000000   \n",
       "mean   365.500000    2.498630    0.500000    6.526027    0.028767    2.997260   \n",
       "std    210.877136    1.110184    0.500343    3.450215    0.167266    2.006161   \n",
       "min      1.000000    1.000000    0.000000    1.000000    0.000000    0.000000   \n",
       "25%    183.250000    2.000000    0.000000    4.000000    0.000000    1.000000   \n",
       "50%    365.500000    3.000000    0.500000    7.000000    0.000000    3.000000   \n",
       "75%    547.750000    3.000000    1.000000   10.000000    0.000000    5.000000   \n",
       "max    730.000000    4.000000    1.000000   12.000000    1.000000    6.000000   \n",
       "\n",
       "       workingday  weathersit        temp       atemp         hum   windspeed  \\\n",
       "count  730.000000  730.000000  730.000000  730.000000  730.000000  730.000000   \n",
       "mean     0.683562    1.394521   20.319259   23.726322   62.765175   12.763620   \n",
       "std      0.465405    0.544807    7.506729    8.150308   14.237589    5.195841   \n",
       "min      0.000000    1.000000    2.424346    3.953480    0.000000    1.500244   \n",
       "25%      0.000000    1.000000   13.811885   16.889713   52.000000    9.041650   \n",
       "50%      1.000000    1.000000   20.465826   24.368225   62.625000   12.125325   \n",
       "75%      1.000000    2.000000   26.880615   30.445775   72.989575   15.625589   \n",
       "max      1.000000    3.000000   35.328347   42.044800   97.250000   34.000021   \n",
       "\n",
       "            casual   registered          cnt  \n",
       "count   730.000000   730.000000   730.000000  \n",
       "mean    849.249315  3658.757534  4508.006849  \n",
       "std     686.479875  1559.758728  1936.011647  \n",
       "min       2.000000    20.000000    22.000000  \n",
       "25%     316.250000  2502.250000  3169.750000  \n",
       "50%     717.000000  3664.500000  4548.500000  \n",
       "75%    1096.500000  4783.250000  5966.000000  \n",
       "max    3410.000000  6946.000000  8714.000000  "
      ]
     },
     "execution_count": 12,
     "metadata": {},
     "output_type": "execute_result"
    }
   ],
   "source": [
    "bike_ds.describe()"
   ]
  },
  {
   "cell_type": "markdown",
   "id": "24af1b7c",
   "metadata": {},
   "source": [
    "## Data cleaning::"
   ]
  },
  {
   "cell_type": "code",
   "execution_count": 13,
   "id": "7c44260a",
   "metadata": {},
   "outputs": [],
   "source": [
    "#Select only object dtypes and see whether they can be covered to respective date/float/int"
   ]
  },
  {
   "cell_type": "code",
   "execution_count": 14,
   "id": "a8a7a6b3",
   "metadata": {},
   "outputs": [
    {
     "data": {
      "text/plain": [
       "dteday    object\n",
       "dtype: object"
      ]
     },
     "execution_count": 14,
     "metadata": {},
     "output_type": "execute_result"
    }
   ],
   "source": [
    "bike_ds.select_dtypes(include=['object']).dtypes"
   ]
  },
  {
   "cell_type": "code",
   "execution_count": 15,
   "id": "86ca0fee",
   "metadata": {},
   "outputs": [
    {
     "data": {
      "text/plain": [
       "0    01-01-2018\n",
       "1    02-01-2018\n",
       "2    03-01-2018\n",
       "3    04-01-2018\n",
       "4    05-01-2018\n",
       "Name: dteday, dtype: object"
      ]
     },
     "execution_count": 15,
     "metadata": {},
     "output_type": "execute_result"
    }
   ],
   "source": [
    "bike_ds.dteday.head()"
   ]
  },
  {
   "cell_type": "code",
   "execution_count": 16,
   "id": "3997a39b",
   "metadata": {},
   "outputs": [],
   "source": [
    "#dteday variable has date data. Lets convert dtype to datetime"
   ]
  },
  {
   "cell_type": "code",
   "execution_count": 17,
   "id": "fc567e08",
   "metadata": {},
   "outputs": [],
   "source": [
    "bike_ds.dteday=pd.to_datetime(bike_ds['dteday'],format='%d-%m-%Y')"
   ]
  },
  {
   "cell_type": "code",
   "execution_count": 18,
   "id": "de0681bd",
   "metadata": {},
   "outputs": [
    {
     "name": "stdout",
     "output_type": "stream",
     "text": [
      "<class 'pandas.core.frame.DataFrame'>\n",
      "RangeIndex: 730 entries, 0 to 729\n",
      "Data columns (total 16 columns):\n",
      " #   Column      Non-Null Count  Dtype         \n",
      "---  ------      --------------  -----         \n",
      " 0   instant     730 non-null    int64         \n",
      " 1   dteday      730 non-null    datetime64[ns]\n",
      " 2   season      730 non-null    int64         \n",
      " 3   yr          730 non-null    int64         \n",
      " 4   mnth        730 non-null    int64         \n",
      " 5   holiday     730 non-null    int64         \n",
      " 6   weekday     730 non-null    int64         \n",
      " 7   workingday  730 non-null    int64         \n",
      " 8   weathersit  730 non-null    int64         \n",
      " 9   temp        730 non-null    float64       \n",
      " 10  atemp       730 non-null    float64       \n",
      " 11  hum         730 non-null    float64       \n",
      " 12  windspeed   730 non-null    float64       \n",
      " 13  casual      730 non-null    int64         \n",
      " 14  registered  730 non-null    int64         \n",
      " 15  cnt         730 non-null    int64         \n",
      "dtypes: datetime64[ns](1), float64(4), int64(11)\n",
      "memory usage: 91.4 KB\n"
     ]
    }
   ],
   "source": [
    "bike_ds.info()"
   ]
  },
  {
   "cell_type": "code",
   "execution_count": 19,
   "id": "f0677e67",
   "metadata": {},
   "outputs": [
    {
     "data": {
      "text/plain": [
       "0   2018-01-01\n",
       "1   2018-01-02\n",
       "2   2018-01-03\n",
       "3   2018-01-04\n",
       "4   2018-01-05\n",
       "Name: dteday, dtype: datetime64[ns]"
      ]
     },
     "execution_count": 19,
     "metadata": {},
     "output_type": "execute_result"
    }
   ],
   "source": [
    "bike_ds.dteday.head() #Ensure no change is data format when connected to YYYY-MM-DD type"
   ]
  },
  {
   "cell_type": "code",
   "execution_count": 20,
   "id": "8280b02d",
   "metadata": {},
   "outputs": [
    {
     "data": {
      "text/html": [
       "<div>\n",
       "<style scoped>\n",
       "    .dataframe tbody tr th:only-of-type {\n",
       "        vertical-align: middle;\n",
       "    }\n",
       "\n",
       "    .dataframe tbody tr th {\n",
       "        vertical-align: top;\n",
       "    }\n",
       "\n",
       "    .dataframe thead th {\n",
       "        text-align: right;\n",
       "    }\n",
       "</style>\n",
       "<table border=\"1\" class=\"dataframe\">\n",
       "  <thead>\n",
       "    <tr style=\"text-align: right;\">\n",
       "      <th></th>\n",
       "      <th>instant</th>\n",
       "      <th>dteday</th>\n",
       "      <th>season</th>\n",
       "      <th>yr</th>\n",
       "      <th>mnth</th>\n",
       "      <th>holiday</th>\n",
       "      <th>weekday</th>\n",
       "      <th>workingday</th>\n",
       "      <th>weathersit</th>\n",
       "      <th>temp</th>\n",
       "      <th>atemp</th>\n",
       "      <th>hum</th>\n",
       "      <th>windspeed</th>\n",
       "      <th>casual</th>\n",
       "      <th>registered</th>\n",
       "      <th>cnt</th>\n",
       "    </tr>\n",
       "  </thead>\n",
       "  <tbody>\n",
       "    <tr>\n",
       "      <th>0</th>\n",
       "      <td>1</td>\n",
       "      <td>2018-01-01</td>\n",
       "      <td>1</td>\n",
       "      <td>0</td>\n",
       "      <td>1</td>\n",
       "      <td>0</td>\n",
       "      <td>6</td>\n",
       "      <td>0</td>\n",
       "      <td>2</td>\n",
       "      <td>14.110847</td>\n",
       "      <td>18.18125</td>\n",
       "      <td>80.5833</td>\n",
       "      <td>10.749882</td>\n",
       "      <td>331</td>\n",
       "      <td>654</td>\n",
       "      <td>985</td>\n",
       "    </tr>\n",
       "    <tr>\n",
       "      <th>1</th>\n",
       "      <td>2</td>\n",
       "      <td>2018-01-02</td>\n",
       "      <td>1</td>\n",
       "      <td>0</td>\n",
       "      <td>1</td>\n",
       "      <td>0</td>\n",
       "      <td>0</td>\n",
       "      <td>0</td>\n",
       "      <td>2</td>\n",
       "      <td>14.902598</td>\n",
       "      <td>17.68695</td>\n",
       "      <td>69.6087</td>\n",
       "      <td>16.652113</td>\n",
       "      <td>131</td>\n",
       "      <td>670</td>\n",
       "      <td>801</td>\n",
       "    </tr>\n",
       "    <tr>\n",
       "      <th>2</th>\n",
       "      <td>3</td>\n",
       "      <td>2018-01-03</td>\n",
       "      <td>1</td>\n",
       "      <td>0</td>\n",
       "      <td>1</td>\n",
       "      <td>0</td>\n",
       "      <td>1</td>\n",
       "      <td>1</td>\n",
       "      <td>1</td>\n",
       "      <td>8.050924</td>\n",
       "      <td>9.47025</td>\n",
       "      <td>43.7273</td>\n",
       "      <td>16.636703</td>\n",
       "      <td>120</td>\n",
       "      <td>1229</td>\n",
       "      <td>1349</td>\n",
       "    </tr>\n",
       "    <tr>\n",
       "      <th>3</th>\n",
       "      <td>4</td>\n",
       "      <td>2018-01-04</td>\n",
       "      <td>1</td>\n",
       "      <td>0</td>\n",
       "      <td>1</td>\n",
       "      <td>0</td>\n",
       "      <td>2</td>\n",
       "      <td>1</td>\n",
       "      <td>1</td>\n",
       "      <td>8.200000</td>\n",
       "      <td>10.60610</td>\n",
       "      <td>59.0435</td>\n",
       "      <td>10.739832</td>\n",
       "      <td>108</td>\n",
       "      <td>1454</td>\n",
       "      <td>1562</td>\n",
       "    </tr>\n",
       "    <tr>\n",
       "      <th>4</th>\n",
       "      <td>5</td>\n",
       "      <td>2018-01-05</td>\n",
       "      <td>1</td>\n",
       "      <td>0</td>\n",
       "      <td>1</td>\n",
       "      <td>0</td>\n",
       "      <td>3</td>\n",
       "      <td>1</td>\n",
       "      <td>1</td>\n",
       "      <td>9.305237</td>\n",
       "      <td>11.46350</td>\n",
       "      <td>43.6957</td>\n",
       "      <td>12.522300</td>\n",
       "      <td>82</td>\n",
       "      <td>1518</td>\n",
       "      <td>1600</td>\n",
       "    </tr>\n",
       "  </tbody>\n",
       "</table>\n",
       "</div>"
      ],
      "text/plain": [
       "   instant     dteday  season  yr  mnth  holiday  weekday  workingday  \\\n",
       "0        1 2018-01-01       1   0     1        0        6           0   \n",
       "1        2 2018-01-02       1   0     1        0        0           0   \n",
       "2        3 2018-01-03       1   0     1        0        1           1   \n",
       "3        4 2018-01-04       1   0     1        0        2           1   \n",
       "4        5 2018-01-05       1   0     1        0        3           1   \n",
       "\n",
       "   weathersit       temp     atemp      hum  windspeed  casual  registered  \\\n",
       "0           2  14.110847  18.18125  80.5833  10.749882     331         654   \n",
       "1           2  14.902598  17.68695  69.6087  16.652113     131         670   \n",
       "2           1   8.050924   9.47025  43.7273  16.636703     120        1229   \n",
       "3           1   8.200000  10.60610  59.0435  10.739832     108        1454   \n",
       "4           1   9.305237  11.46350  43.6957  12.522300      82        1518   \n",
       "\n",
       "    cnt  \n",
       "0   985  \n",
       "1   801  \n",
       "2  1349  \n",
       "3  1562  \n",
       "4  1600  "
      ]
     },
     "execution_count": 20,
     "metadata": {},
     "output_type": "execute_result"
    }
   ],
   "source": [
    "bike_ds.head()"
   ]
  },
  {
   "cell_type": "code",
   "execution_count": 21,
   "id": "88409dec",
   "metadata": {},
   "outputs": [],
   "source": [
    "#Lets Analyse mnth and yr columns. These variable's data is derived from dteday variable"
   ]
  },
  {
   "cell_type": "code",
   "execution_count": 22,
   "id": "5ed71837",
   "metadata": {},
   "outputs": [
    {
     "data": {
      "text/plain": [
       "0    365\n",
       "1    365\n",
       "Name: yr, dtype: int64"
      ]
     },
     "execution_count": 22,
     "metadata": {},
     "output_type": "execute_result"
    }
   ],
   "source": [
    "bike_ds.yr.value_counts()"
   ]
  },
  {
   "cell_type": "code",
   "execution_count": 23,
   "id": "7d9c598b",
   "metadata": {},
   "outputs": [],
   "source": [
    "#As per above data looks like data available for two years. "
   ]
  },
  {
   "cell_type": "code",
   "execution_count": 24,
   "id": "d9ed0348",
   "metadata": {},
   "outputs": [
    {
     "data": {
      "text/plain": [
       "1     62\n",
       "3     62\n",
       "5     62\n",
       "7     62\n",
       "8     62\n",
       "10    62\n",
       "12    62\n",
       "4     60\n",
       "6     60\n",
       "9     60\n",
       "11    60\n",
       "2     56\n",
       "Name: mnth, dtype: int64"
      ]
     },
     "execution_count": 24,
     "metadata": {},
     "output_type": "execute_result"
    }
   ],
   "source": [
    "bike_ds.mnth.value_counts()"
   ]
  },
  {
   "cell_type": "code",
   "execution_count": 25,
   "id": "caa6d626",
   "metadata": {},
   "outputs": [],
   "source": [
    "#As per above data, data avaiable for 12 months in both two years"
   ]
  },
  {
   "cell_type": "code",
   "execution_count": 26,
   "id": "a2a35d6a",
   "metadata": {},
   "outputs": [],
   "source": [
    "# looks like there is no much importance to day, so lets derive new columns Year and Month and check total months and year's \n",
    "# And compare with data in columns mnth,yr variable. If same then drop columns mnth,yr"
   ]
  },
  {
   "cell_type": "code",
   "execution_count": 27,
   "id": "a2a0465e",
   "metadata": {},
   "outputs": [],
   "source": [
    "bike_ds['year'] = pd.DatetimeIndex(bike_ds['dteday']).year\n",
    "bike_ds['month'] = pd.DatetimeIndex(bike_ds['dteday']).month"
   ]
  },
  {
   "cell_type": "code",
   "execution_count": 28,
   "id": "a2444c47",
   "metadata": {},
   "outputs": [
    {
     "data": {
      "text/html": [
       "<div>\n",
       "<style scoped>\n",
       "    .dataframe tbody tr th:only-of-type {\n",
       "        vertical-align: middle;\n",
       "    }\n",
       "\n",
       "    .dataframe tbody tr th {\n",
       "        vertical-align: top;\n",
       "    }\n",
       "\n",
       "    .dataframe thead th {\n",
       "        text-align: right;\n",
       "    }\n",
       "</style>\n",
       "<table border=\"1\" class=\"dataframe\">\n",
       "  <thead>\n",
       "    <tr style=\"text-align: right;\">\n",
       "      <th></th>\n",
       "      <th>instant</th>\n",
       "      <th>dteday</th>\n",
       "      <th>season</th>\n",
       "      <th>yr</th>\n",
       "      <th>mnth</th>\n",
       "      <th>holiday</th>\n",
       "      <th>weekday</th>\n",
       "      <th>workingday</th>\n",
       "      <th>weathersit</th>\n",
       "      <th>temp</th>\n",
       "      <th>atemp</th>\n",
       "      <th>hum</th>\n",
       "      <th>windspeed</th>\n",
       "      <th>casual</th>\n",
       "      <th>registered</th>\n",
       "      <th>cnt</th>\n",
       "      <th>year</th>\n",
       "      <th>month</th>\n",
       "    </tr>\n",
       "  </thead>\n",
       "  <tbody>\n",
       "    <tr>\n",
       "      <th>0</th>\n",
       "      <td>1</td>\n",
       "      <td>2018-01-01</td>\n",
       "      <td>1</td>\n",
       "      <td>0</td>\n",
       "      <td>1</td>\n",
       "      <td>0</td>\n",
       "      <td>6</td>\n",
       "      <td>0</td>\n",
       "      <td>2</td>\n",
       "      <td>14.110847</td>\n",
       "      <td>18.18125</td>\n",
       "      <td>80.5833</td>\n",
       "      <td>10.749882</td>\n",
       "      <td>331</td>\n",
       "      <td>654</td>\n",
       "      <td>985</td>\n",
       "      <td>2018</td>\n",
       "      <td>1</td>\n",
       "    </tr>\n",
       "    <tr>\n",
       "      <th>1</th>\n",
       "      <td>2</td>\n",
       "      <td>2018-01-02</td>\n",
       "      <td>1</td>\n",
       "      <td>0</td>\n",
       "      <td>1</td>\n",
       "      <td>0</td>\n",
       "      <td>0</td>\n",
       "      <td>0</td>\n",
       "      <td>2</td>\n",
       "      <td>14.902598</td>\n",
       "      <td>17.68695</td>\n",
       "      <td>69.6087</td>\n",
       "      <td>16.652113</td>\n",
       "      <td>131</td>\n",
       "      <td>670</td>\n",
       "      <td>801</td>\n",
       "      <td>2018</td>\n",
       "      <td>1</td>\n",
       "    </tr>\n",
       "  </tbody>\n",
       "</table>\n",
       "</div>"
      ],
      "text/plain": [
       "   instant     dteday  season  yr  mnth  holiday  weekday  workingday  \\\n",
       "0        1 2018-01-01       1   0     1        0        6           0   \n",
       "1        2 2018-01-02       1   0     1        0        0           0   \n",
       "\n",
       "   weathersit       temp     atemp      hum  windspeed  casual  registered  \\\n",
       "0           2  14.110847  18.18125  80.5833  10.749882     331         654   \n",
       "1           2  14.902598  17.68695  69.6087  16.652113     131         670   \n",
       "\n",
       "   cnt  year  month  \n",
       "0  985  2018      1  \n",
       "1  801  2018      1  "
      ]
     },
     "execution_count": 28,
     "metadata": {},
     "output_type": "execute_result"
    }
   ],
   "source": [
    "bike_ds.head(2)"
   ]
  },
  {
   "cell_type": "code",
   "execution_count": 29,
   "id": "deb869a3",
   "metadata": {},
   "outputs": [
    {
     "data": {
      "text/plain": [
       "1     62\n",
       "3     62\n",
       "5     62\n",
       "7     62\n",
       "8     62\n",
       "10    62\n",
       "12    62\n",
       "4     60\n",
       "6     60\n",
       "9     60\n",
       "11    60\n",
       "2     56\n",
       "Name: month, dtype: int64"
      ]
     },
     "execution_count": 29,
     "metadata": {},
     "output_type": "execute_result"
    }
   ],
   "source": [
    "bike_ds.month.value_counts()"
   ]
  },
  {
   "cell_type": "code",
   "execution_count": 30,
   "id": "86e86174",
   "metadata": {},
   "outputs": [
    {
     "data": {
      "text/plain": [
       "1     62\n",
       "3     62\n",
       "5     62\n",
       "7     62\n",
       "8     62\n",
       "10    62\n",
       "12    62\n",
       "4     60\n",
       "6     60\n",
       "9     60\n",
       "11    60\n",
       "2     56\n",
       "Name: mnth, dtype: int64"
      ]
     },
     "execution_count": 30,
     "metadata": {},
     "output_type": "execute_result"
    }
   ],
   "source": [
    "bike_ds.mnth.value_counts()"
   ]
  },
  {
   "cell_type": "code",
   "execution_count": 31,
   "id": "66261291",
   "metadata": {},
   "outputs": [],
   "source": [
    "# data from both mnth and month variables are same so mnth can be removed."
   ]
  },
  {
   "cell_type": "code",
   "execution_count": 32,
   "id": "300403a8",
   "metadata": {},
   "outputs": [],
   "source": [
    "del(bike_ds['mnth'])"
   ]
  },
  {
   "cell_type": "code",
   "execution_count": 33,
   "id": "a39b77bd",
   "metadata": {},
   "outputs": [
    {
     "data": {
      "text/plain": [
       "2018    365\n",
       "2019    365\n",
       "Name: year, dtype: int64"
      ]
     },
     "execution_count": 33,
     "metadata": {},
     "output_type": "execute_result"
    }
   ],
   "source": [
    "bike_ds.year.value_counts()"
   ]
  },
  {
   "cell_type": "code",
   "execution_count": 34,
   "id": "8147edbd",
   "metadata": {},
   "outputs": [
    {
     "data": {
      "text/plain": [
       "0    365\n",
       "1    365\n",
       "Name: yr, dtype: int64"
      ]
     },
     "execution_count": 34,
     "metadata": {},
     "output_type": "execute_result"
    }
   ],
   "source": [
    "bike_ds.yr.value_counts()"
   ]
  },
  {
   "cell_type": "code",
   "execution_count": 35,
   "id": "0e80d134",
   "metadata": {},
   "outputs": [],
   "source": [
    "#As per above data 0 is assined for year 2018 and 1 for 2019. Don't delete yr variable. If required we can delete later"
   ]
  },
  {
   "cell_type": "code",
   "execution_count": 36,
   "id": "1002afa6",
   "metadata": {},
   "outputs": [
    {
     "data": {
      "text/html": [
       "<div>\n",
       "<style scoped>\n",
       "    .dataframe tbody tr th:only-of-type {\n",
       "        vertical-align: middle;\n",
       "    }\n",
       "\n",
       "    .dataframe tbody tr th {\n",
       "        vertical-align: top;\n",
       "    }\n",
       "\n",
       "    .dataframe thead th {\n",
       "        text-align: right;\n",
       "    }\n",
       "</style>\n",
       "<table border=\"1\" class=\"dataframe\">\n",
       "  <thead>\n",
       "    <tr style=\"text-align: right;\">\n",
       "      <th></th>\n",
       "      <th>instant</th>\n",
       "      <th>dteday</th>\n",
       "      <th>season</th>\n",
       "      <th>yr</th>\n",
       "      <th>holiday</th>\n",
       "      <th>weekday</th>\n",
       "      <th>workingday</th>\n",
       "      <th>weathersit</th>\n",
       "      <th>temp</th>\n",
       "      <th>atemp</th>\n",
       "      <th>hum</th>\n",
       "      <th>windspeed</th>\n",
       "      <th>casual</th>\n",
       "      <th>registered</th>\n",
       "      <th>cnt</th>\n",
       "      <th>year</th>\n",
       "      <th>month</th>\n",
       "    </tr>\n",
       "  </thead>\n",
       "  <tbody>\n",
       "    <tr>\n",
       "      <th>0</th>\n",
       "      <td>1</td>\n",
       "      <td>2018-01-01</td>\n",
       "      <td>1</td>\n",
       "      <td>0</td>\n",
       "      <td>0</td>\n",
       "      <td>6</td>\n",
       "      <td>0</td>\n",
       "      <td>2</td>\n",
       "      <td>14.110847</td>\n",
       "      <td>18.18125</td>\n",
       "      <td>80.5833</td>\n",
       "      <td>10.749882</td>\n",
       "      <td>331</td>\n",
       "      <td>654</td>\n",
       "      <td>985</td>\n",
       "      <td>2018</td>\n",
       "      <td>1</td>\n",
       "    </tr>\n",
       "    <tr>\n",
       "      <th>1</th>\n",
       "      <td>2</td>\n",
       "      <td>2018-01-02</td>\n",
       "      <td>1</td>\n",
       "      <td>0</td>\n",
       "      <td>0</td>\n",
       "      <td>0</td>\n",
       "      <td>0</td>\n",
       "      <td>2</td>\n",
       "      <td>14.902598</td>\n",
       "      <td>17.68695</td>\n",
       "      <td>69.6087</td>\n",
       "      <td>16.652113</td>\n",
       "      <td>131</td>\n",
       "      <td>670</td>\n",
       "      <td>801</td>\n",
       "      <td>2018</td>\n",
       "      <td>1</td>\n",
       "    </tr>\n",
       "  </tbody>\n",
       "</table>\n",
       "</div>"
      ],
      "text/plain": [
       "   instant     dteday  season  yr  holiday  weekday  workingday  weathersit  \\\n",
       "0        1 2018-01-01       1   0        0        6           0           2   \n",
       "1        2 2018-01-02       1   0        0        0           0           2   \n",
       "\n",
       "        temp     atemp      hum  windspeed  casual  registered  cnt  year  \\\n",
       "0  14.110847  18.18125  80.5833  10.749882     331         654  985  2018   \n",
       "1  14.902598  17.68695  69.6087  16.652113     131         670  801  2018   \n",
       "\n",
       "   month  \n",
       "0      1  \n",
       "1      1  "
      ]
     },
     "execution_count": 36,
     "metadata": {},
     "output_type": "execute_result"
    }
   ],
   "source": [
    "bike_ds.head(2)"
   ]
  },
  {
   "cell_type": "code",
   "execution_count": 37,
   "id": "b638247f",
   "metadata": {},
   "outputs": [],
   "source": [
    "#Drop variables dteday,casual,registered,instant which are not required for analysis"
   ]
  },
  {
   "cell_type": "code",
   "execution_count": 38,
   "id": "c2b62031",
   "metadata": {},
   "outputs": [],
   "source": [
    "bike_ds.drop(['instant','dteday','casual','registered'],axis=1,inplace=True)"
   ]
  },
  {
   "cell_type": "code",
   "execution_count": 39,
   "id": "dd039c27",
   "metadata": {},
   "outputs": [
    {
     "data": {
      "text/html": [
       "<div>\n",
       "<style scoped>\n",
       "    .dataframe tbody tr th:only-of-type {\n",
       "        vertical-align: middle;\n",
       "    }\n",
       "\n",
       "    .dataframe tbody tr th {\n",
       "        vertical-align: top;\n",
       "    }\n",
       "\n",
       "    .dataframe thead th {\n",
       "        text-align: right;\n",
       "    }\n",
       "</style>\n",
       "<table border=\"1\" class=\"dataframe\">\n",
       "  <thead>\n",
       "    <tr style=\"text-align: right;\">\n",
       "      <th></th>\n",
       "      <th>season</th>\n",
       "      <th>yr</th>\n",
       "      <th>holiday</th>\n",
       "      <th>weekday</th>\n",
       "      <th>workingday</th>\n",
       "      <th>weathersit</th>\n",
       "      <th>temp</th>\n",
       "      <th>atemp</th>\n",
       "      <th>hum</th>\n",
       "      <th>windspeed</th>\n",
       "      <th>cnt</th>\n",
       "      <th>year</th>\n",
       "      <th>month</th>\n",
       "    </tr>\n",
       "  </thead>\n",
       "  <tbody>\n",
       "    <tr>\n",
       "      <th>0</th>\n",
       "      <td>1</td>\n",
       "      <td>0</td>\n",
       "      <td>0</td>\n",
       "      <td>6</td>\n",
       "      <td>0</td>\n",
       "      <td>2</td>\n",
       "      <td>14.110847</td>\n",
       "      <td>18.18125</td>\n",
       "      <td>80.5833</td>\n",
       "      <td>10.749882</td>\n",
       "      <td>985</td>\n",
       "      <td>2018</td>\n",
       "      <td>1</td>\n",
       "    </tr>\n",
       "    <tr>\n",
       "      <th>1</th>\n",
       "      <td>1</td>\n",
       "      <td>0</td>\n",
       "      <td>0</td>\n",
       "      <td>0</td>\n",
       "      <td>0</td>\n",
       "      <td>2</td>\n",
       "      <td>14.902598</td>\n",
       "      <td>17.68695</td>\n",
       "      <td>69.6087</td>\n",
       "      <td>16.652113</td>\n",
       "      <td>801</td>\n",
       "      <td>2018</td>\n",
       "      <td>1</td>\n",
       "    </tr>\n",
       "    <tr>\n",
       "      <th>2</th>\n",
       "      <td>1</td>\n",
       "      <td>0</td>\n",
       "      <td>0</td>\n",
       "      <td>1</td>\n",
       "      <td>1</td>\n",
       "      <td>1</td>\n",
       "      <td>8.050924</td>\n",
       "      <td>9.47025</td>\n",
       "      <td>43.7273</td>\n",
       "      <td>16.636703</td>\n",
       "      <td>1349</td>\n",
       "      <td>2018</td>\n",
       "      <td>1</td>\n",
       "    </tr>\n",
       "    <tr>\n",
       "      <th>3</th>\n",
       "      <td>1</td>\n",
       "      <td>0</td>\n",
       "      <td>0</td>\n",
       "      <td>2</td>\n",
       "      <td>1</td>\n",
       "      <td>1</td>\n",
       "      <td>8.200000</td>\n",
       "      <td>10.60610</td>\n",
       "      <td>59.0435</td>\n",
       "      <td>10.739832</td>\n",
       "      <td>1562</td>\n",
       "      <td>2018</td>\n",
       "      <td>1</td>\n",
       "    </tr>\n",
       "    <tr>\n",
       "      <th>4</th>\n",
       "      <td>1</td>\n",
       "      <td>0</td>\n",
       "      <td>0</td>\n",
       "      <td>3</td>\n",
       "      <td>1</td>\n",
       "      <td>1</td>\n",
       "      <td>9.305237</td>\n",
       "      <td>11.46350</td>\n",
       "      <td>43.6957</td>\n",
       "      <td>12.522300</td>\n",
       "      <td>1600</td>\n",
       "      <td>2018</td>\n",
       "      <td>1</td>\n",
       "    </tr>\n",
       "  </tbody>\n",
       "</table>\n",
       "</div>"
      ],
      "text/plain": [
       "   season  yr  holiday  weekday  workingday  weathersit       temp     atemp  \\\n",
       "0       1   0        0        6           0           2  14.110847  18.18125   \n",
       "1       1   0        0        0           0           2  14.902598  17.68695   \n",
       "2       1   0        0        1           1           1   8.050924   9.47025   \n",
       "3       1   0        0        2           1           1   8.200000  10.60610   \n",
       "4       1   0        0        3           1           1   9.305237  11.46350   \n",
       "\n",
       "       hum  windspeed   cnt  year  month  \n",
       "0  80.5833  10.749882   985  2018      1  \n",
       "1  69.6087  16.652113   801  2018      1  \n",
       "2  43.7273  16.636703  1349  2018      1  \n",
       "3  59.0435  10.739832  1562  2018      1  \n",
       "4  43.6957  12.522300  1600  2018      1  "
      ]
     },
     "execution_count": 39,
     "metadata": {},
     "output_type": "execute_result"
    }
   ],
   "source": [
    "bike_ds.head()"
   ]
  },
  {
   "cell_type": "markdown",
   "id": "bbec3a85",
   "metadata": {},
   "source": [
    "# 2. Data Preparation \n",
    "    - Create dummy variables for all categorial variables\n",
    "    - Divide data into train and test\n",
    "    - perform scaling\n",
    "    - Devide data into dependent and independent\n",
    "    "
   ]
  },
  {
   "cell_type": "markdown",
   "id": "dafd4a5b",
   "metadata": {},
   "source": [
    "## Univariate Analysis::"
   ]
  },
  {
   "cell_type": "code",
   "execution_count": 40,
   "id": "79799aa6",
   "metadata": {},
   "outputs": [],
   "source": [
    "#Visualize pattern cnt data "
   ]
  },
  {
   "cell_type": "code",
   "execution_count": 41,
   "id": "0db38ab6",
   "metadata": {},
   "outputs": [
    {
     "data": {
      "image/png": "[encoded data removed]",
      "text/plain": [
       "<Figure size 1080x360 with 1 Axes>"
      ]
     },
     "metadata": {
      "needs_background": "light"
     },
     "output_type": "display_data"
    }
   ],
   "source": [
    "plt.figure(figsize=(15,5))\n",
    "plt.plot(bike_ds.cnt)\n",
    "plt.grid(True)\n",
    "plt.show()"
   ]
  },
  {
   "cell_type": "code",
   "execution_count": 42,
   "id": "22576df9",
   "metadata": {},
   "outputs": [],
   "source": [
    "#As per above graph, demand was there for quite period of time and towards end of the dataset, there was sharp decline"
   ]
  },
  {
   "cell_type": "code",
   "execution_count": 43,
   "id": "b997d7a8",
   "metadata": {},
   "outputs": [],
   "source": [
    "#check for outliers in numerical variables "
   ]
  },
  {
   "cell_type": "code",
   "execution_count": 44,
   "id": "324c650e",
   "metadata": {},
   "outputs": [
    {
     "data": {
      "image/png": "[encoded data removed]",
      "text/plain": [
       "<Figure size 432x288 with 1 Axes>"
      ]
     },
     "metadata": {
      "needs_background": "light"
     },
     "output_type": "display_data"
    }
   ],
   "source": [
    "sns.boxplot(y=bike_ds.cnt)\n",
    "plt.show()"
   ]
  },
  {
   "cell_type": "code",
   "execution_count": 45,
   "id": "206169d6",
   "metadata": {},
   "outputs": [
    {
     "data": {
      "image/png": "[encoded data removed]",
      "text/plain": [
       "<Figure size 432x288 with 1 Axes>"
      ]
     },
     "metadata": {
      "needs_background": "light"
     },
     "output_type": "display_data"
    }
   ],
   "source": [
    "sns.boxplot(y=bike_ds.temp)\n",
    "plt.show()"
   ]
  },
  {
   "cell_type": "code",
   "execution_count": 46,
   "id": "c6385e02",
   "metadata": {},
   "outputs": [
    {
     "data": {
      "image/png": "[encoded data removed]",
      "text/plain": [
       "<Figure size 432x288 with 1 Axes>"
      ]
     },
     "metadata": {
      "needs_background": "light"
     },
     "output_type": "display_data"
    }
   ],
   "source": [
    "sns.boxplot(y=bike_ds.windspeed)\n",
    "plt.show()"
   ]
  },
  {
   "cell_type": "code",
   "execution_count": 47,
   "id": "15ee0c2c",
   "metadata": {},
   "outputs": [
    {
     "data": {
      "image/png": "[encoded data removed]",
      "text/plain": [
       "<Figure size 432x288 with 1 Axes>"
      ]
     },
     "metadata": {
      "needs_background": "light"
     },
     "output_type": "display_data"
    }
   ],
   "source": [
    "sns.boxplot(y=bike_ds.hum)\n",
    "plt.show()"
   ]
  },
  {
   "cell_type": "code",
   "execution_count": 48,
   "id": "14e74f34",
   "metadata": {},
   "outputs": [],
   "source": [
    "#As per boxplots, there are outliers in humidity and windspped"
   ]
  },
  {
   "cell_type": "code",
   "execution_count": 49,
   "id": "ef001e4b",
   "metadata": {},
   "outputs": [],
   "source": [
    "#lets update outliers with relevent data"
   ]
  },
  {
   "cell_type": "code",
   "execution_count": 50,
   "id": "16d8ff24",
   "metadata": {},
   "outputs": [],
   "source": [
    "#For humidity outliers are <18 percentile, please fill up with value which is close to IQR lowerbound"
   ]
  },
  {
   "cell_type": "code",
   "execution_count": 51,
   "id": "15cd4753",
   "metadata": {},
   "outputs": [],
   "source": [
    "val75=bike_ds.hum.quantile(q=0.75)\n",
    "val25=bike_ds.hum.quantile(q=0.25)"
   ]
  },
  {
   "cell_type": "code",
   "execution_count": 52,
   "id": "b46c64a8",
   "metadata": {},
   "outputs": [],
   "source": [
    "IQR=val75-val25"
   ]
  },
  {
   "cell_type": "code",
   "execution_count": 53,
   "id": "3a19e507",
   "metadata": {},
   "outputs": [
    {
     "data": {
      "text/plain": [
       "20"
      ]
     },
     "execution_count": 53,
     "metadata": {},
     "output_type": "execute_result"
    }
   ],
   "source": [
    "IQR_LL = int(val25-1.5*IQR)\n",
    "IQR_LL"
   ]
  },
  {
   "cell_type": "code",
   "execution_count": 54,
   "id": "3c9b8849",
   "metadata": {},
   "outputs": [
    {
     "data": {
      "text/html": [
       "<div>\n",
       "<style scoped>\n",
       "    .dataframe tbody tr th:only-of-type {\n",
       "        vertical-align: middle;\n",
       "    }\n",
       "\n",
       "    .dataframe tbody tr th {\n",
       "        vertical-align: top;\n",
       "    }\n",
       "\n",
       "    .dataframe thead th {\n",
       "        text-align: right;\n",
       "    }\n",
       "</style>\n",
       "<table border=\"1\" class=\"dataframe\">\n",
       "  <thead>\n",
       "    <tr style=\"text-align: right;\">\n",
       "      <th></th>\n",
       "      <th>season</th>\n",
       "      <th>yr</th>\n",
       "      <th>holiday</th>\n",
       "      <th>weekday</th>\n",
       "      <th>workingday</th>\n",
       "      <th>weathersit</th>\n",
       "      <th>temp</th>\n",
       "      <th>atemp</th>\n",
       "      <th>hum</th>\n",
       "      <th>windspeed</th>\n",
       "      <th>cnt</th>\n",
       "      <th>year</th>\n",
       "      <th>month</th>\n",
       "    </tr>\n",
       "  </thead>\n",
       "  <tbody>\n",
       "    <tr>\n",
       "      <th>68</th>\n",
       "      <td>1</td>\n",
       "      <td>0</td>\n",
       "      <td>0</td>\n",
       "      <td>4</td>\n",
       "      <td>1</td>\n",
       "      <td>3</td>\n",
       "      <td>15.952731</td>\n",
       "      <td>19.2834</td>\n",
       "      <td>0.0</td>\n",
       "      <td>17.545759</td>\n",
       "      <td>623</td>\n",
       "      <td>2018</td>\n",
       "      <td>3</td>\n",
       "    </tr>\n",
       "  </tbody>\n",
       "</table>\n",
       "</div>"
      ],
      "text/plain": [
       "    season  yr  holiday  weekday  workingday  weathersit       temp    atemp  \\\n",
       "68       1   0        0        4           1           3  15.952731  19.2834   \n",
       "\n",
       "    hum  windspeed  cnt  year  month  \n",
       "68  0.0  17.545759  623  2018      3  "
      ]
     },
     "execution_count": 54,
     "metadata": {},
     "output_type": "execute_result"
    }
   ],
   "source": [
    "bike_ds[bike_ds.hum<18]"
   ]
  },
  {
   "cell_type": "code",
   "execution_count": 55,
   "id": "5d6ffb4e",
   "metadata": {},
   "outputs": [],
   "source": [
    "bike_ds.loc[bike_ds.hum<18, 'hum'] = 18.7917"
   ]
  },
  {
   "cell_type": "code",
   "execution_count": 56,
   "id": "b388a60f",
   "metadata": {},
   "outputs": [
    {
     "data": {
      "text/html": [
       "<div>\n",
       "<style scoped>\n",
       "    .dataframe tbody tr th:only-of-type {\n",
       "        vertical-align: middle;\n",
       "    }\n",
       "\n",
       "    .dataframe tbody tr th {\n",
       "        vertical-align: top;\n",
       "    }\n",
       "\n",
       "    .dataframe thead th {\n",
       "        text-align: right;\n",
       "    }\n",
       "</style>\n",
       "<table border=\"1\" class=\"dataframe\">\n",
       "  <thead>\n",
       "    <tr style=\"text-align: right;\">\n",
       "      <th></th>\n",
       "      <th>season</th>\n",
       "      <th>yr</th>\n",
       "      <th>holiday</th>\n",
       "      <th>weekday</th>\n",
       "      <th>workingday</th>\n",
       "      <th>weathersit</th>\n",
       "      <th>temp</th>\n",
       "      <th>atemp</th>\n",
       "      <th>hum</th>\n",
       "      <th>windspeed</th>\n",
       "      <th>cnt</th>\n",
       "      <th>year</th>\n",
       "      <th>month</th>\n",
       "    </tr>\n",
       "  </thead>\n",
       "  <tbody>\n",
       "  </tbody>\n",
       "</table>\n",
       "</div>"
      ],
      "text/plain": [
       "Empty DataFrame\n",
       "Columns: [season, yr, holiday, weekday, workingday, weathersit, temp, atemp, hum, windspeed, cnt, year, month]\n",
       "Index: []"
      ]
     },
     "execution_count": 56,
     "metadata": {},
     "output_type": "execute_result"
    }
   ],
   "source": [
    "bike_ds[bike_ds.hum<18]"
   ]
  },
  {
   "cell_type": "code",
   "execution_count": 57,
   "id": "8f290050",
   "metadata": {},
   "outputs": [],
   "source": [
    "#For windspeed outliers are >30 percentile, please fill up with value which is close to IQR upperbound value"
   ]
  },
  {
   "cell_type": "code",
   "execution_count": 58,
   "id": "1d9511d2",
   "metadata": {},
   "outputs": [
    {
     "data": {
      "text/html": [
       "<div>\n",
       "<style scoped>\n",
       "    .dataframe tbody tr th:only-of-type {\n",
       "        vertical-align: middle;\n",
       "    }\n",
       "\n",
       "    .dataframe tbody tr th {\n",
       "        vertical-align: top;\n",
       "    }\n",
       "\n",
       "    .dataframe thead th {\n",
       "        text-align: right;\n",
       "    }\n",
       "</style>\n",
       "<table border=\"1\" class=\"dataframe\">\n",
       "  <thead>\n",
       "    <tr style=\"text-align: right;\">\n",
       "      <th></th>\n",
       "      <th>season</th>\n",
       "      <th>yr</th>\n",
       "      <th>holiday</th>\n",
       "      <th>weekday</th>\n",
       "      <th>workingday</th>\n",
       "      <th>weathersit</th>\n",
       "      <th>temp</th>\n",
       "      <th>atemp</th>\n",
       "      <th>hum</th>\n",
       "      <th>windspeed</th>\n",
       "      <th>cnt</th>\n",
       "      <th>year</th>\n",
       "      <th>month</th>\n",
       "    </tr>\n",
       "  </thead>\n",
       "  <tbody>\n",
       "    <tr>\n",
       "      <th>49</th>\n",
       "      <td>1</td>\n",
       "      <td>0</td>\n",
       "      <td>0</td>\n",
       "      <td>6</td>\n",
       "      <td>0</td>\n",
       "      <td>1</td>\n",
       "      <td>16.365847</td>\n",
       "      <td>19.5702</td>\n",
       "      <td>18.7917</td>\n",
       "      <td>34.000021</td>\n",
       "      <td>1635</td>\n",
       "      <td>2018</td>\n",
       "      <td>2</td>\n",
       "    </tr>\n",
       "  </tbody>\n",
       "</table>\n",
       "</div>"
      ],
      "text/plain": [
       "    season  yr  holiday  weekday  workingday  weathersit       temp    atemp  \\\n",
       "49       1   0        0        6           0           1  16.365847  19.5702   \n",
       "\n",
       "        hum  windspeed   cnt  year  month  \n",
       "49  18.7917  34.000021  1635  2018      2  "
      ]
     },
     "execution_count": 58,
     "metadata": {},
     "output_type": "execute_result"
    }
   ],
   "source": [
    "bike_ds[bike_ds.windspeed>30]"
   ]
  },
  {
   "cell_type": "code",
   "execution_count": 59,
   "id": "f8ca0631",
   "metadata": {},
   "outputs": [],
   "source": [
    "bike_ds.loc[bike_ds.windspeed>30, 'windspeed'] = 30"
   ]
  },
  {
   "cell_type": "code",
   "execution_count": 60,
   "id": "c572293b",
   "metadata": {},
   "outputs": [
    {
     "data": {
      "text/html": [
       "<div>\n",
       "<style scoped>\n",
       "    .dataframe tbody tr th:only-of-type {\n",
       "        vertical-align: middle;\n",
       "    }\n",
       "\n",
       "    .dataframe tbody tr th {\n",
       "        vertical-align: top;\n",
       "    }\n",
       "\n",
       "    .dataframe thead th {\n",
       "        text-align: right;\n",
       "    }\n",
       "</style>\n",
       "<table border=\"1\" class=\"dataframe\">\n",
       "  <thead>\n",
       "    <tr style=\"text-align: right;\">\n",
       "      <th></th>\n",
       "      <th>season</th>\n",
       "      <th>yr</th>\n",
       "      <th>holiday</th>\n",
       "      <th>weekday</th>\n",
       "      <th>workingday</th>\n",
       "      <th>weathersit</th>\n",
       "      <th>temp</th>\n",
       "      <th>atemp</th>\n",
       "      <th>hum</th>\n",
       "      <th>windspeed</th>\n",
       "      <th>cnt</th>\n",
       "      <th>year</th>\n",
       "      <th>month</th>\n",
       "    </tr>\n",
       "  </thead>\n",
       "  <tbody>\n",
       "  </tbody>\n",
       "</table>\n",
       "</div>"
      ],
      "text/plain": [
       "Empty DataFrame\n",
       "Columns: [season, yr, holiday, weekday, workingday, weathersit, temp, atemp, hum, windspeed, cnt, year, month]\n",
       "Index: []"
      ]
     },
     "execution_count": 60,
     "metadata": {},
     "output_type": "execute_result"
    }
   ],
   "source": [
    "bike_ds[bike_ds.windspeed>30]"
   ]
  },
  {
   "cell_type": "code",
   "execution_count": null,
   "id": "f7348743",
   "metadata": {},
   "outputs": [],
   "source": []
  },
  {
   "cell_type": "markdown",
   "id": "94dfbe55",
   "metadata": {},
   "source": [
    "## Bivariate Analysis::"
   ]
  },
  {
   "cell_type": "code",
   "execution_count": 61,
   "id": "261454c2",
   "metadata": {},
   "outputs": [
    {
     "data": {
      "image/png": "[encoded data removed]",
      "text/plain": [
       "<Figure size 720x720 with 20 Axes>"
      ]
     },
     "metadata": {
      "needs_background": "light"
     },
     "output_type": "display_data"
    }
   ],
   "source": [
    "# pairplot to check correlation amond numerical features\n",
    "sns.pairplot(bike_ds[['temp','hum','cnt','windspeed']])\n",
    "plt.show()"
   ]
  },
  {
   "cell_type": "code",
   "execution_count": 62,
   "id": "c29e9800",
   "metadata": {},
   "outputs": [
    {
     "data": {
      "text/plain": [
       "0.6270440344135153"
      ]
     },
     "execution_count": 62,
     "metadata": {},
     "output_type": "execute_result"
    }
   ],
   "source": [
    "bike_ds.temp.corr(bike_ds.cnt)"
   ]
  },
  {
   "cell_type": "code",
   "execution_count": 63,
   "id": "3b4c3a04",
   "metadata": {},
   "outputs": [
    {
     "data": {
      "image/png": "[encoded data removed]",
      "text/plain": [
       "<Figure size 432x288 with 2 Axes>"
      ]
     },
     "metadata": {
      "needs_background": "light"
     },
     "output_type": "display_data"
    }
   ],
   "source": [
    "sns.heatmap(bike_ds[['temp','hum','cnt','windspeed']].corr(), annot=True)\n",
    "plt.show()"
   ]
  },
  {
   "cell_type": "code",
   "execution_count": 64,
   "id": "b26708e2",
   "metadata": {},
   "outputs": [],
   "source": [
    "#Among numerical features, temp is highly correlated with cnt"
   ]
  },
  {
   "cell_type": "markdown",
   "id": "fcd9ec1c",
   "metadata": {},
   "source": [
    "## Deleting features which are not significant to the analysis"
   ]
  },
  {
   "cell_type": "code",
   "execution_count": 65,
   "id": "707aa2a0",
   "metadata": {},
   "outputs": [],
   "source": [
    "# There is yr column which has 0:2018,1:2019, drop variable year"
   ]
  },
  {
   "cell_type": "code",
   "execution_count": 66,
   "id": "8510dea5",
   "metadata": {},
   "outputs": [],
   "source": [
    "del(bike_ds['year'])"
   ]
  },
  {
   "cell_type": "code",
   "execution_count": 67,
   "id": "d32648cc",
   "metadata": {},
   "outputs": [],
   "source": [
    "bike_ds.rename(columns={'yr':'year'},inplace=True)"
   ]
  },
  {
   "cell_type": "code",
   "execution_count": 68,
   "id": "90344f08",
   "metadata": {},
   "outputs": [
    {
     "data": {
      "text/html": [
       "<div>\n",
       "<style scoped>\n",
       "    .dataframe tbody tr th:only-of-type {\n",
       "        vertical-align: middle;\n",
       "    }\n",
       "\n",
       "    .dataframe tbody tr th {\n",
       "        vertical-align: top;\n",
       "    }\n",
       "\n",
       "    .dataframe thead th {\n",
       "        text-align: right;\n",
       "    }\n",
       "</style>\n",
       "<table border=\"1\" class=\"dataframe\">\n",
       "  <thead>\n",
       "    <tr style=\"text-align: right;\">\n",
       "      <th></th>\n",
       "      <th>season</th>\n",
       "      <th>year</th>\n",
       "      <th>holiday</th>\n",
       "      <th>weekday</th>\n",
       "      <th>workingday</th>\n",
       "      <th>weathersit</th>\n",
       "      <th>temp</th>\n",
       "      <th>atemp</th>\n",
       "      <th>hum</th>\n",
       "      <th>windspeed</th>\n",
       "      <th>cnt</th>\n",
       "      <th>month</th>\n",
       "    </tr>\n",
       "  </thead>\n",
       "  <tbody>\n",
       "    <tr>\n",
       "      <th>0</th>\n",
       "      <td>1</td>\n",
       "      <td>0</td>\n",
       "      <td>0</td>\n",
       "      <td>6</td>\n",
       "      <td>0</td>\n",
       "      <td>2</td>\n",
       "      <td>14.110847</td>\n",
       "      <td>18.18125</td>\n",
       "      <td>80.5833</td>\n",
       "      <td>10.749882</td>\n",
       "      <td>985</td>\n",
       "      <td>1</td>\n",
       "    </tr>\n",
       "    <tr>\n",
       "      <th>1</th>\n",
       "      <td>1</td>\n",
       "      <td>0</td>\n",
       "      <td>0</td>\n",
       "      <td>0</td>\n",
       "      <td>0</td>\n",
       "      <td>2</td>\n",
       "      <td>14.902598</td>\n",
       "      <td>17.68695</td>\n",
       "      <td>69.6087</td>\n",
       "      <td>16.652113</td>\n",
       "      <td>801</td>\n",
       "      <td>1</td>\n",
       "    </tr>\n",
       "    <tr>\n",
       "      <th>2</th>\n",
       "      <td>1</td>\n",
       "      <td>0</td>\n",
       "      <td>0</td>\n",
       "      <td>1</td>\n",
       "      <td>1</td>\n",
       "      <td>1</td>\n",
       "      <td>8.050924</td>\n",
       "      <td>9.47025</td>\n",
       "      <td>43.7273</td>\n",
       "      <td>16.636703</td>\n",
       "      <td>1349</td>\n",
       "      <td>1</td>\n",
       "    </tr>\n",
       "    <tr>\n",
       "      <th>3</th>\n",
       "      <td>1</td>\n",
       "      <td>0</td>\n",
       "      <td>0</td>\n",
       "      <td>2</td>\n",
       "      <td>1</td>\n",
       "      <td>1</td>\n",
       "      <td>8.200000</td>\n",
       "      <td>10.60610</td>\n",
       "      <td>59.0435</td>\n",
       "      <td>10.739832</td>\n",
       "      <td>1562</td>\n",
       "      <td>1</td>\n",
       "    </tr>\n",
       "    <tr>\n",
       "      <th>4</th>\n",
       "      <td>1</td>\n",
       "      <td>0</td>\n",
       "      <td>0</td>\n",
       "      <td>3</td>\n",
       "      <td>1</td>\n",
       "      <td>1</td>\n",
       "      <td>9.305237</td>\n",
       "      <td>11.46350</td>\n",
       "      <td>43.6957</td>\n",
       "      <td>12.522300</td>\n",
       "      <td>1600</td>\n",
       "      <td>1</td>\n",
       "    </tr>\n",
       "  </tbody>\n",
       "</table>\n",
       "</div>"
      ],
      "text/plain": [
       "   season  year  holiday  weekday  workingday  weathersit       temp  \\\n",
       "0       1     0        0        6           0           2  14.110847   \n",
       "1       1     0        0        0           0           2  14.902598   \n",
       "2       1     0        0        1           1           1   8.050924   \n",
       "3       1     0        0        2           1           1   8.200000   \n",
       "4       1     0        0        3           1           1   9.305237   \n",
       "\n",
       "      atemp      hum  windspeed   cnt  month  \n",
       "0  18.18125  80.5833  10.749882   985      1  \n",
       "1  17.68695  69.6087  16.652113   801      1  \n",
       "2   9.47025  43.7273  16.636703  1349      1  \n",
       "3  10.60610  59.0435  10.739832  1562      1  \n",
       "4  11.46350  43.6957  12.522300  1600      1  "
      ]
     },
     "execution_count": 68,
     "metadata": {},
     "output_type": "execute_result"
    }
   ],
   "source": [
    "bike_ds.head()"
   ]
  },
  {
   "cell_type": "code",
   "execution_count": 69,
   "id": "834c6bad",
   "metadata": {},
   "outputs": [],
   "source": [
    "# list down all categorical variables and encode data respective values"
   ]
  },
  {
   "cell_type": "code",
   "execution_count": 70,
   "id": "1b376698",
   "metadata": {},
   "outputs": [
    {
     "data": {
      "text/html": [
       "<div>\n",
       "<style scoped>\n",
       "    .dataframe tbody tr th:only-of-type {\n",
       "        vertical-align: middle;\n",
       "    }\n",
       "\n",
       "    .dataframe tbody tr th {\n",
       "        vertical-align: top;\n",
       "    }\n",
       "\n",
       "    .dataframe thead th {\n",
       "        text-align: right;\n",
       "    }\n",
       "</style>\n",
       "<table border=\"1\" class=\"dataframe\">\n",
       "  <thead>\n",
       "    <tr style=\"text-align: right;\">\n",
       "      <th></th>\n",
       "      <th>season</th>\n",
       "      <th>year</th>\n",
       "      <th>holiday</th>\n",
       "      <th>weekday</th>\n",
       "      <th>workingday</th>\n",
       "      <th>weathersit</th>\n",
       "      <th>temp</th>\n",
       "      <th>atemp</th>\n",
       "      <th>hum</th>\n",
       "      <th>windspeed</th>\n",
       "      <th>cnt</th>\n",
       "      <th>month</th>\n",
       "    </tr>\n",
       "  </thead>\n",
       "  <tbody>\n",
       "    <tr>\n",
       "      <th>0</th>\n",
       "      <td>1</td>\n",
       "      <td>0</td>\n",
       "      <td>0</td>\n",
       "      <td>6</td>\n",
       "      <td>0</td>\n",
       "      <td>2</td>\n",
       "      <td>14.110847</td>\n",
       "      <td>18.18125</td>\n",
       "      <td>80.5833</td>\n",
       "      <td>10.749882</td>\n",
       "      <td>985</td>\n",
       "      <td>1</td>\n",
       "    </tr>\n",
       "    <tr>\n",
       "      <th>1</th>\n",
       "      <td>1</td>\n",
       "      <td>0</td>\n",
       "      <td>0</td>\n",
       "      <td>0</td>\n",
       "      <td>0</td>\n",
       "      <td>2</td>\n",
       "      <td>14.902598</td>\n",
       "      <td>17.68695</td>\n",
       "      <td>69.6087</td>\n",
       "      <td>16.652113</td>\n",
       "      <td>801</td>\n",
       "      <td>1</td>\n",
       "    </tr>\n",
       "    <tr>\n",
       "      <th>2</th>\n",
       "      <td>1</td>\n",
       "      <td>0</td>\n",
       "      <td>0</td>\n",
       "      <td>1</td>\n",
       "      <td>1</td>\n",
       "      <td>1</td>\n",
       "      <td>8.050924</td>\n",
       "      <td>9.47025</td>\n",
       "      <td>43.7273</td>\n",
       "      <td>16.636703</td>\n",
       "      <td>1349</td>\n",
       "      <td>1</td>\n",
       "    </tr>\n",
       "    <tr>\n",
       "      <th>3</th>\n",
       "      <td>1</td>\n",
       "      <td>0</td>\n",
       "      <td>0</td>\n",
       "      <td>2</td>\n",
       "      <td>1</td>\n",
       "      <td>1</td>\n",
       "      <td>8.200000</td>\n",
       "      <td>10.60610</td>\n",
       "      <td>59.0435</td>\n",
       "      <td>10.739832</td>\n",
       "      <td>1562</td>\n",
       "      <td>1</td>\n",
       "    </tr>\n",
       "    <tr>\n",
       "      <th>4</th>\n",
       "      <td>1</td>\n",
       "      <td>0</td>\n",
       "      <td>0</td>\n",
       "      <td>3</td>\n",
       "      <td>1</td>\n",
       "      <td>1</td>\n",
       "      <td>9.305237</td>\n",
       "      <td>11.46350</td>\n",
       "      <td>43.6957</td>\n",
       "      <td>12.522300</td>\n",
       "      <td>1600</td>\n",
       "      <td>1</td>\n",
       "    </tr>\n",
       "  </tbody>\n",
       "</table>\n",
       "</div>"
      ],
      "text/plain": [
       "   season  year  holiday  weekday  workingday  weathersit       temp  \\\n",
       "0       1     0        0        6           0           2  14.110847   \n",
       "1       1     0        0        0           0           2  14.902598   \n",
       "2       1     0        0        1           1           1   8.050924   \n",
       "3       1     0        0        2           1           1   8.200000   \n",
       "4       1     0        0        3           1           1   9.305237   \n",
       "\n",
       "      atemp      hum  windspeed   cnt  month  \n",
       "0  18.18125  80.5833  10.749882   985      1  \n",
       "1  17.68695  69.6087  16.652113   801      1  \n",
       "2   9.47025  43.7273  16.636703  1349      1  \n",
       "3  10.60610  59.0435  10.739832  1562      1  \n",
       "4  11.46350  43.6957  12.522300  1600      1  "
      ]
     },
     "execution_count": 70,
     "metadata": {},
     "output_type": "execute_result"
    }
   ],
   "source": [
    "bike_ds.head()"
   ]
  },
  {
   "cell_type": "code",
   "execution_count": 71,
   "id": "0ace2d61",
   "metadata": {},
   "outputs": [],
   "source": [
    "#categorical variables:\n",
    "#Based on above data, categorical variables are season,weekday,workingday,weathersit,month"
   ]
  },
  {
   "cell_type": "code",
   "execution_count": 72,
   "id": "1075de5a",
   "metadata": {},
   "outputs": [],
   "source": [
    "#Drop holiday whch is not required for analysis"
   ]
  },
  {
   "cell_type": "code",
   "execution_count": 73,
   "id": "e011ca3f",
   "metadata": {},
   "outputs": [],
   "source": [
    "del(bike_ds['holiday'])"
   ]
  },
  {
   "cell_type": "markdown",
   "id": "5771455a",
   "metadata": {},
   "source": [
    "## Encoding of categorical variables::\n",
    "## Also includes univariate/bivariate analysis::"
   ]
  },
  {
   "cell_type": "code",
   "execution_count": 74,
   "id": "672015c5",
   "metadata": {},
   "outputs": [],
   "source": [
    "#Season variable is part of categorical variable for analysis, covert to encode this variable"
   ]
  },
  {
   "cell_type": "code",
   "execution_count": 75,
   "id": "6fb5b874",
   "metadata": {},
   "outputs": [
    {
     "data": {
      "text/plain": [
       "3    188\n",
       "2    184\n",
       "1    180\n",
       "4    178\n",
       "Name: season, dtype: int64"
      ]
     },
     "execution_count": 75,
     "metadata": {},
     "output_type": "execute_result"
    }
   ],
   "source": [
    "bike_ds.season.value_counts()"
   ]
  },
  {
   "cell_type": "code",
   "execution_count": 76,
   "id": "7fafd5d0",
   "metadata": {},
   "outputs": [],
   "source": [
    "#https://www.timeanddate.com/calendar/aboutseasons.html\n",
    "#As per above link there are four seasons \n",
    "#Encoded value is  1. spring, 2. summer, 3. autumn, 4. winter"
   ]
  },
  {
   "cell_type": "code",
   "execution_count": 77,
   "id": "cddc9e4f",
   "metadata": {},
   "outputs": [],
   "source": [
    "en_values = {1:'spring',2:'summer',3:'autumn',4:'winter'}\n",
    "bike_ds['season'] = bike_ds['season'].map(en_values)"
   ]
  },
  {
   "cell_type": "code",
   "execution_count": 78,
   "id": "ad351f8b",
   "metadata": {},
   "outputs": [
    {
     "data": {
      "text/plain": [
       "autumn    188\n",
       "summer    184\n",
       "spring    180\n",
       "winter    178\n",
       "Name: season, dtype: int64"
      ]
     },
     "execution_count": 78,
     "metadata": {},
     "output_type": "execute_result"
    }
   ],
   "source": [
    "bike_ds.season.value_counts()"
   ]
  },
  {
   "cell_type": "code",
   "execution_count": 79,
   "id": "980b1c9d",
   "metadata": {},
   "outputs": [
    {
     "data": {
      "image/png": "[encoded data removed]",
      "text/plain": [
       "<Figure size 432x288 with 1 Axes>"
      ]
     },
     "metadata": {
      "needs_background": "light"
     },
     "output_type": "display_data"
    }
   ],
   "source": [
    "sns.scatterplot(x='season',y='cnt',data=bike_ds,hue='season')\n",
    "plt.legend(bbox_to_anchor=(1.02, 1), loc='upper left', borderaxespad=0)\n",
    "plt.ylabel(\"count\")\n",
    "plt.show()\n"
   ]
  },
  {
   "cell_type": "code",
   "execution_count": 80,
   "id": "e65000f3",
   "metadata": {},
   "outputs": [],
   "source": [
    "#Create dummy variables from season variable"
   ]
  },
  {
   "cell_type": "code",
   "execution_count": 81,
   "id": "4b943cc8",
   "metadata": {},
   "outputs": [],
   "source": [
    "season_dummy_var = pd.get_dummies(bike_ds['season'],drop_first=True)"
   ]
  },
  {
   "cell_type": "code",
   "execution_count": 82,
   "id": "c46537de",
   "metadata": {},
   "outputs": [],
   "source": [
    "bike_ds = pd.concat([bike_ds,season_dummy_var],axis=1)"
   ]
  },
  {
   "cell_type": "code",
   "execution_count": 83,
   "id": "e10b0600",
   "metadata": {},
   "outputs": [
    {
     "data": {
      "text/html": [
       "<div>\n",
       "<style scoped>\n",
       "    .dataframe tbody tr th:only-of-type {\n",
       "        vertical-align: middle;\n",
       "    }\n",
       "\n",
       "    .dataframe tbody tr th {\n",
       "        vertical-align: top;\n",
       "    }\n",
       "\n",
       "    .dataframe thead th {\n",
       "        text-align: right;\n",
       "    }\n",
       "</style>\n",
       "<table border=\"1\" class=\"dataframe\">\n",
       "  <thead>\n",
       "    <tr style=\"text-align: right;\">\n",
       "      <th></th>\n",
       "      <th>season</th>\n",
       "      <th>year</th>\n",
       "      <th>weekday</th>\n",
       "      <th>workingday</th>\n",
       "      <th>weathersit</th>\n",
       "      <th>temp</th>\n",
       "      <th>atemp</th>\n",
       "      <th>hum</th>\n",
       "      <th>windspeed</th>\n",
       "      <th>cnt</th>\n",
       "      <th>month</th>\n",
       "      <th>spring</th>\n",
       "      <th>summer</th>\n",
       "      <th>winter</th>\n",
       "    </tr>\n",
       "  </thead>\n",
       "  <tbody>\n",
       "    <tr>\n",
       "      <th>0</th>\n",
       "      <td>spring</td>\n",
       "      <td>0</td>\n",
       "      <td>6</td>\n",
       "      <td>0</td>\n",
       "      <td>2</td>\n",
       "      <td>14.110847</td>\n",
       "      <td>18.18125</td>\n",
       "      <td>80.5833</td>\n",
       "      <td>10.749882</td>\n",
       "      <td>985</td>\n",
       "      <td>1</td>\n",
       "      <td>1</td>\n",
       "      <td>0</td>\n",
       "      <td>0</td>\n",
       "    </tr>\n",
       "    <tr>\n",
       "      <th>1</th>\n",
       "      <td>spring</td>\n",
       "      <td>0</td>\n",
       "      <td>0</td>\n",
       "      <td>0</td>\n",
       "      <td>2</td>\n",
       "      <td>14.902598</td>\n",
       "      <td>17.68695</td>\n",
       "      <td>69.6087</td>\n",
       "      <td>16.652113</td>\n",
       "      <td>801</td>\n",
       "      <td>1</td>\n",
       "      <td>1</td>\n",
       "      <td>0</td>\n",
       "      <td>0</td>\n",
       "    </tr>\n",
       "  </tbody>\n",
       "</table>\n",
       "</div>"
      ],
      "text/plain": [
       "   season  year  weekday  workingday  weathersit       temp     atemp  \\\n",
       "0  spring     0        6           0           2  14.110847  18.18125   \n",
       "1  spring     0        0           0           2  14.902598  17.68695   \n",
       "\n",
       "       hum  windspeed  cnt  month  spring  summer  winter  \n",
       "0  80.5833  10.749882  985      1       1       0       0  \n",
       "1  69.6087  16.652113  801      1       1       0       0  "
      ]
     },
     "execution_count": 83,
     "metadata": {},
     "output_type": "execute_result"
    }
   ],
   "source": [
    "bike_ds.head(2)"
   ]
  },
  {
   "cell_type": "code",
   "execution_count": 84,
   "id": "b5c45337",
   "metadata": {},
   "outputs": [],
   "source": [
    "#Check data in weekday variable"
   ]
  },
  {
   "cell_type": "code",
   "execution_count": 85,
   "id": "e675f61e",
   "metadata": {},
   "outputs": [
    {
     "data": {
      "text/plain": [
       "0    6\n",
       "1    0\n",
       "2    1\n",
       "3    2\n",
       "4    3\n",
       "Name: weekday, dtype: int64"
      ]
     },
     "execution_count": 85,
     "metadata": {},
     "output_type": "execute_result"
    }
   ],
   "source": [
    "bike_ds.weekday.head()"
   ]
  },
  {
   "cell_type": "code",
   "execution_count": 86,
   "id": "66176595",
   "metadata": {},
   "outputs": [],
   "source": [
    "#encode values like below\n",
    "# 0: mon, 1: tues, 2:wed, 3:thur,4:Fri,5:sat,6:sun"
   ]
  },
  {
   "cell_type": "code",
   "execution_count": 87,
   "id": "7fb366f0",
   "metadata": {},
   "outputs": [],
   "source": [
    "weekday_code = {0:'mon',1:'tue',2:'wed',3:'thu',4:'fri',5:'sat',6:'sun'}\n",
    "bike_ds['weekday'] = bike_ds['weekday'].map(weekday_code)"
   ]
  },
  {
   "cell_type": "code",
   "execution_count": 88,
   "id": "6a791c1a",
   "metadata": {},
   "outputs": [
    {
     "data": {
      "text/html": [
       "<div>\n",
       "<style scoped>\n",
       "    .dataframe tbody tr th:only-of-type {\n",
       "        vertical-align: middle;\n",
       "    }\n",
       "\n",
       "    .dataframe tbody tr th {\n",
       "        vertical-align: top;\n",
       "    }\n",
       "\n",
       "    .dataframe thead th {\n",
       "        text-align: right;\n",
       "    }\n",
       "</style>\n",
       "<table border=\"1\" class=\"dataframe\">\n",
       "  <thead>\n",
       "    <tr style=\"text-align: right;\">\n",
       "      <th></th>\n",
       "      <th>season</th>\n",
       "      <th>year</th>\n",
       "      <th>weekday</th>\n",
       "      <th>workingday</th>\n",
       "      <th>weathersit</th>\n",
       "      <th>temp</th>\n",
       "      <th>atemp</th>\n",
       "      <th>hum</th>\n",
       "      <th>windspeed</th>\n",
       "      <th>cnt</th>\n",
       "      <th>month</th>\n",
       "      <th>spring</th>\n",
       "      <th>summer</th>\n",
       "      <th>winter</th>\n",
       "    </tr>\n",
       "  </thead>\n",
       "  <tbody>\n",
       "    <tr>\n",
       "      <th>0</th>\n",
       "      <td>spring</td>\n",
       "      <td>0</td>\n",
       "      <td>sun</td>\n",
       "      <td>0</td>\n",
       "      <td>2</td>\n",
       "      <td>14.110847</td>\n",
       "      <td>18.18125</td>\n",
       "      <td>80.5833</td>\n",
       "      <td>10.749882</td>\n",
       "      <td>985</td>\n",
       "      <td>1</td>\n",
       "      <td>1</td>\n",
       "      <td>0</td>\n",
       "      <td>0</td>\n",
       "    </tr>\n",
       "    <tr>\n",
       "      <th>1</th>\n",
       "      <td>spring</td>\n",
       "      <td>0</td>\n",
       "      <td>mon</td>\n",
       "      <td>0</td>\n",
       "      <td>2</td>\n",
       "      <td>14.902598</td>\n",
       "      <td>17.68695</td>\n",
       "      <td>69.6087</td>\n",
       "      <td>16.652113</td>\n",
       "      <td>801</td>\n",
       "      <td>1</td>\n",
       "      <td>1</td>\n",
       "      <td>0</td>\n",
       "      <td>0</td>\n",
       "    </tr>\n",
       "    <tr>\n",
       "      <th>2</th>\n",
       "      <td>spring</td>\n",
       "      <td>0</td>\n",
       "      <td>tue</td>\n",
       "      <td>1</td>\n",
       "      <td>1</td>\n",
       "      <td>8.050924</td>\n",
       "      <td>9.47025</td>\n",
       "      <td>43.7273</td>\n",
       "      <td>16.636703</td>\n",
       "      <td>1349</td>\n",
       "      <td>1</td>\n",
       "      <td>1</td>\n",
       "      <td>0</td>\n",
       "      <td>0</td>\n",
       "    </tr>\n",
       "    <tr>\n",
       "      <th>3</th>\n",
       "      <td>spring</td>\n",
       "      <td>0</td>\n",
       "      <td>wed</td>\n",
       "      <td>1</td>\n",
       "      <td>1</td>\n",
       "      <td>8.200000</td>\n",
       "      <td>10.60610</td>\n",
       "      <td>59.0435</td>\n",
       "      <td>10.739832</td>\n",
       "      <td>1562</td>\n",
       "      <td>1</td>\n",
       "      <td>1</td>\n",
       "      <td>0</td>\n",
       "      <td>0</td>\n",
       "    </tr>\n",
       "    <tr>\n",
       "      <th>4</th>\n",
       "      <td>spring</td>\n",
       "      <td>0</td>\n",
       "      <td>thu</td>\n",
       "      <td>1</td>\n",
       "      <td>1</td>\n",
       "      <td>9.305237</td>\n",
       "      <td>11.46350</td>\n",
       "      <td>43.6957</td>\n",
       "      <td>12.522300</td>\n",
       "      <td>1600</td>\n",
       "      <td>1</td>\n",
       "      <td>1</td>\n",
       "      <td>0</td>\n",
       "      <td>0</td>\n",
       "    </tr>\n",
       "  </tbody>\n",
       "</table>\n",
       "</div>"
      ],
      "text/plain": [
       "   season  year weekday  workingday  weathersit       temp     atemp      hum  \\\n",
       "0  spring     0     sun           0           2  14.110847  18.18125  80.5833   \n",
       "1  spring     0     mon           0           2  14.902598  17.68695  69.6087   \n",
       "2  spring     0     tue           1           1   8.050924   9.47025  43.7273   \n",
       "3  spring     0     wed           1           1   8.200000  10.60610  59.0435   \n",
       "4  spring     0     thu           1           1   9.305237  11.46350  43.6957   \n",
       "\n",
       "   windspeed   cnt  month  spring  summer  winter  \n",
       "0  10.749882   985      1       1       0       0  \n",
       "1  16.652113   801      1       1       0       0  \n",
       "2  16.636703  1349      1       1       0       0  \n",
       "3  10.739832  1562      1       1       0       0  \n",
       "4  12.522300  1600      1       1       0       0  "
      ]
     },
     "execution_count": 88,
     "metadata": {},
     "output_type": "execute_result"
    }
   ],
   "source": [
    "bike_ds.head()"
   ]
  },
  {
   "cell_type": "code",
   "execution_count": 89,
   "id": "b59450d0",
   "metadata": {},
   "outputs": [
    {
     "data": {
      "image/png": "[encoded data removed]",
      "text/plain": [
       "<Figure size 432x288 with 1 Axes>"
      ]
     },
     "metadata": {
      "needs_background": "light"
     },
     "output_type": "display_data"
    }
   ],
   "source": [
    "sns.barplot(x=bike_ds.weekday,y=bike_ds.cnt,ci=None)\n",
    "plt.show()"
   ]
  },
  {
   "cell_type": "code",
   "execution_count": 90,
   "id": "1130a150",
   "metadata": {},
   "outputs": [],
   "source": [
    "#Create dummy variables"
   ]
  },
  {
   "cell_type": "code",
   "execution_count": 91,
   "id": "dfbd9ce4",
   "metadata": {},
   "outputs": [],
   "source": [
    "weekday_dummy_var = pd.get_dummies(bike_ds['weekday'],drop_first=True)"
   ]
  },
  {
   "cell_type": "code",
   "execution_count": 92,
   "id": "bb46328b",
   "metadata": {},
   "outputs": [],
   "source": [
    "bike_ds = pd.concat([bike_ds,weekday_dummy_var],axis=1)"
   ]
  },
  {
   "cell_type": "code",
   "execution_count": 93,
   "id": "761eb3ad",
   "metadata": {},
   "outputs": [
    {
     "data": {
      "text/html": [
       "<div>\n",
       "<style scoped>\n",
       "    .dataframe tbody tr th:only-of-type {\n",
       "        vertical-align: middle;\n",
       "    }\n",
       "\n",
       "    .dataframe tbody tr th {\n",
       "        vertical-align: top;\n",
       "    }\n",
       "\n",
       "    .dataframe thead th {\n",
       "        text-align: right;\n",
       "    }\n",
       "</style>\n",
       "<table border=\"1\" class=\"dataframe\">\n",
       "  <thead>\n",
       "    <tr style=\"text-align: right;\">\n",
       "      <th></th>\n",
       "      <th>season</th>\n",
       "      <th>year</th>\n",
       "      <th>weekday</th>\n",
       "      <th>workingday</th>\n",
       "      <th>weathersit</th>\n",
       "      <th>temp</th>\n",
       "      <th>atemp</th>\n",
       "      <th>hum</th>\n",
       "      <th>windspeed</th>\n",
       "      <th>cnt</th>\n",
       "      <th>month</th>\n",
       "      <th>spring</th>\n",
       "      <th>summer</th>\n",
       "      <th>winter</th>\n",
       "      <th>mon</th>\n",
       "      <th>sat</th>\n",
       "      <th>sun</th>\n",
       "      <th>thu</th>\n",
       "      <th>tue</th>\n",
       "      <th>wed</th>\n",
       "    </tr>\n",
       "  </thead>\n",
       "  <tbody>\n",
       "    <tr>\n",
       "      <th>0</th>\n",
       "      <td>spring</td>\n",
       "      <td>0</td>\n",
       "      <td>sun</td>\n",
       "      <td>0</td>\n",
       "      <td>2</td>\n",
       "      <td>14.110847</td>\n",
       "      <td>18.18125</td>\n",
       "      <td>80.5833</td>\n",
       "      <td>10.749882</td>\n",
       "      <td>985</td>\n",
       "      <td>1</td>\n",
       "      <td>1</td>\n",
       "      <td>0</td>\n",
       "      <td>0</td>\n",
       "      <td>0</td>\n",
       "      <td>0</td>\n",
       "      <td>1</td>\n",
       "      <td>0</td>\n",
       "      <td>0</td>\n",
       "      <td>0</td>\n",
       "    </tr>\n",
       "    <tr>\n",
       "      <th>1</th>\n",
       "      <td>spring</td>\n",
       "      <td>0</td>\n",
       "      <td>mon</td>\n",
       "      <td>0</td>\n",
       "      <td>2</td>\n",
       "      <td>14.902598</td>\n",
       "      <td>17.68695</td>\n",
       "      <td>69.6087</td>\n",
       "      <td>16.652113</td>\n",
       "      <td>801</td>\n",
       "      <td>1</td>\n",
       "      <td>1</td>\n",
       "      <td>0</td>\n",
       "      <td>0</td>\n",
       "      <td>1</td>\n",
       "      <td>0</td>\n",
       "      <td>0</td>\n",
       "      <td>0</td>\n",
       "      <td>0</td>\n",
       "      <td>0</td>\n",
       "    </tr>\n",
       "    <tr>\n",
       "      <th>2</th>\n",
       "      <td>spring</td>\n",
       "      <td>0</td>\n",
       "      <td>tue</td>\n",
       "      <td>1</td>\n",
       "      <td>1</td>\n",
       "      <td>8.050924</td>\n",
       "      <td>9.47025</td>\n",
       "      <td>43.7273</td>\n",
       "      <td>16.636703</td>\n",
       "      <td>1349</td>\n",
       "      <td>1</td>\n",
       "      <td>1</td>\n",
       "      <td>0</td>\n",
       "      <td>0</td>\n",
       "      <td>0</td>\n",
       "      <td>0</td>\n",
       "      <td>0</td>\n",
       "      <td>0</td>\n",
       "      <td>1</td>\n",
       "      <td>0</td>\n",
       "    </tr>\n",
       "    <tr>\n",
       "      <th>3</th>\n",
       "      <td>spring</td>\n",
       "      <td>0</td>\n",
       "      <td>wed</td>\n",
       "      <td>1</td>\n",
       "      <td>1</td>\n",
       "      <td>8.200000</td>\n",
       "      <td>10.60610</td>\n",
       "      <td>59.0435</td>\n",
       "      <td>10.739832</td>\n",
       "      <td>1562</td>\n",
       "      <td>1</td>\n",
       "      <td>1</td>\n",
       "      <td>0</td>\n",
       "      <td>0</td>\n",
       "      <td>0</td>\n",
       "      <td>0</td>\n",
       "      <td>0</td>\n",
       "      <td>0</td>\n",
       "      <td>0</td>\n",
       "      <td>1</td>\n",
       "    </tr>\n",
       "    <tr>\n",
       "      <th>4</th>\n",
       "      <td>spring</td>\n",
       "      <td>0</td>\n",
       "      <td>thu</td>\n",
       "      <td>1</td>\n",
       "      <td>1</td>\n",
       "      <td>9.305237</td>\n",
       "      <td>11.46350</td>\n",
       "      <td>43.6957</td>\n",
       "      <td>12.522300</td>\n",
       "      <td>1600</td>\n",
       "      <td>1</td>\n",
       "      <td>1</td>\n",
       "      <td>0</td>\n",
       "      <td>0</td>\n",
       "      <td>0</td>\n",
       "      <td>0</td>\n",
       "      <td>0</td>\n",
       "      <td>1</td>\n",
       "      <td>0</td>\n",
       "      <td>0</td>\n",
       "    </tr>\n",
       "  </tbody>\n",
       "</table>\n",
       "</div>"
      ],
      "text/plain": [
       "   season  year weekday  workingday  weathersit       temp     atemp      hum  \\\n",
       "0  spring     0     sun           0           2  14.110847  18.18125  80.5833   \n",
       "1  spring     0     mon           0           2  14.902598  17.68695  69.6087   \n",
       "2  spring     0     tue           1           1   8.050924   9.47025  43.7273   \n",
       "3  spring     0     wed           1           1   8.200000  10.60610  59.0435   \n",
       "4  spring     0     thu           1           1   9.305237  11.46350  43.6957   \n",
       "\n",
       "   windspeed   cnt  month  spring  summer  winter  mon  sat  sun  thu  tue  \\\n",
       "0  10.749882   985      1       1       0       0    0    0    1    0    0   \n",
       "1  16.652113   801      1       1       0       0    1    0    0    0    0   \n",
       "2  16.636703  1349      1       1       0       0    0    0    0    0    1   \n",
       "3  10.739832  1562      1       1       0       0    0    0    0    0    0   \n",
       "4  12.522300  1600      1       1       0       0    0    0    0    1    0   \n",
       "\n",
       "   wed  \n",
       "0    0  \n",
       "1    0  \n",
       "2    0  \n",
       "3    1  \n",
       "4    0  "
      ]
     },
     "execution_count": 93,
     "metadata": {},
     "output_type": "execute_result"
    }
   ],
   "source": [
    "bike_ds.head()"
   ]
  },
  {
   "cell_type": "code",
   "execution_count": 94,
   "id": "b7cf592a",
   "metadata": {},
   "outputs": [],
   "source": [
    "#analyze data in workingday variable"
   ]
  },
  {
   "cell_type": "code",
   "execution_count": 95,
   "id": "b64e248b",
   "metadata": {},
   "outputs": [
    {
     "data": {
      "text/plain": [
       "1    499\n",
       "0    231\n",
       "Name: workingday, dtype: int64"
      ]
     },
     "execution_count": 95,
     "metadata": {},
     "output_type": "execute_result"
    }
   ],
   "source": [
    "bike_ds.workingday.value_counts()"
   ]
  },
  {
   "cell_type": "code",
   "execution_count": 96,
   "id": "c975ffd6",
   "metadata": {},
   "outputs": [],
   "source": [
    "#ecode values\n",
    "#0: holiday,1:working days"
   ]
  },
  {
   "cell_type": "code",
   "execution_count": 97,
   "id": "31d9366d",
   "metadata": {},
   "outputs": [],
   "source": [
    "workingday_code = {0:'Holiday',1:'working_day'}\n",
    "bike_ds['workingday'] = bike_ds['workingday'].map(workingday_code)"
   ]
  },
  {
   "cell_type": "code",
   "execution_count": 98,
   "id": "75b9ebf8",
   "metadata": {},
   "outputs": [
    {
     "data": {
      "text/html": [
       "<div>\n",
       "<style scoped>\n",
       "    .dataframe tbody tr th:only-of-type {\n",
       "        vertical-align: middle;\n",
       "    }\n",
       "\n",
       "    .dataframe tbody tr th {\n",
       "        vertical-align: top;\n",
       "    }\n",
       "\n",
       "    .dataframe thead th {\n",
       "        text-align: right;\n",
       "    }\n",
       "</style>\n",
       "<table border=\"1\" class=\"dataframe\">\n",
       "  <thead>\n",
       "    <tr style=\"text-align: right;\">\n",
       "      <th></th>\n",
       "      <th>season</th>\n",
       "      <th>year</th>\n",
       "      <th>weekday</th>\n",
       "      <th>workingday</th>\n",
       "      <th>weathersit</th>\n",
       "      <th>temp</th>\n",
       "      <th>atemp</th>\n",
       "      <th>hum</th>\n",
       "      <th>windspeed</th>\n",
       "      <th>cnt</th>\n",
       "      <th>month</th>\n",
       "      <th>spring</th>\n",
       "      <th>summer</th>\n",
       "      <th>winter</th>\n",
       "      <th>mon</th>\n",
       "      <th>sat</th>\n",
       "      <th>sun</th>\n",
       "      <th>thu</th>\n",
       "      <th>tue</th>\n",
       "      <th>wed</th>\n",
       "    </tr>\n",
       "  </thead>\n",
       "  <tbody>\n",
       "    <tr>\n",
       "      <th>0</th>\n",
       "      <td>spring</td>\n",
       "      <td>0</td>\n",
       "      <td>sun</td>\n",
       "      <td>Holiday</td>\n",
       "      <td>2</td>\n",
       "      <td>14.110847</td>\n",
       "      <td>18.18125</td>\n",
       "      <td>80.5833</td>\n",
       "      <td>10.749882</td>\n",
       "      <td>985</td>\n",
       "      <td>1</td>\n",
       "      <td>1</td>\n",
       "      <td>0</td>\n",
       "      <td>0</td>\n",
       "      <td>0</td>\n",
       "      <td>0</td>\n",
       "      <td>1</td>\n",
       "      <td>0</td>\n",
       "      <td>0</td>\n",
       "      <td>0</td>\n",
       "    </tr>\n",
       "    <tr>\n",
       "      <th>1</th>\n",
       "      <td>spring</td>\n",
       "      <td>0</td>\n",
       "      <td>mon</td>\n",
       "      <td>Holiday</td>\n",
       "      <td>2</td>\n",
       "      <td>14.902598</td>\n",
       "      <td>17.68695</td>\n",
       "      <td>69.6087</td>\n",
       "      <td>16.652113</td>\n",
       "      <td>801</td>\n",
       "      <td>1</td>\n",
       "      <td>1</td>\n",
       "      <td>0</td>\n",
       "      <td>0</td>\n",
       "      <td>1</td>\n",
       "      <td>0</td>\n",
       "      <td>0</td>\n",
       "      <td>0</td>\n",
       "      <td>0</td>\n",
       "      <td>0</td>\n",
       "    </tr>\n",
       "    <tr>\n",
       "      <th>2</th>\n",
       "      <td>spring</td>\n",
       "      <td>0</td>\n",
       "      <td>tue</td>\n",
       "      <td>working_day</td>\n",
       "      <td>1</td>\n",
       "      <td>8.050924</td>\n",
       "      <td>9.47025</td>\n",
       "      <td>43.7273</td>\n",
       "      <td>16.636703</td>\n",
       "      <td>1349</td>\n",
       "      <td>1</td>\n",
       "      <td>1</td>\n",
       "      <td>0</td>\n",
       "      <td>0</td>\n",
       "      <td>0</td>\n",
       "      <td>0</td>\n",
       "      <td>0</td>\n",
       "      <td>0</td>\n",
       "      <td>1</td>\n",
       "      <td>0</td>\n",
       "    </tr>\n",
       "    <tr>\n",
       "      <th>3</th>\n",
       "      <td>spring</td>\n",
       "      <td>0</td>\n",
       "      <td>wed</td>\n",
       "      <td>working_day</td>\n",
       "      <td>1</td>\n",
       "      <td>8.200000</td>\n",
       "      <td>10.60610</td>\n",
       "      <td>59.0435</td>\n",
       "      <td>10.739832</td>\n",
       "      <td>1562</td>\n",
       "      <td>1</td>\n",
       "      <td>1</td>\n",
       "      <td>0</td>\n",
       "      <td>0</td>\n",
       "      <td>0</td>\n",
       "      <td>0</td>\n",
       "      <td>0</td>\n",
       "      <td>0</td>\n",
       "      <td>0</td>\n",
       "      <td>1</td>\n",
       "    </tr>\n",
       "    <tr>\n",
       "      <th>4</th>\n",
       "      <td>spring</td>\n",
       "      <td>0</td>\n",
       "      <td>thu</td>\n",
       "      <td>working_day</td>\n",
       "      <td>1</td>\n",
       "      <td>9.305237</td>\n",
       "      <td>11.46350</td>\n",
       "      <td>43.6957</td>\n",
       "      <td>12.522300</td>\n",
       "      <td>1600</td>\n",
       "      <td>1</td>\n",
       "      <td>1</td>\n",
       "      <td>0</td>\n",
       "      <td>0</td>\n",
       "      <td>0</td>\n",
       "      <td>0</td>\n",
       "      <td>0</td>\n",
       "      <td>1</td>\n",
       "      <td>0</td>\n",
       "      <td>0</td>\n",
       "    </tr>\n",
       "  </tbody>\n",
       "</table>\n",
       "</div>"
      ],
      "text/plain": [
       "   season  year weekday   workingday  weathersit       temp     atemp  \\\n",
       "0  spring     0     sun      Holiday           2  14.110847  18.18125   \n",
       "1  spring     0     mon      Holiday           2  14.902598  17.68695   \n",
       "2  spring     0     tue  working_day           1   8.050924   9.47025   \n",
       "3  spring     0     wed  working_day           1   8.200000  10.60610   \n",
       "4  spring     0     thu  working_day           1   9.305237  11.46350   \n",
       "\n",
       "       hum  windspeed   cnt  month  spring  summer  winter  mon  sat  sun  \\\n",
       "0  80.5833  10.749882   985      1       1       0       0    0    0    1   \n",
       "1  69.6087  16.652113   801      1       1       0       0    1    0    0   \n",
       "2  43.7273  16.636703  1349      1       1       0       0    0    0    0   \n",
       "3  59.0435  10.739832  1562      1       1       0       0    0    0    0   \n",
       "4  43.6957  12.522300  1600      1       1       0       0    0    0    0   \n",
       "\n",
       "   thu  tue  wed  \n",
       "0    0    0    0  \n",
       "1    0    0    0  \n",
       "2    0    1    0  \n",
       "3    0    0    1  \n",
       "4    1    0    0  "
      ]
     },
     "execution_count": 98,
     "metadata": {},
     "output_type": "execute_result"
    }
   ],
   "source": [
    "bike_ds.head(5)"
   ]
  },
  {
   "cell_type": "code",
   "execution_count": 99,
   "id": "5aa23160",
   "metadata": {},
   "outputs": [
    {
     "data": {
      "text/plain": [
       "<AxesSubplot:xlabel='workingday', ylabel='count'>"
      ]
     },
     "execution_count": 99,
     "metadata": {},
     "output_type": "execute_result"
    },
    {
     "data": {
      "image/png": "[encoded data removed]",
      "text/plain": [
       "<Figure size 432x288 with 1 Axes>"
      ]
     },
     "metadata": {
      "needs_background": "light"
     },
     "output_type": "display_data"
    }
   ],
   "source": [
    "sns.countplot(x='workingday',data=bike_ds)"
   ]
  },
  {
   "cell_type": "code",
   "execution_count": 100,
   "id": "2be5685d",
   "metadata": {},
   "outputs": [
    {
     "data": {
      "image/png": "[encoded data removed]",
      "text/plain": [
       "<Figure size 432x288 with 1 Axes>"
      ]
     },
     "metadata": {
      "needs_background": "light"
     },
     "output_type": "display_data"
    }
   ],
   "source": [
    "import warnings\n",
    "warnings.filterwarnings('ignore')\n",
    "sns.barplot('workingday','cnt',data=bike_ds)\n",
    "plt.ylabel('count')\n",
    "plt.show()"
   ]
  },
  {
   "cell_type": "code",
   "execution_count": 101,
   "id": "66fbb0ba",
   "metadata": {},
   "outputs": [],
   "source": [
    "#create dummy variables"
   ]
  },
  {
   "cell_type": "code",
   "execution_count": 102,
   "id": "42a753c2",
   "metadata": {},
   "outputs": [],
   "source": [
    "workingday_dummy_var = pd.get_dummies(bike_ds['workingday'],drop_first=True)\n",
    "bike_ds = pd.concat([bike_ds,workingday_dummy_var],axis=1)"
   ]
  },
  {
   "cell_type": "code",
   "execution_count": 103,
   "id": "c60ada5d",
   "metadata": {},
   "outputs": [
    {
     "data": {
      "text/html": [
       "<div>\n",
       "<style scoped>\n",
       "    .dataframe tbody tr th:only-of-type {\n",
       "        vertical-align: middle;\n",
       "    }\n",
       "\n",
       "    .dataframe tbody tr th {\n",
       "        vertical-align: top;\n",
       "    }\n",
       "\n",
       "    .dataframe thead th {\n",
       "        text-align: right;\n",
       "    }\n",
       "</style>\n",
       "<table border=\"1\" class=\"dataframe\">\n",
       "  <thead>\n",
       "    <tr style=\"text-align: right;\">\n",
       "      <th></th>\n",
       "      <th>season</th>\n",
       "      <th>year</th>\n",
       "      <th>weekday</th>\n",
       "      <th>workingday</th>\n",
       "      <th>weathersit</th>\n",
       "      <th>temp</th>\n",
       "      <th>atemp</th>\n",
       "      <th>hum</th>\n",
       "      <th>windspeed</th>\n",
       "      <th>cnt</th>\n",
       "      <th>...</th>\n",
       "      <th>spring</th>\n",
       "      <th>summer</th>\n",
       "      <th>winter</th>\n",
       "      <th>mon</th>\n",
       "      <th>sat</th>\n",
       "      <th>sun</th>\n",
       "      <th>thu</th>\n",
       "      <th>tue</th>\n",
       "      <th>wed</th>\n",
       "      <th>working_day</th>\n",
       "    </tr>\n",
       "  </thead>\n",
       "  <tbody>\n",
       "    <tr>\n",
       "      <th>0</th>\n",
       "      <td>spring</td>\n",
       "      <td>0</td>\n",
       "      <td>sun</td>\n",
       "      <td>Holiday</td>\n",
       "      <td>2</td>\n",
       "      <td>14.110847</td>\n",
       "      <td>18.18125</td>\n",
       "      <td>80.5833</td>\n",
       "      <td>10.749882</td>\n",
       "      <td>985</td>\n",
       "      <td>...</td>\n",
       "      <td>1</td>\n",
       "      <td>0</td>\n",
       "      <td>0</td>\n",
       "      <td>0</td>\n",
       "      <td>0</td>\n",
       "      <td>1</td>\n",
       "      <td>0</td>\n",
       "      <td>0</td>\n",
       "      <td>0</td>\n",
       "      <td>0</td>\n",
       "    </tr>\n",
       "    <tr>\n",
       "      <th>1</th>\n",
       "      <td>spring</td>\n",
       "      <td>0</td>\n",
       "      <td>mon</td>\n",
       "      <td>Holiday</td>\n",
       "      <td>2</td>\n",
       "      <td>14.902598</td>\n",
       "      <td>17.68695</td>\n",
       "      <td>69.6087</td>\n",
       "      <td>16.652113</td>\n",
       "      <td>801</td>\n",
       "      <td>...</td>\n",
       "      <td>1</td>\n",
       "      <td>0</td>\n",
       "      <td>0</td>\n",
       "      <td>1</td>\n",
       "      <td>0</td>\n",
       "      <td>0</td>\n",
       "      <td>0</td>\n",
       "      <td>0</td>\n",
       "      <td>0</td>\n",
       "      <td>0</td>\n",
       "    </tr>\n",
       "    <tr>\n",
       "      <th>2</th>\n",
       "      <td>spring</td>\n",
       "      <td>0</td>\n",
       "      <td>tue</td>\n",
       "      <td>working_day</td>\n",
       "      <td>1</td>\n",
       "      <td>8.050924</td>\n",
       "      <td>9.47025</td>\n",
       "      <td>43.7273</td>\n",
       "      <td>16.636703</td>\n",
       "      <td>1349</td>\n",
       "      <td>...</td>\n",
       "      <td>1</td>\n",
       "      <td>0</td>\n",
       "      <td>0</td>\n",
       "      <td>0</td>\n",
       "      <td>0</td>\n",
       "      <td>0</td>\n",
       "      <td>0</td>\n",
       "      <td>1</td>\n",
       "      <td>0</td>\n",
       "      <td>1</td>\n",
       "    </tr>\n",
       "    <tr>\n",
       "      <th>3</th>\n",
       "      <td>spring</td>\n",
       "      <td>0</td>\n",
       "      <td>wed</td>\n",
       "      <td>working_day</td>\n",
       "      <td>1</td>\n",
       "      <td>8.200000</td>\n",
       "      <td>10.60610</td>\n",
       "      <td>59.0435</td>\n",
       "      <td>10.739832</td>\n",
       "      <td>1562</td>\n",
       "      <td>...</td>\n",
       "      <td>1</td>\n",
       "      <td>0</td>\n",
       "      <td>0</td>\n",
       "      <td>0</td>\n",
       "      <td>0</td>\n",
       "      <td>0</td>\n",
       "      <td>0</td>\n",
       "      <td>0</td>\n",
       "      <td>1</td>\n",
       "      <td>1</td>\n",
       "    </tr>\n",
       "    <tr>\n",
       "      <th>4</th>\n",
       "      <td>spring</td>\n",
       "      <td>0</td>\n",
       "      <td>thu</td>\n",
       "      <td>working_day</td>\n",
       "      <td>1</td>\n",
       "      <td>9.305237</td>\n",
       "      <td>11.46350</td>\n",
       "      <td>43.6957</td>\n",
       "      <td>12.522300</td>\n",
       "      <td>1600</td>\n",
       "      <td>...</td>\n",
       "      <td>1</td>\n",
       "      <td>0</td>\n",
       "      <td>0</td>\n",
       "      <td>0</td>\n",
       "      <td>0</td>\n",
       "      <td>0</td>\n",
       "      <td>1</td>\n",
       "      <td>0</td>\n",
       "      <td>0</td>\n",
       "      <td>1</td>\n",
       "    </tr>\n",
       "  </tbody>\n",
       "</table>\n",
       "<p>5 rows × 21 columns</p>\n",
       "</div>"
      ],
      "text/plain": [
       "   season  year weekday   workingday  weathersit       temp     atemp  \\\n",
       "0  spring     0     sun      Holiday           2  14.110847  18.18125   \n",
       "1  spring     0     mon      Holiday           2  14.902598  17.68695   \n",
       "2  spring     0     tue  working_day           1   8.050924   9.47025   \n",
       "3  spring     0     wed  working_day           1   8.200000  10.60610   \n",
       "4  spring     0     thu  working_day           1   9.305237  11.46350   \n",
       "\n",
       "       hum  windspeed   cnt  ...  spring  summer  winter  mon  sat  sun  thu  \\\n",
       "0  80.5833  10.749882   985  ...       1       0       0    0    0    1    0   \n",
       "1  69.6087  16.652113   801  ...       1       0       0    1    0    0    0   \n",
       "2  43.7273  16.636703  1349  ...       1       0       0    0    0    0    0   \n",
       "3  59.0435  10.739832  1562  ...       1       0       0    0    0    0    0   \n",
       "4  43.6957  12.522300  1600  ...       1       0       0    0    0    0    1   \n",
       "\n",
       "   tue  wed  working_day  \n",
       "0    0    0            0  \n",
       "1    0    0            0  \n",
       "2    1    0            1  \n",
       "3    0    1            1  \n",
       "4    0    0            1  \n",
       "\n",
       "[5 rows x 21 columns]"
      ]
     },
     "execution_count": 103,
     "metadata": {},
     "output_type": "execute_result"
    }
   ],
   "source": [
    "bike_ds.head()"
   ]
  },
  {
   "cell_type": "code",
   "execution_count": 104,
   "id": "676431f2",
   "metadata": {},
   "outputs": [],
   "source": [
    "#analyze data in weathersit variable"
   ]
  },
  {
   "cell_type": "code",
   "execution_count": 105,
   "id": "2ff033a5",
   "metadata": {},
   "outputs": [
    {
     "data": {
      "text/plain": [
       "1    463\n",
       "2    246\n",
       "3     21\n",
       "Name: weathersit, dtype: int64"
      ]
     },
     "execution_count": 105,
     "metadata": {},
     "output_type": "execute_result"
    }
   ],
   "source": [
    "bike_ds.weathersit.value_counts()"
   ]
  },
  {
   "cell_type": "code",
   "execution_count": 106,
   "id": "bd8730a8",
   "metadata": {},
   "outputs": [],
   "source": [
    "#https://archive.ics.uci.edu/ml/datasets/bike+sharing+dataset\n",
    "#as per above link, econding values like below\n",
    "#1:clear,2:mist,2.light snow,3:heavy rain"
   ]
  },
  {
   "cell_type": "code",
   "execution_count": 107,
   "id": "8398d1b9",
   "metadata": {},
   "outputs": [],
   "source": [
    "weathersit_code = {1:'clear',2:'mist',3:'light snow',4:'heavy rain'}\n",
    "bike_ds['weathersit'] = bike_ds['weathersit'].map(weathersit_code)"
   ]
  },
  {
   "cell_type": "code",
   "execution_count": 108,
   "id": "ea627dea",
   "metadata": {},
   "outputs": [
    {
     "data": {
      "text/html": [
       "<div>\n",
       "<style scoped>\n",
       "    .dataframe tbody tr th:only-of-type {\n",
       "        vertical-align: middle;\n",
       "    }\n",
       "\n",
       "    .dataframe tbody tr th {\n",
       "        vertical-align: top;\n",
       "    }\n",
       "\n",
       "    .dataframe thead th {\n",
       "        text-align: right;\n",
       "    }\n",
       "</style>\n",
       "<table border=\"1\" class=\"dataframe\">\n",
       "  <thead>\n",
       "    <tr style=\"text-align: right;\">\n",
       "      <th></th>\n",
       "      <th>season</th>\n",
       "      <th>year</th>\n",
       "      <th>weekday</th>\n",
       "      <th>workingday</th>\n",
       "      <th>weathersit</th>\n",
       "      <th>temp</th>\n",
       "      <th>atemp</th>\n",
       "      <th>hum</th>\n",
       "      <th>windspeed</th>\n",
       "      <th>cnt</th>\n",
       "      <th>...</th>\n",
       "      <th>spring</th>\n",
       "      <th>summer</th>\n",
       "      <th>winter</th>\n",
       "      <th>mon</th>\n",
       "      <th>sat</th>\n",
       "      <th>sun</th>\n",
       "      <th>thu</th>\n",
       "      <th>tue</th>\n",
       "      <th>wed</th>\n",
       "      <th>working_day</th>\n",
       "    </tr>\n",
       "  </thead>\n",
       "  <tbody>\n",
       "    <tr>\n",
       "      <th>0</th>\n",
       "      <td>spring</td>\n",
       "      <td>0</td>\n",
       "      <td>sun</td>\n",
       "      <td>Holiday</td>\n",
       "      <td>mist</td>\n",
       "      <td>14.110847</td>\n",
       "      <td>18.18125</td>\n",
       "      <td>80.5833</td>\n",
       "      <td>10.749882</td>\n",
       "      <td>985</td>\n",
       "      <td>...</td>\n",
       "      <td>1</td>\n",
       "      <td>0</td>\n",
       "      <td>0</td>\n",
       "      <td>0</td>\n",
       "      <td>0</td>\n",
       "      <td>1</td>\n",
       "      <td>0</td>\n",
       "      <td>0</td>\n",
       "      <td>0</td>\n",
       "      <td>0</td>\n",
       "    </tr>\n",
       "    <tr>\n",
       "      <th>1</th>\n",
       "      <td>spring</td>\n",
       "      <td>0</td>\n",
       "      <td>mon</td>\n",
       "      <td>Holiday</td>\n",
       "      <td>mist</td>\n",
       "      <td>14.902598</td>\n",
       "      <td>17.68695</td>\n",
       "      <td>69.6087</td>\n",
       "      <td>16.652113</td>\n",
       "      <td>801</td>\n",
       "      <td>...</td>\n",
       "      <td>1</td>\n",
       "      <td>0</td>\n",
       "      <td>0</td>\n",
       "      <td>1</td>\n",
       "      <td>0</td>\n",
       "      <td>0</td>\n",
       "      <td>0</td>\n",
       "      <td>0</td>\n",
       "      <td>0</td>\n",
       "      <td>0</td>\n",
       "    </tr>\n",
       "    <tr>\n",
       "      <th>2</th>\n",
       "      <td>spring</td>\n",
       "      <td>0</td>\n",
       "      <td>tue</td>\n",
       "      <td>working_day</td>\n",
       "      <td>clear</td>\n",
       "      <td>8.050924</td>\n",
       "      <td>9.47025</td>\n",
       "      <td>43.7273</td>\n",
       "      <td>16.636703</td>\n",
       "      <td>1349</td>\n",
       "      <td>...</td>\n",
       "      <td>1</td>\n",
       "      <td>0</td>\n",
       "      <td>0</td>\n",
       "      <td>0</td>\n",
       "      <td>0</td>\n",
       "      <td>0</td>\n",
       "      <td>0</td>\n",
       "      <td>1</td>\n",
       "      <td>0</td>\n",
       "      <td>1</td>\n",
       "    </tr>\n",
       "    <tr>\n",
       "      <th>3</th>\n",
       "      <td>spring</td>\n",
       "      <td>0</td>\n",
       "      <td>wed</td>\n",
       "      <td>working_day</td>\n",
       "      <td>clear</td>\n",
       "      <td>8.200000</td>\n",
       "      <td>10.60610</td>\n",
       "      <td>59.0435</td>\n",
       "      <td>10.739832</td>\n",
       "      <td>1562</td>\n",
       "      <td>...</td>\n",
       "      <td>1</td>\n",
       "      <td>0</td>\n",
       "      <td>0</td>\n",
       "      <td>0</td>\n",
       "      <td>0</td>\n",
       "      <td>0</td>\n",
       "      <td>0</td>\n",
       "      <td>0</td>\n",
       "      <td>1</td>\n",
       "      <td>1</td>\n",
       "    </tr>\n",
       "    <tr>\n",
       "      <th>4</th>\n",
       "      <td>spring</td>\n",
       "      <td>0</td>\n",
       "      <td>thu</td>\n",
       "      <td>working_day</td>\n",
       "      <td>clear</td>\n",
       "      <td>9.305237</td>\n",
       "      <td>11.46350</td>\n",
       "      <td>43.6957</td>\n",
       "      <td>12.522300</td>\n",
       "      <td>1600</td>\n",
       "      <td>...</td>\n",
       "      <td>1</td>\n",
       "      <td>0</td>\n",
       "      <td>0</td>\n",
       "      <td>0</td>\n",
       "      <td>0</td>\n",
       "      <td>0</td>\n",
       "      <td>1</td>\n",
       "      <td>0</td>\n",
       "      <td>0</td>\n",
       "      <td>1</td>\n",
       "    </tr>\n",
       "  </tbody>\n",
       "</table>\n",
       "<p>5 rows × 21 columns</p>\n",
       "</div>"
      ],
      "text/plain": [
       "   season  year weekday   workingday weathersit       temp     atemp      hum  \\\n",
       "0  spring     0     sun      Holiday       mist  14.110847  18.18125  80.5833   \n",
       "1  spring     0     mon      Holiday       mist  14.902598  17.68695  69.6087   \n",
       "2  spring     0     tue  working_day      clear   8.050924   9.47025  43.7273   \n",
       "3  spring     0     wed  working_day      clear   8.200000  10.60610  59.0435   \n",
       "4  spring     0     thu  working_day      clear   9.305237  11.46350  43.6957   \n",
       "\n",
       "   windspeed   cnt  ...  spring  summer  winter  mon  sat  sun  thu  tue  wed  \\\n",
       "0  10.749882   985  ...       1       0       0    0    0    1    0    0    0   \n",
       "1  16.652113   801  ...       1       0       0    1    0    0    0    0    0   \n",
       "2  16.636703  1349  ...       1       0       0    0    0    0    0    1    0   \n",
       "3  10.739832  1562  ...       1       0       0    0    0    0    0    0    1   \n",
       "4  12.522300  1600  ...       1       0       0    0    0    0    1    0    0   \n",
       "\n",
       "   working_day  \n",
       "0            0  \n",
       "1            0  \n",
       "2            1  \n",
       "3            1  \n",
       "4            1  \n",
       "\n",
       "[5 rows x 21 columns]"
      ]
     },
     "execution_count": 108,
     "metadata": {},
     "output_type": "execute_result"
    }
   ],
   "source": [
    "bike_ds.head()"
   ]
  },
  {
   "cell_type": "code",
   "execution_count": 109,
   "id": "6177c243",
   "metadata": {},
   "outputs": [
    {
     "data": {
      "image/png": "[encoded data removed]",
      "text/plain": [
       "<Figure size 432x288 with 1 Axes>"
      ]
     },
     "metadata": {
      "needs_background": "light"
     },
     "output_type": "display_data"
    }
   ],
   "source": [
    "sns.scatterplot(bike_ds.weathersit,bike_ds.cnt,hue=bike_ds.weathersit)\n",
    "plt.legend(bbox_to_anchor=(1.02, 1), loc='upper left', borderaxespad=0)\n",
    "plt.ylabel(\"count\")\n",
    "plt.show()"
   ]
  },
  {
   "cell_type": "code",
   "execution_count": 110,
   "id": "9dce298b",
   "metadata": {},
   "outputs": [],
   "source": [
    "#create dummy varaibles"
   ]
  },
  {
   "cell_type": "code",
   "execution_count": 111,
   "id": "c6a29531",
   "metadata": {},
   "outputs": [],
   "source": [
    "weathersit_dummy_var = pd.get_dummies(bike_ds['weathersit'],drop_first=True)\n",
    "bike_ds = pd.concat([bike_ds,weathersit_dummy_var],axis=1)"
   ]
  },
  {
   "cell_type": "code",
   "execution_count": 112,
   "id": "46b9a55d",
   "metadata": {},
   "outputs": [
    {
     "data": {
      "text/html": [
       "<div>\n",
       "<style scoped>\n",
       "    .dataframe tbody tr th:only-of-type {\n",
       "        vertical-align: middle;\n",
       "    }\n",
       "\n",
       "    .dataframe tbody tr th {\n",
       "        vertical-align: top;\n",
       "    }\n",
       "\n",
       "    .dataframe thead th {\n",
       "        text-align: right;\n",
       "    }\n",
       "</style>\n",
       "<table border=\"1\" class=\"dataframe\">\n",
       "  <thead>\n",
       "    <tr style=\"text-align: right;\">\n",
       "      <th></th>\n",
       "      <th>season</th>\n",
       "      <th>year</th>\n",
       "      <th>weekday</th>\n",
       "      <th>workingday</th>\n",
       "      <th>weathersit</th>\n",
       "      <th>temp</th>\n",
       "      <th>atemp</th>\n",
       "      <th>hum</th>\n",
       "      <th>windspeed</th>\n",
       "      <th>cnt</th>\n",
       "      <th>...</th>\n",
       "      <th>winter</th>\n",
       "      <th>mon</th>\n",
       "      <th>sat</th>\n",
       "      <th>sun</th>\n",
       "      <th>thu</th>\n",
       "      <th>tue</th>\n",
       "      <th>wed</th>\n",
       "      <th>working_day</th>\n",
       "      <th>light snow</th>\n",
       "      <th>mist</th>\n",
       "    </tr>\n",
       "  </thead>\n",
       "  <tbody>\n",
       "    <tr>\n",
       "      <th>0</th>\n",
       "      <td>spring</td>\n",
       "      <td>0</td>\n",
       "      <td>sun</td>\n",
       "      <td>Holiday</td>\n",
       "      <td>mist</td>\n",
       "      <td>14.110847</td>\n",
       "      <td>18.18125</td>\n",
       "      <td>80.5833</td>\n",
       "      <td>10.749882</td>\n",
       "      <td>985</td>\n",
       "      <td>...</td>\n",
       "      <td>0</td>\n",
       "      <td>0</td>\n",
       "      <td>0</td>\n",
       "      <td>1</td>\n",
       "      <td>0</td>\n",
       "      <td>0</td>\n",
       "      <td>0</td>\n",
       "      <td>0</td>\n",
       "      <td>0</td>\n",
       "      <td>1</td>\n",
       "    </tr>\n",
       "    <tr>\n",
       "      <th>1</th>\n",
       "      <td>spring</td>\n",
       "      <td>0</td>\n",
       "      <td>mon</td>\n",
       "      <td>Holiday</td>\n",
       "      <td>mist</td>\n",
       "      <td>14.902598</td>\n",
       "      <td>17.68695</td>\n",
       "      <td>69.6087</td>\n",
       "      <td>16.652113</td>\n",
       "      <td>801</td>\n",
       "      <td>...</td>\n",
       "      <td>0</td>\n",
       "      <td>1</td>\n",
       "      <td>0</td>\n",
       "      <td>0</td>\n",
       "      <td>0</td>\n",
       "      <td>0</td>\n",
       "      <td>0</td>\n",
       "      <td>0</td>\n",
       "      <td>0</td>\n",
       "      <td>1</td>\n",
       "    </tr>\n",
       "    <tr>\n",
       "      <th>2</th>\n",
       "      <td>spring</td>\n",
       "      <td>0</td>\n",
       "      <td>tue</td>\n",
       "      <td>working_day</td>\n",
       "      <td>clear</td>\n",
       "      <td>8.050924</td>\n",
       "      <td>9.47025</td>\n",
       "      <td>43.7273</td>\n",
       "      <td>16.636703</td>\n",
       "      <td>1349</td>\n",
       "      <td>...</td>\n",
       "      <td>0</td>\n",
       "      <td>0</td>\n",
       "      <td>0</td>\n",
       "      <td>0</td>\n",
       "      <td>0</td>\n",
       "      <td>1</td>\n",
       "      <td>0</td>\n",
       "      <td>1</td>\n",
       "      <td>0</td>\n",
       "      <td>0</td>\n",
       "    </tr>\n",
       "    <tr>\n",
       "      <th>3</th>\n",
       "      <td>spring</td>\n",
       "      <td>0</td>\n",
       "      <td>wed</td>\n",
       "      <td>working_day</td>\n",
       "      <td>clear</td>\n",
       "      <td>8.200000</td>\n",
       "      <td>10.60610</td>\n",
       "      <td>59.0435</td>\n",
       "      <td>10.739832</td>\n",
       "      <td>1562</td>\n",
       "      <td>...</td>\n",
       "      <td>0</td>\n",
       "      <td>0</td>\n",
       "      <td>0</td>\n",
       "      <td>0</td>\n",
       "      <td>0</td>\n",
       "      <td>0</td>\n",
       "      <td>1</td>\n",
       "      <td>1</td>\n",
       "      <td>0</td>\n",
       "      <td>0</td>\n",
       "    </tr>\n",
       "    <tr>\n",
       "      <th>4</th>\n",
       "      <td>spring</td>\n",
       "      <td>0</td>\n",
       "      <td>thu</td>\n",
       "      <td>working_day</td>\n",
       "      <td>clear</td>\n",
       "      <td>9.305237</td>\n",
       "      <td>11.46350</td>\n",
       "      <td>43.6957</td>\n",
       "      <td>12.522300</td>\n",
       "      <td>1600</td>\n",
       "      <td>...</td>\n",
       "      <td>0</td>\n",
       "      <td>0</td>\n",
       "      <td>0</td>\n",
       "      <td>0</td>\n",
       "      <td>1</td>\n",
       "      <td>0</td>\n",
       "      <td>0</td>\n",
       "      <td>1</td>\n",
       "      <td>0</td>\n",
       "      <td>0</td>\n",
       "    </tr>\n",
       "  </tbody>\n",
       "</table>\n",
       "<p>5 rows × 23 columns</p>\n",
       "</div>"
      ],
      "text/plain": [
       "   season  year weekday   workingday weathersit       temp     atemp      hum  \\\n",
       "0  spring     0     sun      Holiday       mist  14.110847  18.18125  80.5833   \n",
       "1  spring     0     mon      Holiday       mist  14.902598  17.68695  69.6087   \n",
       "2  spring     0     tue  working_day      clear   8.050924   9.47025  43.7273   \n",
       "3  spring     0     wed  working_day      clear   8.200000  10.60610  59.0435   \n",
       "4  spring     0     thu  working_day      clear   9.305237  11.46350  43.6957   \n",
       "\n",
       "   windspeed   cnt  ...  winter  mon  sat  sun  thu  tue  wed  working_day  \\\n",
       "0  10.749882   985  ...       0    0    0    1    0    0    0            0   \n",
       "1  16.652113   801  ...       0    1    0    0    0    0    0            0   \n",
       "2  16.636703  1349  ...       0    0    0    0    0    1    0            1   \n",
       "3  10.739832  1562  ...       0    0    0    0    0    0    1            1   \n",
       "4  12.522300  1600  ...       0    0    0    0    1    0    0            1   \n",
       "\n",
       "   light snow  mist  \n",
       "0           0     1  \n",
       "1           0     1  \n",
       "2           0     0  \n",
       "3           0     0  \n",
       "4           0     0  \n",
       "\n",
       "[5 rows x 23 columns]"
      ]
     },
     "execution_count": 112,
     "metadata": {},
     "output_type": "execute_result"
    }
   ],
   "source": [
    "bike_ds.head()"
   ]
  },
  {
   "cell_type": "code",
   "execution_count": 113,
   "id": "444e54f7",
   "metadata": {},
   "outputs": [],
   "source": [
    "#analyze data in month variable"
   ]
  },
  {
   "cell_type": "code",
   "execution_count": 114,
   "id": "3a0af572",
   "metadata": {},
   "outputs": [
    {
     "data": {
      "text/plain": [
       "1     62\n",
       "3     62\n",
       "5     62\n",
       "7     62\n",
       "8     62\n",
       "10    62\n",
       "12    62\n",
       "4     60\n",
       "6     60\n",
       "9     60\n",
       "11    60\n",
       "2     56\n",
       "Name: month, dtype: int64"
      ]
     },
     "execution_count": 114,
     "metadata": {},
     "output_type": "execute_result"
    }
   ],
   "source": [
    "bike_ds.month.value_counts()"
   ]
  },
  {
   "cell_type": "code",
   "execution_count": 115,
   "id": "c7e2280f",
   "metadata": {},
   "outputs": [],
   "source": [
    "#encode data like below\n",
    "# 1:'jan',2:'feb',3:'mar',4:'apr',5:'may',6:'june',7:'july',8:'aug',9:'sep',10:'oct',11:'nov',12:'dec'"
   ]
  },
  {
   "cell_type": "code",
   "execution_count": 116,
   "id": "59791be1",
   "metadata": {},
   "outputs": [],
   "source": [
    "month_code = {1:'jan',2:'feb',3:'mar',4:'apr',5:'may',6:'june',7:'july',8:'aug',9:'sep',10:'oct',11:'nov',12:'dec'}\n",
    "bike_ds['month'] = bike_ds['month'].map(month_code)"
   ]
  },
  {
   "cell_type": "code",
   "execution_count": 117,
   "id": "130564fb",
   "metadata": {},
   "outputs": [],
   "source": [
    "#Check month data based on year using scatter plot"
   ]
  },
  {
   "cell_type": "code",
   "execution_count": 118,
   "id": "f6e48e70",
   "metadata": {},
   "outputs": [
    {
     "data": {
      "image/png": "[encoded data removed]",
      "text/plain": [
       "<Figure size 432x288 with 1 Axes>"
      ]
     },
     "metadata": {
      "needs_background": "light"
     },
     "output_type": "display_data"
    }
   ],
   "source": [
    "sns.scatterplot('month','cnt',hue='year',data=bike_ds,palette='Paired')\n",
    "plt.ylabel('count')\n",
    "plt.legend(bbox_to_anchor=(1.02, 1), loc='upper left', borderaxespad=0)\n",
    "plt.show()"
   ]
  },
  {
   "cell_type": "code",
   "execution_count": 119,
   "id": "3c16e509",
   "metadata": {},
   "outputs": [],
   "source": [
    "#create dummy variables"
   ]
  },
  {
   "cell_type": "code",
   "execution_count": 120,
   "id": "45718287",
   "metadata": {},
   "outputs": [],
   "source": [
    "month_dummy_var = pd.get_dummies(bike_ds['month'],drop_first=True)\n",
    "bike_ds = pd.concat([bike_ds,month_dummy_var],axis=1)"
   ]
  },
  {
   "cell_type": "code",
   "execution_count": 121,
   "id": "549f5327",
   "metadata": {},
   "outputs": [
    {
     "data": {
      "text/html": [
       "<div>\n",
       "<style scoped>\n",
       "    .dataframe tbody tr th:only-of-type {\n",
       "        vertical-align: middle;\n",
       "    }\n",
       "\n",
       "    .dataframe tbody tr th {\n",
       "        vertical-align: top;\n",
       "    }\n",
       "\n",
       "    .dataframe thead th {\n",
       "        text-align: right;\n",
       "    }\n",
       "</style>\n",
       "<table border=\"1\" class=\"dataframe\">\n",
       "  <thead>\n",
       "    <tr style=\"text-align: right;\">\n",
       "      <th></th>\n",
       "      <th>season</th>\n",
       "      <th>year</th>\n",
       "      <th>weekday</th>\n",
       "      <th>workingday</th>\n",
       "      <th>weathersit</th>\n",
       "      <th>temp</th>\n",
       "      <th>atemp</th>\n",
       "      <th>hum</th>\n",
       "      <th>windspeed</th>\n",
       "      <th>cnt</th>\n",
       "      <th>...</th>\n",
       "      <th>dec</th>\n",
       "      <th>feb</th>\n",
       "      <th>jan</th>\n",
       "      <th>july</th>\n",
       "      <th>june</th>\n",
       "      <th>mar</th>\n",
       "      <th>may</th>\n",
       "      <th>nov</th>\n",
       "      <th>oct</th>\n",
       "      <th>sep</th>\n",
       "    </tr>\n",
       "  </thead>\n",
       "  <tbody>\n",
       "    <tr>\n",
       "      <th>0</th>\n",
       "      <td>spring</td>\n",
       "      <td>0</td>\n",
       "      <td>sun</td>\n",
       "      <td>Holiday</td>\n",
       "      <td>mist</td>\n",
       "      <td>14.110847</td>\n",
       "      <td>18.18125</td>\n",
       "      <td>80.5833</td>\n",
       "      <td>10.749882</td>\n",
       "      <td>985</td>\n",
       "      <td>...</td>\n",
       "      <td>0</td>\n",
       "      <td>0</td>\n",
       "      <td>1</td>\n",
       "      <td>0</td>\n",
       "      <td>0</td>\n",
       "      <td>0</td>\n",
       "      <td>0</td>\n",
       "      <td>0</td>\n",
       "      <td>0</td>\n",
       "      <td>0</td>\n",
       "    </tr>\n",
       "    <tr>\n",
       "      <th>1</th>\n",
       "      <td>spring</td>\n",
       "      <td>0</td>\n",
       "      <td>mon</td>\n",
       "      <td>Holiday</td>\n",
       "      <td>mist</td>\n",
       "      <td>14.902598</td>\n",
       "      <td>17.68695</td>\n",
       "      <td>69.6087</td>\n",
       "      <td>16.652113</td>\n",
       "      <td>801</td>\n",
       "      <td>...</td>\n",
       "      <td>0</td>\n",
       "      <td>0</td>\n",
       "      <td>1</td>\n",
       "      <td>0</td>\n",
       "      <td>0</td>\n",
       "      <td>0</td>\n",
       "      <td>0</td>\n",
       "      <td>0</td>\n",
       "      <td>0</td>\n",
       "      <td>0</td>\n",
       "    </tr>\n",
       "    <tr>\n",
       "      <th>2</th>\n",
       "      <td>spring</td>\n",
       "      <td>0</td>\n",
       "      <td>tue</td>\n",
       "      <td>working_day</td>\n",
       "      <td>clear</td>\n",
       "      <td>8.050924</td>\n",
       "      <td>9.47025</td>\n",
       "      <td>43.7273</td>\n",
       "      <td>16.636703</td>\n",
       "      <td>1349</td>\n",
       "      <td>...</td>\n",
       "      <td>0</td>\n",
       "      <td>0</td>\n",
       "      <td>1</td>\n",
       "      <td>0</td>\n",
       "      <td>0</td>\n",
       "      <td>0</td>\n",
       "      <td>0</td>\n",
       "      <td>0</td>\n",
       "      <td>0</td>\n",
       "      <td>0</td>\n",
       "    </tr>\n",
       "    <tr>\n",
       "      <th>3</th>\n",
       "      <td>spring</td>\n",
       "      <td>0</td>\n",
       "      <td>wed</td>\n",
       "      <td>working_day</td>\n",
       "      <td>clear</td>\n",
       "      <td>8.200000</td>\n",
       "      <td>10.60610</td>\n",
       "      <td>59.0435</td>\n",
       "      <td>10.739832</td>\n",
       "      <td>1562</td>\n",
       "      <td>...</td>\n",
       "      <td>0</td>\n",
       "      <td>0</td>\n",
       "      <td>1</td>\n",
       "      <td>0</td>\n",
       "      <td>0</td>\n",
       "      <td>0</td>\n",
       "      <td>0</td>\n",
       "      <td>0</td>\n",
       "      <td>0</td>\n",
       "      <td>0</td>\n",
       "    </tr>\n",
       "    <tr>\n",
       "      <th>4</th>\n",
       "      <td>spring</td>\n",
       "      <td>0</td>\n",
       "      <td>thu</td>\n",
       "      <td>working_day</td>\n",
       "      <td>clear</td>\n",
       "      <td>9.305237</td>\n",
       "      <td>11.46350</td>\n",
       "      <td>43.6957</td>\n",
       "      <td>12.522300</td>\n",
       "      <td>1600</td>\n",
       "      <td>...</td>\n",
       "      <td>0</td>\n",
       "      <td>0</td>\n",
       "      <td>1</td>\n",
       "      <td>0</td>\n",
       "      <td>0</td>\n",
       "      <td>0</td>\n",
       "      <td>0</td>\n",
       "      <td>0</td>\n",
       "      <td>0</td>\n",
       "      <td>0</td>\n",
       "    </tr>\n",
       "  </tbody>\n",
       "</table>\n",
       "<p>5 rows × 34 columns</p>\n",
       "</div>"
      ],
      "text/plain": [
       "   season  year weekday   workingday weathersit       temp     atemp      hum  \\\n",
       "0  spring     0     sun      Holiday       mist  14.110847  18.18125  80.5833   \n",
       "1  spring     0     mon      Holiday       mist  14.902598  17.68695  69.6087   \n",
       "2  spring     0     tue  working_day      clear   8.050924   9.47025  43.7273   \n",
       "3  spring     0     wed  working_day      clear   8.200000  10.60610  59.0435   \n",
       "4  spring     0     thu  working_day      clear   9.305237  11.46350  43.6957   \n",
       "\n",
       "   windspeed   cnt  ... dec  feb  jan  july  june  mar  may  nov  oct  sep  \n",
       "0  10.749882   985  ...   0    0    1     0     0    0    0    0    0    0  \n",
       "1  16.652113   801  ...   0    0    1     0     0    0    0    0    0    0  \n",
       "2  16.636703  1349  ...   0    0    1     0     0    0    0    0    0    0  \n",
       "3  10.739832  1562  ...   0    0    1     0     0    0    0    0    0    0  \n",
       "4  12.522300  1600  ...   0    0    1     0     0    0    0    0    0    0  \n",
       "\n",
       "[5 rows x 34 columns]"
      ]
     },
     "execution_count": 121,
     "metadata": {},
     "output_type": "execute_result"
    }
   ],
   "source": [
    "bike_ds.head()"
   ]
  },
  {
   "cell_type": "code",
   "execution_count": 122,
   "id": "94763105",
   "metadata": {},
   "outputs": [
    {
     "data": {
      "text/plain": [
       "Index(['season', 'year', 'weekday', 'workingday', 'weathersit', 'temp',\n",
       "       'atemp', 'hum', 'windspeed', 'cnt', 'month', 'spring', 'summer',\n",
       "       'winter', 'mon', 'sat', 'sun', 'thu', 'tue', 'wed', 'working_day',\n",
       "       'light snow', 'mist', 'aug', 'dec', 'feb', 'jan', 'july', 'june', 'mar',\n",
       "       'may', 'nov', 'oct', 'sep'],\n",
       "      dtype='object')"
      ]
     },
     "execution_count": 122,
     "metadata": {},
     "output_type": "execute_result"
    }
   ],
   "source": [
    "bike_ds.columns"
   ]
  },
  {
   "cell_type": "code",
   "execution_count": 123,
   "id": "ec298fbb",
   "metadata": {},
   "outputs": [],
   "source": [
    "#As dummy variables created for columns season,weekday,workingday,weathersit,month, these variables can be dropped"
   ]
  },
  {
   "cell_type": "code",
   "execution_count": 124,
   "id": "e8ad1ea8",
   "metadata": {},
   "outputs": [],
   "source": [
    "bike_ds.drop(['season','weekday','workingday','weathersit','month'],axis=1,inplace=True)"
   ]
  },
  {
   "cell_type": "code",
   "execution_count": 125,
   "id": "36b05800",
   "metadata": {},
   "outputs": [
    {
     "data": {
      "text/html": [
       "<div>\n",
       "<style scoped>\n",
       "    .dataframe tbody tr th:only-of-type {\n",
       "        vertical-align: middle;\n",
       "    }\n",
       "\n",
       "    .dataframe tbody tr th {\n",
       "        vertical-align: top;\n",
       "    }\n",
       "\n",
       "    .dataframe thead th {\n",
       "        text-align: right;\n",
       "    }\n",
       "</style>\n",
       "<table border=\"1\" class=\"dataframe\">\n",
       "  <thead>\n",
       "    <tr style=\"text-align: right;\">\n",
       "      <th></th>\n",
       "      <th>year</th>\n",
       "      <th>temp</th>\n",
       "      <th>atemp</th>\n",
       "      <th>hum</th>\n",
       "      <th>windspeed</th>\n",
       "      <th>cnt</th>\n",
       "      <th>spring</th>\n",
       "      <th>summer</th>\n",
       "      <th>winter</th>\n",
       "      <th>mon</th>\n",
       "      <th>...</th>\n",
       "      <th>dec</th>\n",
       "      <th>feb</th>\n",
       "      <th>jan</th>\n",
       "      <th>july</th>\n",
       "      <th>june</th>\n",
       "      <th>mar</th>\n",
       "      <th>may</th>\n",
       "      <th>nov</th>\n",
       "      <th>oct</th>\n",
       "      <th>sep</th>\n",
       "    </tr>\n",
       "  </thead>\n",
       "  <tbody>\n",
       "    <tr>\n",
       "      <th>0</th>\n",
       "      <td>0</td>\n",
       "      <td>14.110847</td>\n",
       "      <td>18.18125</td>\n",
       "      <td>80.5833</td>\n",
       "      <td>10.749882</td>\n",
       "      <td>985</td>\n",
       "      <td>1</td>\n",
       "      <td>0</td>\n",
       "      <td>0</td>\n",
       "      <td>0</td>\n",
       "      <td>...</td>\n",
       "      <td>0</td>\n",
       "      <td>0</td>\n",
       "      <td>1</td>\n",
       "      <td>0</td>\n",
       "      <td>0</td>\n",
       "      <td>0</td>\n",
       "      <td>0</td>\n",
       "      <td>0</td>\n",
       "      <td>0</td>\n",
       "      <td>0</td>\n",
       "    </tr>\n",
       "    <tr>\n",
       "      <th>1</th>\n",
       "      <td>0</td>\n",
       "      <td>14.902598</td>\n",
       "      <td>17.68695</td>\n",
       "      <td>69.6087</td>\n",
       "      <td>16.652113</td>\n",
       "      <td>801</td>\n",
       "      <td>1</td>\n",
       "      <td>0</td>\n",
       "      <td>0</td>\n",
       "      <td>1</td>\n",
       "      <td>...</td>\n",
       "      <td>0</td>\n",
       "      <td>0</td>\n",
       "      <td>1</td>\n",
       "      <td>0</td>\n",
       "      <td>0</td>\n",
       "      <td>0</td>\n",
       "      <td>0</td>\n",
       "      <td>0</td>\n",
       "      <td>0</td>\n",
       "      <td>0</td>\n",
       "    </tr>\n",
       "    <tr>\n",
       "      <th>2</th>\n",
       "      <td>0</td>\n",
       "      <td>8.050924</td>\n",
       "      <td>9.47025</td>\n",
       "      <td>43.7273</td>\n",
       "      <td>16.636703</td>\n",
       "      <td>1349</td>\n",
       "      <td>1</td>\n",
       "      <td>0</td>\n",
       "      <td>0</td>\n",
       "      <td>0</td>\n",
       "      <td>...</td>\n",
       "      <td>0</td>\n",
       "      <td>0</td>\n",
       "      <td>1</td>\n",
       "      <td>0</td>\n",
       "      <td>0</td>\n",
       "      <td>0</td>\n",
       "      <td>0</td>\n",
       "      <td>0</td>\n",
       "      <td>0</td>\n",
       "      <td>0</td>\n",
       "    </tr>\n",
       "    <tr>\n",
       "      <th>3</th>\n",
       "      <td>0</td>\n",
       "      <td>8.200000</td>\n",
       "      <td>10.60610</td>\n",
       "      <td>59.0435</td>\n",
       "      <td>10.739832</td>\n",
       "      <td>1562</td>\n",
       "      <td>1</td>\n",
       "      <td>0</td>\n",
       "      <td>0</td>\n",
       "      <td>0</td>\n",
       "      <td>...</td>\n",
       "      <td>0</td>\n",
       "      <td>0</td>\n",
       "      <td>1</td>\n",
       "      <td>0</td>\n",
       "      <td>0</td>\n",
       "      <td>0</td>\n",
       "      <td>0</td>\n",
       "      <td>0</td>\n",
       "      <td>0</td>\n",
       "      <td>0</td>\n",
       "    </tr>\n",
       "    <tr>\n",
       "      <th>4</th>\n",
       "      <td>0</td>\n",
       "      <td>9.305237</td>\n",
       "      <td>11.46350</td>\n",
       "      <td>43.6957</td>\n",
       "      <td>12.522300</td>\n",
       "      <td>1600</td>\n",
       "      <td>1</td>\n",
       "      <td>0</td>\n",
       "      <td>0</td>\n",
       "      <td>0</td>\n",
       "      <td>...</td>\n",
       "      <td>0</td>\n",
       "      <td>0</td>\n",
       "      <td>1</td>\n",
       "      <td>0</td>\n",
       "      <td>0</td>\n",
       "      <td>0</td>\n",
       "      <td>0</td>\n",
       "      <td>0</td>\n",
       "      <td>0</td>\n",
       "      <td>0</td>\n",
       "    </tr>\n",
       "  </tbody>\n",
       "</table>\n",
       "<p>5 rows × 29 columns</p>\n",
       "</div>"
      ],
      "text/plain": [
       "   year       temp     atemp      hum  windspeed   cnt  spring  summer  \\\n",
       "0     0  14.110847  18.18125  80.5833  10.749882   985       1       0   \n",
       "1     0  14.902598  17.68695  69.6087  16.652113   801       1       0   \n",
       "2     0   8.050924   9.47025  43.7273  16.636703  1349       1       0   \n",
       "3     0   8.200000  10.60610  59.0435  10.739832  1562       1       0   \n",
       "4     0   9.305237  11.46350  43.6957  12.522300  1600       1       0   \n",
       "\n",
       "   winter  mon  ...  dec  feb  jan  july  june  mar  may  nov  oct  sep  \n",
       "0       0    0  ...    0    0    1     0     0    0    0    0    0    0  \n",
       "1       0    1  ...    0    0    1     0     0    0    0    0    0    0  \n",
       "2       0    0  ...    0    0    1     0     0    0    0    0    0    0  \n",
       "3       0    0  ...    0    0    1     0     0    0    0    0    0    0  \n",
       "4       0    0  ...    0    0    1     0     0    0    0    0    0    0  \n",
       "\n",
       "[5 rows x 29 columns]"
      ]
     },
     "execution_count": 125,
     "metadata": {},
     "output_type": "execute_result"
    }
   ],
   "source": [
    "bike_ds.head()"
   ]
  },
  {
   "cell_type": "code",
   "execution_count": 126,
   "id": "a7efb9df",
   "metadata": {},
   "outputs": [
    {
     "data": {
      "text/plain": [
       "Index(['year', 'temp', 'atemp', 'hum', 'windspeed', 'cnt', 'spring', 'summer',\n",
       "       'winter', 'mon', 'sat', 'sun', 'thu', 'tue', 'wed', 'working_day',\n",
       "       'light snow', 'mist', 'aug', 'dec', 'feb', 'jan', 'july', 'june', 'mar',\n",
       "       'may', 'nov', 'oct', 'sep'],\n",
       "      dtype='object')"
      ]
     },
     "execution_count": 126,
     "metadata": {},
     "output_type": "execute_result"
    }
   ],
   "source": [
    "bike_ds.columns"
   ]
  },
  {
   "cell_type": "code",
   "execution_count": 127,
   "id": "41048aa4",
   "metadata": {},
   "outputs": [],
   "source": [
    "#Correlate temp and atemp variables"
   ]
  },
  {
   "cell_type": "code",
   "execution_count": 128,
   "id": "f61f67cb",
   "metadata": {},
   "outputs": [
    {
     "data": {
      "text/html": [
       "<div>\n",
       "<style scoped>\n",
       "    .dataframe tbody tr th:only-of-type {\n",
       "        vertical-align: middle;\n",
       "    }\n",
       "\n",
       "    .dataframe tbody tr th {\n",
       "        vertical-align: top;\n",
       "    }\n",
       "\n",
       "    .dataframe thead th {\n",
       "        text-align: right;\n",
       "    }\n",
       "</style>\n",
       "<table border=\"1\" class=\"dataframe\">\n",
       "  <thead>\n",
       "    <tr style=\"text-align: right;\">\n",
       "      <th></th>\n",
       "      <th>temp</th>\n",
       "      <th>atemp</th>\n",
       "    </tr>\n",
       "  </thead>\n",
       "  <tbody>\n",
       "    <tr>\n",
       "      <th>temp</th>\n",
       "      <td>1.000000</td>\n",
       "      <td>0.991696</td>\n",
       "    </tr>\n",
       "    <tr>\n",
       "      <th>atemp</th>\n",
       "      <td>0.991696</td>\n",
       "      <td>1.000000</td>\n",
       "    </tr>\n",
       "  </tbody>\n",
       "</table>\n",
       "</div>"
      ],
      "text/plain": [
       "           temp     atemp\n",
       "temp   1.000000  0.991696\n",
       "atemp  0.991696  1.000000"
      ]
     },
     "execution_count": 128,
     "metadata": {},
     "output_type": "execute_result"
    }
   ],
   "source": [
    "bike_ds[['temp','atemp']].corr()"
   ]
  },
  {
   "cell_type": "code",
   "execution_count": 129,
   "id": "1703b015",
   "metadata": {},
   "outputs": [],
   "source": [
    "#drop atemp variable"
   ]
  },
  {
   "cell_type": "code",
   "execution_count": 130,
   "id": "6e09475d",
   "metadata": {},
   "outputs": [],
   "source": [
    "del(bike_ds['atemp'])"
   ]
  },
  {
   "cell_type": "code",
   "execution_count": 131,
   "id": "4aeb9984",
   "metadata": {},
   "outputs": [
    {
     "data": {
      "text/html": [
       "<div>\n",
       "<style scoped>\n",
       "    .dataframe tbody tr th:only-of-type {\n",
       "        vertical-align: middle;\n",
       "    }\n",
       "\n",
       "    .dataframe tbody tr th {\n",
       "        vertical-align: top;\n",
       "    }\n",
       "\n",
       "    .dataframe thead th {\n",
       "        text-align: right;\n",
       "    }\n",
       "</style>\n",
       "<table border=\"1\" class=\"dataframe\">\n",
       "  <thead>\n",
       "    <tr style=\"text-align: right;\">\n",
       "      <th></th>\n",
       "      <th>year</th>\n",
       "      <th>temp</th>\n",
       "      <th>hum</th>\n",
       "      <th>windspeed</th>\n",
       "      <th>cnt</th>\n",
       "      <th>spring</th>\n",
       "      <th>summer</th>\n",
       "      <th>winter</th>\n",
       "      <th>mon</th>\n",
       "      <th>sat</th>\n",
       "      <th>...</th>\n",
       "      <th>dec</th>\n",
       "      <th>feb</th>\n",
       "      <th>jan</th>\n",
       "      <th>july</th>\n",
       "      <th>june</th>\n",
       "      <th>mar</th>\n",
       "      <th>may</th>\n",
       "      <th>nov</th>\n",
       "      <th>oct</th>\n",
       "      <th>sep</th>\n",
       "    </tr>\n",
       "  </thead>\n",
       "  <tbody>\n",
       "    <tr>\n",
       "      <th>0</th>\n",
       "      <td>0</td>\n",
       "      <td>14.110847</td>\n",
       "      <td>80.5833</td>\n",
       "      <td>10.749882</td>\n",
       "      <td>985</td>\n",
       "      <td>1</td>\n",
       "      <td>0</td>\n",
       "      <td>0</td>\n",
       "      <td>0</td>\n",
       "      <td>0</td>\n",
       "      <td>...</td>\n",
       "      <td>0</td>\n",
       "      <td>0</td>\n",
       "      <td>1</td>\n",
       "      <td>0</td>\n",
       "      <td>0</td>\n",
       "      <td>0</td>\n",
       "      <td>0</td>\n",
       "      <td>0</td>\n",
       "      <td>0</td>\n",
       "      <td>0</td>\n",
       "    </tr>\n",
       "    <tr>\n",
       "      <th>1</th>\n",
       "      <td>0</td>\n",
       "      <td>14.902598</td>\n",
       "      <td>69.6087</td>\n",
       "      <td>16.652113</td>\n",
       "      <td>801</td>\n",
       "      <td>1</td>\n",
       "      <td>0</td>\n",
       "      <td>0</td>\n",
       "      <td>1</td>\n",
       "      <td>0</td>\n",
       "      <td>...</td>\n",
       "      <td>0</td>\n",
       "      <td>0</td>\n",
       "      <td>1</td>\n",
       "      <td>0</td>\n",
       "      <td>0</td>\n",
       "      <td>0</td>\n",
       "      <td>0</td>\n",
       "      <td>0</td>\n",
       "      <td>0</td>\n",
       "      <td>0</td>\n",
       "    </tr>\n",
       "  </tbody>\n",
       "</table>\n",
       "<p>2 rows × 28 columns</p>\n",
       "</div>"
      ],
      "text/plain": [
       "   year       temp      hum  windspeed  cnt  spring  summer  winter  mon  sat  \\\n",
       "0     0  14.110847  80.5833  10.749882  985       1       0       0    0    0   \n",
       "1     0  14.902598  69.6087  16.652113  801       1       0       0    1    0   \n",
       "\n",
       "   ...  dec  feb  jan  july  june  mar  may  nov  oct  sep  \n",
       "0  ...    0    0    1     0     0    0    0    0    0    0  \n",
       "1  ...    0    0    1     0     0    0    0    0    0    0  \n",
       "\n",
       "[2 rows x 28 columns]"
      ]
     },
     "execution_count": 131,
     "metadata": {},
     "output_type": "execute_result"
    }
   ],
   "source": [
    "bike_ds.head(2)"
   ]
  },
  {
   "cell_type": "code",
   "execution_count": 132,
   "id": "66041237",
   "metadata": {},
   "outputs": [],
   "source": [
    "#check bike rentals on different temparatures"
   ]
  },
  {
   "cell_type": "code",
   "execution_count": 133,
   "id": "845b8912",
   "metadata": {},
   "outputs": [
    {
     "data": {
      "image/png": "[encoded data removed]",
      "text/plain": [
       "<Figure size 432x288 with 1 Axes>"
      ]
     },
     "metadata": {
      "needs_background": "light"
     },
     "output_type": "display_data"
    }
   ],
   "source": [
    "sns.scatterplot('temp','cnt',hue='year',data=bike_ds,palette='Paired')\n",
    "plt.ylabel('count')\n",
    "plt.legend(bbox_to_anchor=(1.02, 1), loc='upper left', borderaxespad=0)\n",
    "plt.show()"
   ]
  },
  {
   "cell_type": "code",
   "execution_count": 134,
   "id": "cf8bfa2c",
   "metadata": {},
   "outputs": [],
   "source": [
    "#bike rentals are more when temperature high and rentals are more in 2019 when compared to 2019"
   ]
  },
  {
   "cell_type": "code",
   "execution_count": 135,
   "id": "210b295c",
   "metadata": {},
   "outputs": [],
   "source": [
    "#Check rentals when humidity more"
   ]
  },
  {
   "cell_type": "code",
   "execution_count": 136,
   "id": "808a816e",
   "metadata": {},
   "outputs": [
    {
     "data": {
      "image/png": "[encoded data removed]",
      "text/plain": [
       "<Figure size 432x288 with 1 Axes>"
      ]
     },
     "metadata": {
      "needs_background": "light"
     },
     "output_type": "display_data"
    }
   ],
   "source": [
    "sns.scatterplot('hum','cnt',hue='year',data=bike_ds,palette='Paired')\n",
    "plt.ylabel('count')\n",
    "plt.legend(bbox_to_anchor=(1.02, 1), loc='upper left', borderaxespad=0)\n",
    "plt.show()"
   ]
  },
  {
   "cell_type": "code",
   "execution_count": 137,
   "id": "80b700df",
   "metadata": {},
   "outputs": [],
   "source": [
    "#rentals are more when humidity is between 40 and 85."
   ]
  },
  {
   "cell_type": "code",
   "execution_count": 138,
   "id": "a4add23d",
   "metadata": {},
   "outputs": [],
   "source": [
    "#correlated temp,humidity and widspeed"
   ]
  },
  {
   "cell_type": "code",
   "execution_count": 139,
   "id": "3e4e9d97",
   "metadata": {},
   "outputs": [
    {
     "data": {
      "text/html": [
       "<div>\n",
       "<style scoped>\n",
       "    .dataframe tbody tr th:only-of-type {\n",
       "        vertical-align: middle;\n",
       "    }\n",
       "\n",
       "    .dataframe tbody tr th {\n",
       "        vertical-align: top;\n",
       "    }\n",
       "\n",
       "    .dataframe thead th {\n",
       "        text-align: right;\n",
       "    }\n",
       "</style>\n",
       "<table border=\"1\" class=\"dataframe\">\n",
       "  <thead>\n",
       "    <tr style=\"text-align: right;\">\n",
       "      <th></th>\n",
       "      <th>temp</th>\n",
       "      <th>hum</th>\n",
       "      <th>windspeed</th>\n",
       "    </tr>\n",
       "  </thead>\n",
       "  <tbody>\n",
       "    <tr>\n",
       "      <th>temp</th>\n",
       "      <td>1.000000</td>\n",
       "      <td>0.128386</td>\n",
       "      <td>-0.158250</td>\n",
       "    </tr>\n",
       "    <tr>\n",
       "      <th>hum</th>\n",
       "      <td>0.128386</td>\n",
       "      <td>1.000000</td>\n",
       "      <td>-0.246211</td>\n",
       "    </tr>\n",
       "    <tr>\n",
       "      <th>windspeed</th>\n",
       "      <td>-0.158250</td>\n",
       "      <td>-0.246211</td>\n",
       "      <td>1.000000</td>\n",
       "    </tr>\n",
       "  </tbody>\n",
       "</table>\n",
       "</div>"
      ],
      "text/plain": [
       "               temp       hum  windspeed\n",
       "temp       1.000000  0.128386  -0.158250\n",
       "hum        0.128386  1.000000  -0.246211\n",
       "windspeed -0.158250 -0.246211   1.000000"
      ]
     },
     "execution_count": 139,
     "metadata": {},
     "output_type": "execute_result"
    }
   ],
   "source": [
    "bike_ds[['temp','hum','windspeed']].corr()"
   ]
  },
  {
   "cell_type": "markdown",
   "id": "a7b96781",
   "metadata": {},
   "source": [
    "## splitting data into training and test dataset"
   ]
  },
  {
   "cell_type": "code",
   "execution_count": 140,
   "id": "1da6a9bc",
   "metadata": {},
   "outputs": [],
   "source": [
    "from sklearn.model_selection import train_test_split"
   ]
  },
  {
   "cell_type": "code",
   "execution_count": 141,
   "id": "5b80994b",
   "metadata": {},
   "outputs": [],
   "source": [
    "df_bike_train, df_bike_test = train_test_split(bike_ds, test_size=0.3,random_state=100)"
   ]
  },
  {
   "cell_type": "code",
   "execution_count": 142,
   "id": "552d7dd8",
   "metadata": {},
   "outputs": [
    {
     "data": {
      "text/plain": [
       "(219, 28)"
      ]
     },
     "execution_count": 142,
     "metadata": {},
     "output_type": "execute_result"
    }
   ],
   "source": [
    "df_bike_test.shape #30% of data"
   ]
  },
  {
   "cell_type": "code",
   "execution_count": 143,
   "id": "c33ee2ce",
   "metadata": {},
   "outputs": [
    {
     "data": {
      "text/plain": [
       "(511, 28)"
      ]
     },
     "execution_count": 143,
     "metadata": {},
     "output_type": "execute_result"
    }
   ],
   "source": [
    "df_bike_train.shape #70% of data"
   ]
  },
  {
   "cell_type": "code",
   "execution_count": null,
   "id": "e462a06e",
   "metadata": {},
   "outputs": [],
   "source": []
  },
  {
   "cell_type": "code",
   "execution_count": 144,
   "id": "267f545c",
   "metadata": {},
   "outputs": [],
   "source": [
    "#Apply scalling for numerical variables"
   ]
  },
  {
   "cell_type": "code",
   "execution_count": 145,
   "id": "8557e655",
   "metadata": {},
   "outputs": [],
   "source": [
    "#from sklearn.preprocessing import StandardScaler\n",
    "from sklearn.preprocessing import MinMaxScaler\n",
    "scaler= MinMaxScaler()"
   ]
  },
  {
   "cell_type": "code",
   "execution_count": 146,
   "id": "5e34e2ff",
   "metadata": {},
   "outputs": [],
   "source": [
    "numvars=['temp','hum','windspeed','cnt']\n",
    "\n",
    "df_bike_train[numvars]= scaler.fit_transform(df_bike_train[numvars])"
   ]
  },
  {
   "cell_type": "code",
   "execution_count": 147,
   "id": "146799d5",
   "metadata": {},
   "outputs": [
    {
     "data": {
      "text/html": [
       "<div>\n",
       "<style scoped>\n",
       "    .dataframe tbody tr th:only-of-type {\n",
       "        vertical-align: middle;\n",
       "    }\n",
       "\n",
       "    .dataframe tbody tr th {\n",
       "        vertical-align: top;\n",
       "    }\n",
       "\n",
       "    .dataframe thead th {\n",
       "        text-align: right;\n",
       "    }\n",
       "</style>\n",
       "<table border=\"1\" class=\"dataframe\">\n",
       "  <thead>\n",
       "    <tr style=\"text-align: right;\">\n",
       "      <th></th>\n",
       "      <th>year</th>\n",
       "      <th>temp</th>\n",
       "      <th>hum</th>\n",
       "      <th>windspeed</th>\n",
       "      <th>cnt</th>\n",
       "      <th>spring</th>\n",
       "      <th>summer</th>\n",
       "      <th>winter</th>\n",
       "      <th>mon</th>\n",
       "      <th>sat</th>\n",
       "      <th>...</th>\n",
       "      <th>dec</th>\n",
       "      <th>feb</th>\n",
       "      <th>jan</th>\n",
       "      <th>july</th>\n",
       "      <th>june</th>\n",
       "      <th>mar</th>\n",
       "      <th>may</th>\n",
       "      <th>nov</th>\n",
       "      <th>oct</th>\n",
       "      <th>sep</th>\n",
       "    </tr>\n",
       "  </thead>\n",
       "  <tbody>\n",
       "    <tr>\n",
       "      <th>653</th>\n",
       "      <td>1</td>\n",
       "      <td>0.509887</td>\n",
       "      <td>0.473375</td>\n",
       "      <td>0.345084</td>\n",
       "      <td>0.864243</td>\n",
       "      <td>0</td>\n",
       "      <td>0</td>\n",
       "      <td>1</td>\n",
       "      <td>0</td>\n",
       "      <td>0</td>\n",
       "      <td>...</td>\n",
       "      <td>0</td>\n",
       "      <td>0</td>\n",
       "      <td>0</td>\n",
       "      <td>0</td>\n",
       "      <td>0</td>\n",
       "      <td>0</td>\n",
       "      <td>0</td>\n",
       "      <td>0</td>\n",
       "      <td>1</td>\n",
       "      <td>0</td>\n",
       "    </tr>\n",
       "    <tr>\n",
       "      <th>576</th>\n",
       "      <td>1</td>\n",
       "      <td>0.815169</td>\n",
       "      <td>0.659744</td>\n",
       "      <td>0.303659</td>\n",
       "      <td>0.827658</td>\n",
       "      <td>0</td>\n",
       "      <td>0</td>\n",
       "      <td>0</td>\n",
       "      <td>0</td>\n",
       "      <td>0</td>\n",
       "      <td>...</td>\n",
       "      <td>0</td>\n",
       "      <td>0</td>\n",
       "      <td>0</td>\n",
       "      <td>1</td>\n",
       "      <td>0</td>\n",
       "      <td>0</td>\n",
       "      <td>0</td>\n",
       "      <td>0</td>\n",
       "      <td>0</td>\n",
       "      <td>0</td>\n",
       "    </tr>\n",
       "    <tr>\n",
       "      <th>426</th>\n",
       "      <td>1</td>\n",
       "      <td>0.442393</td>\n",
       "      <td>0.553780</td>\n",
       "      <td>0.292941</td>\n",
       "      <td>0.465255</td>\n",
       "      <td>1</td>\n",
       "      <td>0</td>\n",
       "      <td>0</td>\n",
       "      <td>0</td>\n",
       "      <td>0</td>\n",
       "      <td>...</td>\n",
       "      <td>0</td>\n",
       "      <td>0</td>\n",
       "      <td>0</td>\n",
       "      <td>0</td>\n",
       "      <td>0</td>\n",
       "      <td>1</td>\n",
       "      <td>0</td>\n",
       "      <td>0</td>\n",
       "      <td>0</td>\n",
       "      <td>0</td>\n",
       "    </tr>\n",
       "    <tr>\n",
       "      <th>728</th>\n",
       "      <td>1</td>\n",
       "      <td>0.245101</td>\n",
       "      <td>0.377528</td>\n",
       "      <td>0.760746</td>\n",
       "      <td>0.204096</td>\n",
       "      <td>1</td>\n",
       "      <td>0</td>\n",
       "      <td>0</td>\n",
       "      <td>1</td>\n",
       "      <td>0</td>\n",
       "      <td>...</td>\n",
       "      <td>1</td>\n",
       "      <td>0</td>\n",
       "      <td>0</td>\n",
       "      <td>0</td>\n",
       "      <td>0</td>\n",
       "      <td>0</td>\n",
       "      <td>0</td>\n",
       "      <td>0</td>\n",
       "      <td>0</td>\n",
       "      <td>0</td>\n",
       "    </tr>\n",
       "    <tr>\n",
       "      <th>482</th>\n",
       "      <td>1</td>\n",
       "      <td>0.395666</td>\n",
       "      <td>0.385516</td>\n",
       "      <td>0.216227</td>\n",
       "      <td>0.482973</td>\n",
       "      <td>0</td>\n",
       "      <td>1</td>\n",
       "      <td>0</td>\n",
       "      <td>0</td>\n",
       "      <td>0</td>\n",
       "      <td>...</td>\n",
       "      <td>0</td>\n",
       "      <td>0</td>\n",
       "      <td>0</td>\n",
       "      <td>0</td>\n",
       "      <td>0</td>\n",
       "      <td>0</td>\n",
       "      <td>0</td>\n",
       "      <td>0</td>\n",
       "      <td>0</td>\n",
       "      <td>0</td>\n",
       "    </tr>\n",
       "  </tbody>\n",
       "</table>\n",
       "<p>5 rows × 28 columns</p>\n",
       "</div>"
      ],
      "text/plain": [
       "     year      temp       hum  windspeed       cnt  spring  summer  winter  \\\n",
       "653     1  0.509887  0.473375   0.345084  0.864243       0       0       1   \n",
       "576     1  0.815169  0.659744   0.303659  0.827658       0       0       0   \n",
       "426     1  0.442393  0.553780   0.292941  0.465255       1       0       0   \n",
       "728     1  0.245101  0.377528   0.760746  0.204096       1       0       0   \n",
       "482     1  0.395666  0.385516   0.216227  0.482973       0       1       0   \n",
       "\n",
       "     mon  sat  ...  dec  feb  jan  july  june  mar  may  nov  oct  sep  \n",
       "653    0    0  ...    0    0    0     0     0    0    0    0    1    0  \n",
       "576    0    0  ...    0    0    0     1     0    0    0    0    0    0  \n",
       "426    0    0  ...    0    0    0     0     0    1    0    0    0    0  \n",
       "728    1    0  ...    1    0    0     0     0    0    0    0    0    0  \n",
       "482    0    0  ...    0    0    0     0     0    0    0    0    0    0  \n",
       "\n",
       "[5 rows x 28 columns]"
      ]
     },
     "execution_count": 147,
     "metadata": {},
     "output_type": "execute_result"
    }
   ],
   "source": [
    "df_bike_train.head()"
   ]
  },
  {
   "cell_type": "code",
   "execution_count": 148,
   "id": "9041397b",
   "metadata": {},
   "outputs": [
    {
     "data": {
      "image/png": "[encoded data removed]",
      "text/plain": [
       "<Figure size 432x288 with 1 Axes>"
      ]
     },
     "metadata": {
      "needs_background": "light"
     },
     "output_type": "display_data"
    }
   ],
   "source": [
    "sns.scatterplot('temp','cnt',data=df_bike_train)\n",
    "plt.show()"
   ]
  },
  {
   "cell_type": "code",
   "execution_count": 149,
   "id": "931eed88",
   "metadata": {},
   "outputs": [],
   "source": [
    "#After scalling there is no change in plots, so scalling applied properly"
   ]
  },
  {
   "cell_type": "code",
   "execution_count": 150,
   "id": "138520c4",
   "metadata": {},
   "outputs": [],
   "source": [
    "#Dividing data in dependent variable and independent variables"
   ]
  },
  {
   "cell_type": "code",
   "execution_count": 151,
   "id": "1e33818f",
   "metadata": {},
   "outputs": [],
   "source": [
    "y_train = df_bike_train.pop('cnt')\n",
    "X_train = df_bike_train"
   ]
  },
  {
   "cell_type": "markdown",
   "id": "f5675558",
   "metadata": {},
   "source": [
    "# 3. Model building and Evaluation"
   ]
  },
  {
   "cell_type": "code",
   "execution_count": 152,
   "id": "5fd43e06",
   "metadata": {},
   "outputs": [],
   "source": [
    "#Execute liniear regression and RFE concept"
   ]
  },
  {
   "cell_type": "code",
   "execution_count": 153,
   "id": "42e8b053",
   "metadata": {},
   "outputs": [],
   "source": [
    "from sklearn.feature_selection import RFE\n",
    "from sklearn.linear_model import LinearRegression"
   ]
  },
  {
   "cell_type": "code",
   "execution_count": 154,
   "id": "c57201be",
   "metadata": {},
   "outputs": [
    {
     "data": {
      "text/plain": [
       "LinearRegression()"
      ]
     },
     "execution_count": 154,
     "metadata": {},
     "output_type": "execute_result"
    }
   ],
   "source": [
    "lm = LinearRegression()\n",
    "lm.fit(X_train, y_train)"
   ]
  },
  {
   "cell_type": "code",
   "execution_count": 155,
   "id": "6d921384",
   "metadata": {},
   "outputs": [],
   "source": [
    "# running with 10 independent variables\n",
    "rfe = RFE(lm,10)\n",
    "rfe = rfe.fit(X_train, y_train)"
   ]
  },
  {
   "cell_type": "code",
   "execution_count": 156,
   "id": "132defc2",
   "metadata": {},
   "outputs": [
    {
     "data": {
      "text/plain": [
       "[('year', True, 1),\n",
       " ('temp', True, 1),\n",
       " ('hum', True, 1),\n",
       " ('windspeed', True, 1),\n",
       " ('spring', True, 1),\n",
       " ('summer', False, 5),\n",
       " ('winter', False, 4),\n",
       " ('mon', False, 3),\n",
       " ('sat', False, 15),\n",
       " ('sun', True, 1),\n",
       " ('thu', False, 17),\n",
       " ('tue', False, 12),\n",
       " ('wed', False, 13),\n",
       " ('working_day', False, 2),\n",
       " ('light snow', True, 1),\n",
       " ('mist', True, 1),\n",
       " ('aug', False, 11),\n",
       " ('dec', False, 8),\n",
       " ('feb', False, 9),\n",
       " ('jan', False, 6),\n",
       " ('july', True, 1),\n",
       " ('june', False, 16),\n",
       " ('mar', False, 18),\n",
       " ('may', False, 10),\n",
       " ('nov', False, 7),\n",
       " ('oct', False, 14),\n",
       " ('sep', True, 1)]"
      ]
     },
     "execution_count": 156,
     "metadata": {},
     "output_type": "execute_result"
    }
   ],
   "source": [
    "list(zip(X_train.columns,rfe.support_,rfe.ranking_))"
   ]
  },
  {
   "cell_type": "code",
   "execution_count": 157,
   "id": "26b4c904",
   "metadata": {},
   "outputs": [],
   "source": [
    "#Get olny RFE.support true variables for analysis"
   ]
  },
  {
   "cell_type": "code",
   "execution_count": 158,
   "id": "daee0cc4",
   "metadata": {},
   "outputs": [
    {
     "data": {
      "text/plain": [
       "Index(['year', 'temp', 'hum', 'windspeed', 'spring', 'sun', 'light snow',\n",
       "       'mist', 'july', 'sep'],\n",
       "      dtype='object')"
      ]
     },
     "execution_count": 158,
     "metadata": {},
     "output_type": "execute_result"
    }
   ],
   "source": [
    "newvars = X_train.columns[rfe.support_]\n",
    "newvars"
   ]
  },
  {
   "cell_type": "code",
   "execution_count": 159,
   "id": "731adabe",
   "metadata": {},
   "outputs": [],
   "source": [
    "# Creating X_train dataset with selected rfe's as true\n",
    "X_train_rfetrue = X_train[newvars]"
   ]
  },
  {
   "cell_type": "code",
   "execution_count": 160,
   "id": "2c278d99",
   "metadata": {},
   "outputs": [],
   "source": [
    "#Add a constant variable"
   ]
  },
  {
   "cell_type": "code",
   "execution_count": 161,
   "id": "f6990f33",
   "metadata": {},
   "outputs": [],
   "source": [
    "import statsmodels.api as sm  \n",
    "X_train_rfetrue = sm.add_constant(X_train_rfetrue)"
   ]
  },
  {
   "cell_type": "code",
   "execution_count": 162,
   "id": "3c206edf",
   "metadata": {},
   "outputs": [],
   "source": [
    "# Running model"
   ]
  },
  {
   "cell_type": "code",
   "execution_count": 163,
   "id": "a819ab02",
   "metadata": {},
   "outputs": [],
   "source": [
    "lm = sm.OLS(y_train,X_train_rfetrue).fit()"
   ]
  },
  {
   "cell_type": "code",
   "execution_count": 164,
   "id": "e280e994",
   "metadata": {},
   "outputs": [
    {
     "data": {
      "text/html": [
       "<table class=\"simpletable\">\n",
       "<caption>OLS Regression Results</caption>\n",
       "<tr>\n",
       "  <th>Dep. Variable:</th>           <td>cnt</td>       <th>  R-squared:         </th> <td>   0.828</td> \n",
       "</tr>\n",
       "<tr>\n",
       "  <th>Model:</th>                   <td>OLS</td>       <th>  Adj. R-squared:    </th> <td>   0.825</td> \n",
       "</tr>\n",
       "<tr>\n",
       "  <th>Method:</th>             <td>Least Squares</td>  <th>  F-statistic:       </th> <td>   241.4</td> \n",
       "</tr>\n",
       "<tr>\n",
       "  <th>Date:</th>             <td>Tue, 15 Mar 2022</td> <th>  Prob (F-statistic):</th> <td>3.34e-184</td>\n",
       "</tr>\n",
       "<tr>\n",
       "  <th>Time:</th>                 <td>13:07:40</td>     <th>  Log-Likelihood:    </th> <td>  488.62</td> \n",
       "</tr>\n",
       "<tr>\n",
       "  <th>No. Observations:</th>      <td>   511</td>      <th>  AIC:               </th> <td>  -955.2</td> \n",
       "</tr>\n",
       "<tr>\n",
       "  <th>Df Residuals:</th>          <td>   500</td>      <th>  BIC:               </th> <td>  -908.6</td> \n",
       "</tr>\n",
       "<tr>\n",
       "  <th>Df Model:</th>              <td>    10</td>      <th>                     </th>     <td> </td>    \n",
       "</tr>\n",
       "<tr>\n",
       "  <th>Covariance Type:</th>      <td>nonrobust</td>    <th>                     </th>     <td> </td>    \n",
       "</tr>\n",
       "</table>\n",
       "<table class=\"simpletable\">\n",
       "<tr>\n",
       "       <td></td>         <th>coef</th>     <th>std err</th>      <th>t</th>      <th>P>|t|</th>  <th>[0.025</th>    <th>0.975]</th>  \n",
       "</tr>\n",
       "<tr>\n",
       "  <th>const</th>      <td>    0.3540</td> <td>    0.025</td> <td>   14.041</td> <td> 0.000</td> <td>    0.304</td> <td>    0.404</td>\n",
       "</tr>\n",
       "<tr>\n",
       "  <th>year</th>       <td>    0.2337</td> <td>    0.008</td> <td>   27.662</td> <td> 0.000</td> <td>    0.217</td> <td>    0.250</td>\n",
       "</tr>\n",
       "<tr>\n",
       "  <th>temp</th>       <td>    0.4100</td> <td>    0.027</td> <td>   15.399</td> <td> 0.000</td> <td>    0.358</td> <td>    0.462</td>\n",
       "</tr>\n",
       "<tr>\n",
       "  <th>hum</th>        <td>   -0.1043</td> <td>    0.032</td> <td>   -3.282</td> <td> 0.001</td> <td>   -0.167</td> <td>   -0.042</td>\n",
       "</tr>\n",
       "<tr>\n",
       "  <th>windspeed</th>  <td>   -0.1578</td> <td>    0.023</td> <td>   -6.781</td> <td> 0.000</td> <td>   -0.204</td> <td>   -0.112</td>\n",
       "</tr>\n",
       "<tr>\n",
       "  <th>spring</th>     <td>   -0.1487</td> <td>    0.012</td> <td>  -11.963</td> <td> 0.000</td> <td>   -0.173</td> <td>   -0.124</td>\n",
       "</tr>\n",
       "<tr>\n",
       "  <th>sun</th>        <td>    0.0205</td> <td>    0.012</td> <td>    1.773</td> <td> 0.077</td> <td>   -0.002</td> <td>    0.043</td>\n",
       "</tr>\n",
       "<tr>\n",
       "  <th>light snow</th> <td>   -0.2370</td> <td>    0.028</td> <td>   -8.547</td> <td> 0.000</td> <td>   -0.292</td> <td>   -0.183</td>\n",
       "</tr>\n",
       "<tr>\n",
       "  <th>mist</th>       <td>   -0.0590</td> <td>    0.011</td> <td>   -5.416</td> <td> 0.000</td> <td>   -0.080</td> <td>   -0.038</td>\n",
       "</tr>\n",
       "<tr>\n",
       "  <th>july</th>       <td>   -0.0800</td> <td>    0.018</td> <td>   -4.490</td> <td> 0.000</td> <td>   -0.115</td> <td>   -0.045</td>\n",
       "</tr>\n",
       "<tr>\n",
       "  <th>sep</th>        <td>    0.0548</td> <td>    0.016</td> <td>    3.406</td> <td> 0.001</td> <td>    0.023</td> <td>    0.086</td>\n",
       "</tr>\n",
       "</table>\n",
       "<table class=\"simpletable\">\n",
       "<tr>\n",
       "  <th>Omnibus:</th>       <td>59.088</td> <th>  Durbin-Watson:     </th> <td>   1.990</td>\n",
       "</tr>\n",
       "<tr>\n",
       "  <th>Prob(Omnibus):</th> <td> 0.000</td> <th>  Jarque-Bera (JB):  </th> <td> 128.622</td>\n",
       "</tr>\n",
       "<tr>\n",
       "  <th>Skew:</th>          <td>-0.641</td> <th>  Prob(JB):          </th> <td>1.17e-28</td>\n",
       "</tr>\n",
       "<tr>\n",
       "  <th>Kurtosis:</th>      <td> 5.097</td> <th>  Cond. No.          </th> <td>    15.1</td>\n",
       "</tr>\n",
       "</table><br/><br/>Notes:<br/>[1] Standard Errors assume that the covariance matrix of the errors is correctly specified."
      ],
      "text/plain": [
       "<class 'statsmodels.iolib.summary.Summary'>\n",
       "\"\"\"\n",
       "                            OLS Regression Results                            \n",
       "==============================================================================\n",
       "Dep. Variable:                    cnt   R-squared:                       0.828\n",
       "Model:                            OLS   Adj. R-squared:                  0.825\n",
       "Method:                 Least Squares   F-statistic:                     241.4\n",
       "Date:                Tue, 15 Mar 2022   Prob (F-statistic):          3.34e-184\n",
       "Time:                        13:07:40   Log-Likelihood:                 488.62\n",
       "No. Observations:                 511   AIC:                            -955.2\n",
       "Df Residuals:                     500   BIC:                            -908.6\n",
       "Df Model:                          10                                         \n",
       "Covariance Type:            nonrobust                                         \n",
       "==============================================================================\n",
       "                 coef    std err          t      P>|t|      [0.025      0.975]\n",
       "------------------------------------------------------------------------------\n",
       "const          0.3540      0.025     14.041      0.000       0.304       0.404\n",
       "year           0.2337      0.008     27.662      0.000       0.217       0.250\n",
       "temp           0.4100      0.027     15.399      0.000       0.358       0.462\n",
       "hum           -0.1043      0.032     -3.282      0.001      -0.167      -0.042\n",
       "windspeed     -0.1578      0.023     -6.781      0.000      -0.204      -0.112\n",
       "spring        -0.1487      0.012    -11.963      0.000      -0.173      -0.124\n",
       "sun            0.0205      0.012      1.773      0.077      -0.002       0.043\n",
       "light snow    -0.2370      0.028     -8.547      0.000      -0.292      -0.183\n",
       "mist          -0.0590      0.011     -5.416      0.000      -0.080      -0.038\n",
       "july          -0.0800      0.018     -4.490      0.000      -0.115      -0.045\n",
       "sep            0.0548      0.016      3.406      0.001       0.023       0.086\n",
       "==============================================================================\n",
       "Omnibus:                       59.088   Durbin-Watson:                   1.990\n",
       "Prob(Omnibus):                  0.000   Jarque-Bera (JB):              128.622\n",
       "Skew:                          -0.641   Prob(JB):                     1.17e-28\n",
       "Kurtosis:                       5.097   Cond. No.                         15.1\n",
       "==============================================================================\n",
       "\n",
       "Notes:\n",
       "[1] Standard Errors assume that the covariance matrix of the errors is correctly specified.\n",
       "\"\"\""
      ]
     },
     "execution_count": 164,
     "metadata": {},
     "output_type": "execute_result"
    }
   ],
   "source": [
    "lm.summary()"
   ]
  },
  {
   "cell_type": "code",
   "execution_count": 165,
   "id": "eb44324e",
   "metadata": {},
   "outputs": [],
   "source": [
    "#in the summery noticed  dummy variable mon shows p value is 0.071 which is insignificant i,e >0.05"
   ]
  },
  {
   "cell_type": "code",
   "execution_count": 166,
   "id": "33dfc7a4",
   "metadata": {},
   "outputs": [],
   "source": [
    "X_train_= X_train_rfetrue.drop('sun',1)"
   ]
  },
  {
   "cell_type": "code",
   "execution_count": 167,
   "id": "0fadbc1d",
   "metadata": {},
   "outputs": [],
   "source": [
    "X_train__= sm.add_constant(X_train_)\n",
    "lm_ = sm.OLS(y_train,X_train__).fit() "
   ]
  },
  {
   "cell_type": "code",
   "execution_count": 168,
   "id": "59306acb",
   "metadata": {},
   "outputs": [
    {
     "data": {
      "text/html": [
       "<table class=\"simpletable\">\n",
       "<caption>OLS Regression Results</caption>\n",
       "<tr>\n",
       "  <th>Dep. Variable:</th>           <td>cnt</td>       <th>  R-squared:         </th> <td>   0.827</td> \n",
       "</tr>\n",
       "<tr>\n",
       "  <th>Model:</th>                   <td>OLS</td>       <th>  Adj. R-squared:    </th> <td>   0.824</td> \n",
       "</tr>\n",
       "<tr>\n",
       "  <th>Method:</th>             <td>Least Squares</td>  <th>  F-statistic:       </th> <td>   266.7</td> \n",
       "</tr>\n",
       "<tr>\n",
       "  <th>Date:</th>             <td>Tue, 15 Mar 2022</td> <th>  Prob (F-statistic):</th> <td>9.47e-185</td>\n",
       "</tr>\n",
       "<tr>\n",
       "  <th>Time:</th>                 <td>13:07:40</td>     <th>  Log-Likelihood:    </th> <td>  487.02</td> \n",
       "</tr>\n",
       "<tr>\n",
       "  <th>No. Observations:</th>      <td>   511</td>      <th>  AIC:               </th> <td>  -954.0</td> \n",
       "</tr>\n",
       "<tr>\n",
       "  <th>Df Residuals:</th>          <td>   501</td>      <th>  BIC:               </th> <td>  -911.7</td> \n",
       "</tr>\n",
       "<tr>\n",
       "  <th>Df Model:</th>              <td>     9</td>      <th>                     </th>     <td> </td>    \n",
       "</tr>\n",
       "<tr>\n",
       "  <th>Covariance Type:</th>      <td>nonrobust</td>    <th>                     </th>     <td> </td>    \n",
       "</tr>\n",
       "</table>\n",
       "<table class=\"simpletable\">\n",
       "<tr>\n",
       "       <td></td>         <th>coef</th>     <th>std err</th>      <th>t</th>      <th>P>|t|</th>  <th>[0.025</th>    <th>0.975]</th>  \n",
       "</tr>\n",
       "<tr>\n",
       "  <th>const</th>      <td>    0.3590</td> <td>    0.025</td> <td>   14.298</td> <td> 0.000</td> <td>    0.310</td> <td>    0.408</td>\n",
       "</tr>\n",
       "<tr>\n",
       "  <th>year</th>       <td>    0.2332</td> <td>    0.008</td> <td>   27.559</td> <td> 0.000</td> <td>    0.217</td> <td>    0.250</td>\n",
       "</tr>\n",
       "<tr>\n",
       "  <th>temp</th>       <td>    0.4089</td> <td>    0.027</td> <td>   15.329</td> <td> 0.000</td> <td>    0.356</td> <td>    0.461</td>\n",
       "</tr>\n",
       "<tr>\n",
       "  <th>hum</th>        <td>   -0.1071</td> <td>    0.032</td> <td>   -3.369</td> <td> 0.001</td> <td>   -0.170</td> <td>   -0.045</td>\n",
       "</tr>\n",
       "<tr>\n",
       "  <th>windspeed</th>  <td>   -0.1569</td> <td>    0.023</td> <td>   -6.729</td> <td> 0.000</td> <td>   -0.203</td> <td>   -0.111</td>\n",
       "</tr>\n",
       "<tr>\n",
       "  <th>spring</th>     <td>   -0.1489</td> <td>    0.012</td> <td>  -11.953</td> <td> 0.000</td> <td>   -0.173</td> <td>   -0.124</td>\n",
       "</tr>\n",
       "<tr>\n",
       "  <th>light snow</th> <td>   -0.2353</td> <td>    0.028</td> <td>   -8.471</td> <td> 0.000</td> <td>   -0.290</td> <td>   -0.181</td>\n",
       "</tr>\n",
       "<tr>\n",
       "  <th>mist</th>       <td>   -0.0583</td> <td>    0.011</td> <td>   -5.343</td> <td> 0.000</td> <td>   -0.080</td> <td>   -0.037</td>\n",
       "</tr>\n",
       "<tr>\n",
       "  <th>july</th>       <td>   -0.0796</td> <td>    0.018</td> <td>   -4.455</td> <td> 0.000</td> <td>   -0.115</td> <td>   -0.044</td>\n",
       "</tr>\n",
       "<tr>\n",
       "  <th>sep</th>        <td>    0.0550</td> <td>    0.016</td> <td>    3.415</td> <td> 0.001</td> <td>    0.023</td> <td>    0.087</td>\n",
       "</tr>\n",
       "</table>\n",
       "<table class=\"simpletable\">\n",
       "<tr>\n",
       "  <th>Omnibus:</th>       <td>53.578</td> <th>  Durbin-Watson:     </th> <td>   1.989</td>\n",
       "</tr>\n",
       "<tr>\n",
       "  <th>Prob(Omnibus):</th> <td> 0.000</td> <th>  Jarque-Bera (JB):  </th> <td> 125.462</td>\n",
       "</tr>\n",
       "<tr>\n",
       "  <th>Skew:</th>          <td>-0.561</td> <th>  Prob(JB):          </th> <td>5.71e-28</td>\n",
       "</tr>\n",
       "<tr>\n",
       "  <th>Kurtosis:</th>      <td> 5.153</td> <th>  Cond. No.          </th> <td>    15.0</td>\n",
       "</tr>\n",
       "</table><br/><br/>Notes:<br/>[1] Standard Errors assume that the covariance matrix of the errors is correctly specified."
      ],
      "text/plain": [
       "<class 'statsmodels.iolib.summary.Summary'>\n",
       "\"\"\"\n",
       "                            OLS Regression Results                            \n",
       "==============================================================================\n",
       "Dep. Variable:                    cnt   R-squared:                       0.827\n",
       "Model:                            OLS   Adj. R-squared:                  0.824\n",
       "Method:                 Least Squares   F-statistic:                     266.7\n",
       "Date:                Tue, 15 Mar 2022   Prob (F-statistic):          9.47e-185\n",
       "Time:                        13:07:40   Log-Likelihood:                 487.02\n",
       "No. Observations:                 511   AIC:                            -954.0\n",
       "Df Residuals:                     501   BIC:                            -911.7\n",
       "Df Model:                           9                                         \n",
       "Covariance Type:            nonrobust                                         \n",
       "==============================================================================\n",
       "                 coef    std err          t      P>|t|      [0.025      0.975]\n",
       "------------------------------------------------------------------------------\n",
       "const          0.3590      0.025     14.298      0.000       0.310       0.408\n",
       "year           0.2332      0.008     27.559      0.000       0.217       0.250\n",
       "temp           0.4089      0.027     15.329      0.000       0.356       0.461\n",
       "hum           -0.1071      0.032     -3.369      0.001      -0.170      -0.045\n",
       "windspeed     -0.1569      0.023     -6.729      0.000      -0.203      -0.111\n",
       "spring        -0.1489      0.012    -11.953      0.000      -0.173      -0.124\n",
       "light snow    -0.2353      0.028     -8.471      0.000      -0.290      -0.181\n",
       "mist          -0.0583      0.011     -5.343      0.000      -0.080      -0.037\n",
       "july          -0.0796      0.018     -4.455      0.000      -0.115      -0.044\n",
       "sep            0.0550      0.016      3.415      0.001       0.023       0.087\n",
       "==============================================================================\n",
       "Omnibus:                       53.578   Durbin-Watson:                   1.989\n",
       "Prob(Omnibus):                  0.000   Jarque-Bera (JB):              125.462\n",
       "Skew:                          -0.561   Prob(JB):                     5.71e-28\n",
       "Kurtosis:                       5.153   Cond. No.                         15.0\n",
       "==============================================================================\n",
       "\n",
       "Notes:\n",
       "[1] Standard Errors assume that the covariance matrix of the errors is correctly specified.\n",
       "\"\"\""
      ]
     },
     "execution_count": 168,
     "metadata": {},
     "output_type": "execute_result"
    }
   ],
   "source": [
    "lm_.summary()"
   ]
  },
  {
   "cell_type": "code",
   "execution_count": 169,
   "id": "1804607e",
   "metadata": {},
   "outputs": [],
   "source": [
    "#X_train_new= X_train__.drop('const',axis=1)"
   ]
  },
  {
   "cell_type": "code",
   "execution_count": 170,
   "id": "ac73601c",
   "metadata": {},
   "outputs": [],
   "source": [
    "#Check Variation inflation factor i,e VIF"
   ]
  },
  {
   "cell_type": "code",
   "execution_count": 171,
   "id": "b2757430",
   "metadata": {},
   "outputs": [],
   "source": [
    "from statsmodels.stats.outliers_influence import variance_inflation_factor"
   ]
  },
  {
   "cell_type": "code",
   "execution_count": 172,
   "id": "565dc0d3",
   "metadata": {},
   "outputs": [
    {
     "data": {
      "text/html": [
       "<div>\n",
       "<style scoped>\n",
       "    .dataframe tbody tr th:only-of-type {\n",
       "        vertical-align: middle;\n",
       "    }\n",
       "\n",
       "    .dataframe tbody tr th {\n",
       "        vertical-align: top;\n",
       "    }\n",
       "\n",
       "    .dataframe thead th {\n",
       "        text-align: right;\n",
       "    }\n",
       "</style>\n",
       "<table border=\"1\" class=\"dataframe\">\n",
       "  <thead>\n",
       "    <tr style=\"text-align: right;\">\n",
       "      <th></th>\n",
       "      <th>Features</th>\n",
       "      <th>VIF</th>\n",
       "    </tr>\n",
       "  </thead>\n",
       "  <tbody>\n",
       "    <tr>\n",
       "      <th>0</th>\n",
       "      <td>const</td>\n",
       "      <td>36.29</td>\n",
       "    </tr>\n",
       "    <tr>\n",
       "      <th>2</th>\n",
       "      <td>temp</td>\n",
       "      <td>2.08</td>\n",
       "    </tr>\n",
       "    <tr>\n",
       "      <th>3</th>\n",
       "      <td>hum</td>\n",
       "      <td>1.86</td>\n",
       "    </tr>\n",
       "    <tr>\n",
       "      <th>5</th>\n",
       "      <td>spring</td>\n",
       "      <td>1.64</td>\n",
       "    </tr>\n",
       "    <tr>\n",
       "      <th>7</th>\n",
       "      <td>mist</td>\n",
       "      <td>1.55</td>\n",
       "    </tr>\n",
       "    <tr>\n",
       "      <th>8</th>\n",
       "      <td>july</td>\n",
       "      <td>1.29</td>\n",
       "    </tr>\n",
       "    <tr>\n",
       "      <th>6</th>\n",
       "      <td>light snow</td>\n",
       "      <td>1.27</td>\n",
       "    </tr>\n",
       "    <tr>\n",
       "      <th>4</th>\n",
       "      <td>windspeed</td>\n",
       "      <td>1.17</td>\n",
       "    </tr>\n",
       "    <tr>\n",
       "      <th>9</th>\n",
       "      <td>sep</td>\n",
       "      <td>1.10</td>\n",
       "    </tr>\n",
       "    <tr>\n",
       "      <th>1</th>\n",
       "      <td>year</td>\n",
       "      <td>1.03</td>\n",
       "    </tr>\n",
       "  </tbody>\n",
       "</table>\n",
       "</div>"
      ],
      "text/plain": [
       "     Features    VIF\n",
       "0       const  36.29\n",
       "2        temp   2.08\n",
       "3         hum   1.86\n",
       "5      spring   1.64\n",
       "7        mist   1.55\n",
       "8        july   1.29\n",
       "6  light snow   1.27\n",
       "4   windspeed   1.17\n",
       "9         sep   1.10\n",
       "1        year   1.03"
      ]
     },
     "execution_count": 172,
     "metadata": {},
     "output_type": "execute_result"
    }
   ],
   "source": [
    "vif = pd.DataFrame()\n",
    "X = X_train__\n",
    "vif['Features'] = X.columns\n",
    "vif['VIF'] = [variance_inflation_factor(X.values, i) for i in range(X.shape[1])]\n",
    "vif['VIF'] = round(vif['VIF'], 2)\n",
    "vif = vif.sort_values(by = \"VIF\", ascending = False)\n",
    "vif"
   ]
  },
  {
   "cell_type": "markdown",
   "id": "23687026",
   "metadata": {},
   "source": [
    "All independent variables (except constant) VIF value is <5 which is good"
   ]
  },
  {
   "cell_type": "code",
   "execution_count": 173,
   "id": "7bb4e320",
   "metadata": {},
   "outputs": [],
   "source": [
    "#X_train__= X_train__.drop('hum',axis=1)\n",
    "#X_train__= X_train__.drop('temp',axis=1)"
   ]
  },
  {
   "cell_type": "code",
   "execution_count": 174,
   "id": "252ed127",
   "metadata": {},
   "outputs": [],
   "source": [
    "X_train__= sm.add_constant(X_train__)\n",
    "lm__= sm.OLS(y_train,X_train__).fit() "
   ]
  },
  {
   "cell_type": "code",
   "execution_count": 175,
   "id": "783b3ac9",
   "metadata": {},
   "outputs": [
    {
     "data": {
      "text/html": [
       "<table class=\"simpletable\">\n",
       "<caption>OLS Regression Results</caption>\n",
       "<tr>\n",
       "  <th>Dep. Variable:</th>           <td>cnt</td>       <th>  R-squared:         </th> <td>   0.827</td> \n",
       "</tr>\n",
       "<tr>\n",
       "  <th>Model:</th>                   <td>OLS</td>       <th>  Adj. R-squared:    </th> <td>   0.824</td> \n",
       "</tr>\n",
       "<tr>\n",
       "  <th>Method:</th>             <td>Least Squares</td>  <th>  F-statistic:       </th> <td>   266.7</td> \n",
       "</tr>\n",
       "<tr>\n",
       "  <th>Date:</th>             <td>Tue, 15 Mar 2022</td> <th>  Prob (F-statistic):</th> <td>9.47e-185</td>\n",
       "</tr>\n",
       "<tr>\n",
       "  <th>Time:</th>                 <td>13:07:40</td>     <th>  Log-Likelihood:    </th> <td>  487.02</td> \n",
       "</tr>\n",
       "<tr>\n",
       "  <th>No. Observations:</th>      <td>   511</td>      <th>  AIC:               </th> <td>  -954.0</td> \n",
       "</tr>\n",
       "<tr>\n",
       "  <th>Df Residuals:</th>          <td>   501</td>      <th>  BIC:               </th> <td>  -911.7</td> \n",
       "</tr>\n",
       "<tr>\n",
       "  <th>Df Model:</th>              <td>     9</td>      <th>                     </th>     <td> </td>    \n",
       "</tr>\n",
       "<tr>\n",
       "  <th>Covariance Type:</th>      <td>nonrobust</td>    <th>                     </th>     <td> </td>    \n",
       "</tr>\n",
       "</table>\n",
       "<table class=\"simpletable\">\n",
       "<tr>\n",
       "       <td></td>         <th>coef</th>     <th>std err</th>      <th>t</th>      <th>P>|t|</th>  <th>[0.025</th>    <th>0.975]</th>  \n",
       "</tr>\n",
       "<tr>\n",
       "  <th>const</th>      <td>    0.3590</td> <td>    0.025</td> <td>   14.298</td> <td> 0.000</td> <td>    0.310</td> <td>    0.408</td>\n",
       "</tr>\n",
       "<tr>\n",
       "  <th>year</th>       <td>    0.2332</td> <td>    0.008</td> <td>   27.559</td> <td> 0.000</td> <td>    0.217</td> <td>    0.250</td>\n",
       "</tr>\n",
       "<tr>\n",
       "  <th>temp</th>       <td>    0.4089</td> <td>    0.027</td> <td>   15.329</td> <td> 0.000</td> <td>    0.356</td> <td>    0.461</td>\n",
       "</tr>\n",
       "<tr>\n",
       "  <th>hum</th>        <td>   -0.1071</td> <td>    0.032</td> <td>   -3.369</td> <td> 0.001</td> <td>   -0.170</td> <td>   -0.045</td>\n",
       "</tr>\n",
       "<tr>\n",
       "  <th>windspeed</th>  <td>   -0.1569</td> <td>    0.023</td> <td>   -6.729</td> <td> 0.000</td> <td>   -0.203</td> <td>   -0.111</td>\n",
       "</tr>\n",
       "<tr>\n",
       "  <th>spring</th>     <td>   -0.1489</td> <td>    0.012</td> <td>  -11.953</td> <td> 0.000</td> <td>   -0.173</td> <td>   -0.124</td>\n",
       "</tr>\n",
       "<tr>\n",
       "  <th>light snow</th> <td>   -0.2353</td> <td>    0.028</td> <td>   -8.471</td> <td> 0.000</td> <td>   -0.290</td> <td>   -0.181</td>\n",
       "</tr>\n",
       "<tr>\n",
       "  <th>mist</th>       <td>   -0.0583</td> <td>    0.011</td> <td>   -5.343</td> <td> 0.000</td> <td>   -0.080</td> <td>   -0.037</td>\n",
       "</tr>\n",
       "<tr>\n",
       "  <th>july</th>       <td>   -0.0796</td> <td>    0.018</td> <td>   -4.455</td> <td> 0.000</td> <td>   -0.115</td> <td>   -0.044</td>\n",
       "</tr>\n",
       "<tr>\n",
       "  <th>sep</th>        <td>    0.0550</td> <td>    0.016</td> <td>    3.415</td> <td> 0.001</td> <td>    0.023</td> <td>    0.087</td>\n",
       "</tr>\n",
       "</table>\n",
       "<table class=\"simpletable\">\n",
       "<tr>\n",
       "  <th>Omnibus:</th>       <td>53.578</td> <th>  Durbin-Watson:     </th> <td>   1.989</td>\n",
       "</tr>\n",
       "<tr>\n",
       "  <th>Prob(Omnibus):</th> <td> 0.000</td> <th>  Jarque-Bera (JB):  </th> <td> 125.462</td>\n",
       "</tr>\n",
       "<tr>\n",
       "  <th>Skew:</th>          <td>-0.561</td> <th>  Prob(JB):          </th> <td>5.71e-28</td>\n",
       "</tr>\n",
       "<tr>\n",
       "  <th>Kurtosis:</th>      <td> 5.153</td> <th>  Cond. No.          </th> <td>    15.0</td>\n",
       "</tr>\n",
       "</table><br/><br/>Notes:<br/>[1] Standard Errors assume that the covariance matrix of the errors is correctly specified."
      ],
      "text/plain": [
       "<class 'statsmodels.iolib.summary.Summary'>\n",
       "\"\"\"\n",
       "                            OLS Regression Results                            \n",
       "==============================================================================\n",
       "Dep. Variable:                    cnt   R-squared:                       0.827\n",
       "Model:                            OLS   Adj. R-squared:                  0.824\n",
       "Method:                 Least Squares   F-statistic:                     266.7\n",
       "Date:                Tue, 15 Mar 2022   Prob (F-statistic):          9.47e-185\n",
       "Time:                        13:07:40   Log-Likelihood:                 487.02\n",
       "No. Observations:                 511   AIC:                            -954.0\n",
       "Df Residuals:                     501   BIC:                            -911.7\n",
       "Df Model:                           9                                         \n",
       "Covariance Type:            nonrobust                                         \n",
       "==============================================================================\n",
       "                 coef    std err          t      P>|t|      [0.025      0.975]\n",
       "------------------------------------------------------------------------------\n",
       "const          0.3590      0.025     14.298      0.000       0.310       0.408\n",
       "year           0.2332      0.008     27.559      0.000       0.217       0.250\n",
       "temp           0.4089      0.027     15.329      0.000       0.356       0.461\n",
       "hum           -0.1071      0.032     -3.369      0.001      -0.170      -0.045\n",
       "windspeed     -0.1569      0.023     -6.729      0.000      -0.203      -0.111\n",
       "spring        -0.1489      0.012    -11.953      0.000      -0.173      -0.124\n",
       "light snow    -0.2353      0.028     -8.471      0.000      -0.290      -0.181\n",
       "mist          -0.0583      0.011     -5.343      0.000      -0.080      -0.037\n",
       "july          -0.0796      0.018     -4.455      0.000      -0.115      -0.044\n",
       "sep            0.0550      0.016      3.415      0.001       0.023       0.087\n",
       "==============================================================================\n",
       "Omnibus:                       53.578   Durbin-Watson:                   1.989\n",
       "Prob(Omnibus):                  0.000   Jarque-Bera (JB):              125.462\n",
       "Skew:                          -0.561   Prob(JB):                     5.71e-28\n",
       "Kurtosis:                       5.153   Cond. No.                         15.0\n",
       "==============================================================================\n",
       "\n",
       "Notes:\n",
       "[1] Standard Errors assume that the covariance matrix of the errors is correctly specified.\n",
       "\"\"\""
      ]
     },
     "execution_count": 175,
     "metadata": {},
     "output_type": "execute_result"
    }
   ],
   "source": [
    "lm__.summary()"
   ]
  },
  {
   "cell_type": "code",
   "execution_count": 176,
   "id": "4898956f",
   "metadata": {},
   "outputs": [],
   "source": [
    "#X_train_new= X_train__.drop('const',axis=1)"
   ]
  },
  {
   "cell_type": "markdown",
   "id": "25c42c6e",
   "metadata": {},
   "source": [
    "Residual Analysis of train data"
   ]
  },
  {
   "cell_type": "code",
   "execution_count": 177,
   "id": "8c3e39c6",
   "metadata": {},
   "outputs": [],
   "source": [
    "y_train_pred = lm_.predict(X_train__)"
   ]
  },
  {
   "cell_type": "code",
   "execution_count": 178,
   "id": "3fa2008a",
   "metadata": {},
   "outputs": [
    {
     "data": {
      "text/plain": [
       "Text(0.5, 0, 'Errors')"
      ]
     },
     "execution_count": 178,
     "metadata": {},
     "output_type": "execute_result"
    },
    {
     "data": {
      "image/png": "[encoded data removed]",
      "text/plain": [
       "<Figure size 432x288 with 1 Axes>"
      ]
     },
     "metadata": {
      "needs_background": "light"
     },
     "output_type": "display_data"
    }
   ],
   "source": [
    "fig = plt.figure()\n",
    "sns.distplot((y_train - y_train_pred), bins = 20)\n",
    "fig.suptitle('Error Terms', fontsize = 20)                  # Plot heading \n",
    "plt.xlabel('Errors', fontsize = 18)"
   ]
  },
  {
   "cell_type": "code",
   "execution_count": 179,
   "id": "8faf52fc",
   "metadata": {},
   "outputs": [],
   "source": [
    "X_train__.drop(['const'], axis = 1, inplace = True)"
   ]
  },
  {
   "cell_type": "markdown",
   "id": "fec6f351",
   "metadata": {},
   "source": [
    "# Making predictions"
   ]
  },
  {
   "cell_type": "code",
   "execution_count": 180,
   "id": "0f64281c",
   "metadata": {},
   "outputs": [],
   "source": [
    "numvars=['temp','hum','windspeed','cnt']\n",
    "\n",
    "df_bike_test[numvars]= scaler.transform(df_bike_test[numvars])\n"
   ]
  },
  {
   "cell_type": "code",
   "execution_count": null,
   "id": "780d9c86",
   "metadata": {},
   "outputs": [],
   "source": []
  },
  {
   "cell_type": "code",
   "execution_count": 181,
   "id": "2d4dda61",
   "metadata": {},
   "outputs": [],
   "source": [
    "#Dividing into X_test and y_test"
   ]
  },
  {
   "cell_type": "code",
   "execution_count": 182,
   "id": "3f34c9c0",
   "metadata": {},
   "outputs": [],
   "source": [
    "y_test = df_bike_test.pop('cnt')\n",
    "X_test = df_bike_test"
   ]
  },
  {
   "cell_type": "code",
   "execution_count": 183,
   "id": "f9afec08",
   "metadata": {},
   "outputs": [
    {
     "data": {
      "text/plain": [
       "Index(['year', 'temp', 'hum', 'windspeed', 'spring', 'light snow', 'mist',\n",
       "       'july', 'sep'],\n",
       "      dtype='object')"
      ]
     },
     "execution_count": 183,
     "metadata": {},
     "output_type": "execute_result"
    }
   ],
   "source": [
    "X_train__.columns"
   ]
  },
  {
   "cell_type": "code",
   "execution_count": 184,
   "id": "186ded09",
   "metadata": {},
   "outputs": [],
   "source": [
    "# Now let's use our model to make predictions.\n",
    "\n",
    "# Creating X_test_new dataframe by dropping variables from X_test\n",
    "X_test_new = X_test[X_train__.columns]\n",
    "\n",
    "# Adding a constant variable \n",
    "X_test_new = sm.add_constant(X_test_new)"
   ]
  },
  {
   "cell_type": "code",
   "execution_count": null,
   "id": "01c6db8f",
   "metadata": {},
   "outputs": [],
   "source": []
  },
  {
   "cell_type": "code",
   "execution_count": 185,
   "id": "7dc55873",
   "metadata": {},
   "outputs": [],
   "source": [
    "# Making predictions\n",
    "y_test_pred = lm_.predict(X_test_new)"
   ]
  },
  {
   "cell_type": "code",
   "execution_count": 186,
   "id": "a4f7d624",
   "metadata": {},
   "outputs": [
    {
     "data": {
      "text/plain": [
       "const         0.358992\n",
       "year          0.233215\n",
       "temp          0.408894\n",
       "hum          -0.107120\n",
       "windspeed    -0.156895\n",
       "spring       -0.148879\n",
       "light snow   -0.235295\n",
       "mist         -0.058314\n",
       "july         -0.079565\n",
       "sep           0.055032\n",
       "dtype: float64"
      ]
     },
     "execution_count": 186,
     "metadata": {},
     "output_type": "execute_result"
    }
   ],
   "source": [
    "lm_.params"
   ]
  },
  {
   "cell_type": "markdown",
   "id": "7a36c684",
   "metadata": {},
   "source": [
    "# Model evaluation"
   ]
  },
  {
   "cell_type": "code",
   "execution_count": 187,
   "id": "c2364e72",
   "metadata": {},
   "outputs": [
    {
     "data": {
      "text/plain": [
       "Text(0, 0.5, 'Predictions')"
      ]
     },
     "execution_count": 187,
     "metadata": {},
     "output_type": "execute_result"
    },
    {
     "data": {
      "image/png": "[encoded data removed]",
      "text/plain": [
       "<Figure size 432x288 with 1 Axes>"
      ]
     },
     "metadata": {
      "needs_background": "light"
     },
     "output_type": "display_data"
    }
   ],
   "source": [
    "# Plotting y_test and y_pred to understand the spread.\n",
    "fig = plt.figure()\n",
    "plt.scatter(y_test,y_test_pred)\n",
    "fig.suptitle('Actual vs Predictions', fontsize=20)              # Plot heading \n",
    "plt.xlabel('Actual', fontsize=18)                          # X-label\n",
    "plt.ylabel('Predictions', fontsize=16)                          # Y-label"
   ]
  },
  {
   "cell_type": "code",
   "execution_count": 188,
   "id": "ae3732e5",
   "metadata": {},
   "outputs": [],
   "source": [
    "from sklearn.metrics import r2_score"
   ]
  },
  {
   "cell_type": "code",
   "execution_count": 189,
   "id": "7331a481",
   "metadata": {},
   "outputs": [
    {
     "name": "stdout",
     "output_type": "stream",
     "text": [
      "Test data R2 value: 0.8113622892963182\n"
     ]
    }
   ],
   "source": [
    "print( \"Test data R2 value:\", r2_score(y_test, y_test_pred))"
   ]
  },
  {
   "cell_type": "code",
   "execution_count": 190,
   "id": "a2150c43",
   "metadata": {},
   "outputs": [
    {
     "name": "stdout",
     "output_type": "stream",
     "text": [
      "Adjusted R-Squared for Test dataset:  0.80324\n"
     ]
    }
   ],
   "source": [
    "# Adjusted R-Squared for test dataset\n",
    "N= len(X_test)         \n",
    "p =len(X_train__.columns)\n",
    "r2_test_score = 0.8113622892963182\n",
    "r2_test_adj = round((1-((1-r2_test_score)*(N-1)/(N-p-1))),5)\n",
    "print('Adjusted R-Squared for Test dataset: ', round(r2_test_adj,5))"
   ]
  },
  {
   "cell_type": "code",
   "execution_count": 191,
   "id": "ff351bbd",
   "metadata": {},
   "outputs": [
    {
     "name": "stdout",
     "output_type": "stream",
     "text": [
      "Training data R2 value: 0.827335322792071\n"
     ]
    }
   ],
   "source": [
    "print( \"Training data R2 value:\", r2_score(y_train, y_train_pred))"
   ]
  },
  {
   "cell_type": "code",
   "execution_count": 192,
   "id": "aa5d8f69",
   "metadata": {},
   "outputs": [
    {
     "name": "stdout",
     "output_type": "stream",
     "text": [
      "Adjusted R-Squared for Train dataset:  0.82423\n"
     ]
    }
   ],
   "source": [
    "# Adjusted R-Squared for train dataset\n",
    "N= len(X_train)         \n",
    "p =len(X_train__.columns)     \n",
    "r2_train_score = 0.827335322792071\n",
    "r2_train_adj = round((1-((1-r2_train_score)*(N-1)/(N-p-1))),5)\n",
    "print('Adjusted R-Squared for Train dataset: ', round(r2_train_adj,5))"
   ]
  },
  {
   "cell_type": "code",
   "execution_count": 193,
   "id": "047c35dd",
   "metadata": {},
   "outputs": [
    {
     "data": {
      "text/html": [
       "<div>\n",
       "<style scoped>\n",
       "    .dataframe tbody tr th:only-of-type {\n",
       "        vertical-align: middle;\n",
       "    }\n",
       "\n",
       "    .dataframe tbody tr th {\n",
       "        vertical-align: top;\n",
       "    }\n",
       "\n",
       "    .dataframe thead th {\n",
       "        text-align: right;\n",
       "    }\n",
       "</style>\n",
       "<table border=\"1\" class=\"dataframe\">\n",
       "  <thead>\n",
       "    <tr style=\"text-align: right;\">\n",
       "      <th></th>\n",
       "      <th>Features</th>\n",
       "      <th>VIF</th>\n",
       "    </tr>\n",
       "  </thead>\n",
       "  <tbody>\n",
       "    <tr>\n",
       "      <th>0</th>\n",
       "      <td>const</td>\n",
       "      <td>40.40</td>\n",
       "    </tr>\n",
       "    <tr>\n",
       "      <th>2</th>\n",
       "      <td>temp</td>\n",
       "      <td>2.37</td>\n",
       "    </tr>\n",
       "    <tr>\n",
       "      <th>3</th>\n",
       "      <td>hum</td>\n",
       "      <td>2.28</td>\n",
       "    </tr>\n",
       "    <tr>\n",
       "      <th>5</th>\n",
       "      <td>spring</td>\n",
       "      <td>1.87</td>\n",
       "    </tr>\n",
       "    <tr>\n",
       "      <th>7</th>\n",
       "      <td>mist</td>\n",
       "      <td>1.74</td>\n",
       "    </tr>\n",
       "    <tr>\n",
       "      <th>6</th>\n",
       "      <td>light snow</td>\n",
       "      <td>1.50</td>\n",
       "    </tr>\n",
       "    <tr>\n",
       "      <th>8</th>\n",
       "      <td>july</td>\n",
       "      <td>1.41</td>\n",
       "    </tr>\n",
       "    <tr>\n",
       "      <th>4</th>\n",
       "      <td>windspeed</td>\n",
       "      <td>1.24</td>\n",
       "    </tr>\n",
       "    <tr>\n",
       "      <th>9</th>\n",
       "      <td>sep</td>\n",
       "      <td>1.16</td>\n",
       "    </tr>\n",
       "    <tr>\n",
       "      <th>1</th>\n",
       "      <td>year</td>\n",
       "      <td>1.07</td>\n",
       "    </tr>\n",
       "  </tbody>\n",
       "</table>\n",
       "</div>"
      ],
      "text/plain": [
       "     Features    VIF\n",
       "0       const  40.40\n",
       "2        temp   2.37\n",
       "3         hum   2.28\n",
       "5      spring   1.87\n",
       "7        mist   1.74\n",
       "6  light snow   1.50\n",
       "8        july   1.41\n",
       "4   windspeed   1.24\n",
       "9         sep   1.16\n",
       "1        year   1.07"
      ]
     },
     "execution_count": 193,
     "metadata": {},
     "output_type": "execute_result"
    }
   ],
   "source": [
    "vif = pd.DataFrame()\n",
    "X = X_test_new\n",
    "vif['Features'] = X.columns\n",
    "vif['VIF'] = [variance_inflation_factor(X.values, i) for i in range(X.shape[1])]\n",
    "vif['VIF'] = round(vif['VIF'], 2)\n",
    "vif = vif.sort_values(by = \"VIF\", ascending = False)\n",
    "vif"
   ]
  },
  {
   "cell_type": "code",
   "execution_count": null,
   "id": "e91ea7d5",
   "metadata": {},
   "outputs": [],
   "source": []
  },
  {
   "cell_type": "markdown",
   "id": "a5218cb1",
   "metadata": {},
   "source": [
    "## Conclusion:\n",
    "    Based on the final model, top 3 features contributing are\n",
    "\t- temp, 0.4089\n",
    "\t- weathersit, -0.2936(Light Snow: -0.2353,Mist: -0.0583)\n",
    "\t- Year, 0.2332\n",
    "\n",
    "    \n",
    "    "
   ]
  },
  {
   "cell_type": "code",
   "execution_count": 194,
   "id": "1487bbf9",
   "metadata": {},
   "outputs": [
    {
     "name": "stdout",
     "output_type": "stream",
     "text": [
      "R-Squared for Training data: 0.82734\n",
      "Adjusted R-Squared for Train dataset:  0.82423\n",
      "R-Squared for Test data: 0.81136\n",
      "Adjusted R-Squared for Test dataset:  0.80324\n"
     ]
    }
   ],
   "source": [
    "print( \"R-Squared for Training data:\", round(r2_score(y_train, y_train_pred),5))\n",
    "print('Adjusted R-Squared for Train dataset: ', round(r2_train_adj,5))\n",
    "#------------------------------------------------\n",
    "print( \"R-Squared for Test data:\", round(r2_score(y_test, y_test_pred),5))\n",
    "print('Adjusted R-Squared for Test dataset: ', round(r2_test_adj,5))"
   ]
  },
  {
   "cell_type": "markdown",
   "id": "61f93b46",
   "metadata": {},
   "source": [
    "# Assumptions of Linear Regression:\n",
    "    The error terms are normally distributed.\n",
    "    The training and testing accuracy are nearly equal.\n",
    "    The predicted values have linear relationship with the actual values"
   ]
  },
  {
   "cell_type": "code",
   "execution_count": null,
   "id": "241fd74a",
   "metadata": {},
   "outputs": [],
   "source": []
  }
 ],
 "metadata": {
  "kernelspec": {
   "display_name": "Python 3 (ipykernel)",
   "language": "python",
   "name": "python3"
  },
  "language_info": {
   "codemirror_mode": {
    "name": "ipython",
    "version": 3
   },
   "file_extension": ".py",
   "mimetype": "text/x-python",
   "name": "python",
   "nbconvert_exporter": "python",
   "pygments_lexer": "ipython3",
   "version": "3.9.7"
  }
 },
 "nbformat": 4,
 "nbformat_minor": 5
}
